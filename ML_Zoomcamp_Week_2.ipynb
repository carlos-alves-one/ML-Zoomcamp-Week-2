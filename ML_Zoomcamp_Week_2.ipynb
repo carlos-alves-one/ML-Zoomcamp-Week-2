{
  "cells": [
    {
      "cell_type": "markdown",
      "metadata": {
        "id": "view-in-github",
        "colab_type": "text"
      },
      "source": [
        "<a href=\"https://colab.research.google.com/github/carlos-alves-one/-ML-Zoomcamp-Week-2/blob/main/ML_Zoomcamp_Week_2.ipynb\" target=\"_parent\"><img src=\"https://colab.research.google.com/assets/colab-badge.svg\" alt=\"Open In Colab\"/></a>"
      ]
    },
    {
      "cell_type": "markdown",
      "metadata": {
        "id": "ConpS3vdjwQ1"
      },
      "source": [
        "## Goldsmiths University of London\n",
        "**Author....: Carlos Manuel de Oliveira Alves**<br>\n",
        "**Student..: cdeol003**<br>\n",
        "**Created..: 08/09/2022**"
      ]
    },
    {
      "cell_type": "markdown",
      "metadata": {
        "id": "h59Y9r8bo6tP"
      },
      "source": [
        "###2. Machine Learning for Regression"
      ]
    },
    {
      "cell_type": "code",
      "execution_count": 2,
      "metadata": {
        "id": "zEakOYWAjiOo"
      },
      "outputs": [],
      "source": [
        "# Import Pandas and Numpy libraries\n",
        "import pandas as pd\n",
        "import numpy as np"
      ]
    },
    {
      "cell_type": "markdown",
      "metadata": {
        "id": "-vCnh8Pv65IF"
      },
      "source": [
        "###2.2 Data preparation"
      ]
    },
    {
      "cell_type": "code",
      "execution_count": 3,
      "metadata": {
        "id": "kP4dkEKwp3og"
      },
      "outputs": [],
      "source": [
        "data = 'https://raw.githubusercontent.com/alexeygrigorev/mlbookcamp-code/master/chapter-02-car-price/data.csv'"
      ]
    },
    {
      "cell_type": "code",
      "execution_count": 4,
      "metadata": {
        "colab": {
          "base_uri": "https://localhost:8080/"
        },
        "id": "ufijytkjHiNt",
        "outputId": "39497cef-6667-484d-c977-ecab47e8666d"
      },
      "outputs": [
        {
          "output_type": "stream",
          "name": "stdout",
          "text": [
            "--2022-09-13 13:06:58--  https://raw.githubusercontent.com/alexeygrigorev/mlbookcamp-code/master/chapter-02-car-price/data.csv\n",
            "Resolving raw.githubusercontent.com (raw.githubusercontent.com)... 185.199.108.133, 185.199.109.133, 185.199.110.133, ...\n",
            "Connecting to raw.githubusercontent.com (raw.githubusercontent.com)|185.199.108.133|:443... connected.\n",
            "HTTP request sent, awaiting response... 200 OK\n",
            "Length: 1475504 (1.4M) [text/plain]\n",
            "Saving to: ‘data.csv’\n",
            "\n",
            "data.csv            100%[===================>]   1.41M  --.-KB/s    in 0.06s   \n",
            "\n",
            "2022-09-13 13:06:59 (21.7 MB/s) - ‘data.csv’ saved [1475504/1475504]\n",
            "\n"
          ]
        }
      ],
      "source": [
        "!wget $data"
      ]
    },
    {
      "cell_type": "code",
      "execution_count": 5,
      "metadata": {
        "colab": {
          "base_uri": "https://localhost:8080/",
          "height": 478
        },
        "id": "gWZd3kA3Hl7q",
        "outputId": "eadf34dd-2f1a-4966-be97-54e52d2e3147"
      },
      "outputs": [
        {
          "output_type": "execute_result",
          "data": {
            "text/plain": [
              "  Make       Model  Year             Engine Fuel Type  Engine HP  \\\n",
              "0  BMW  1 Series M  2011  premium unleaded (required)      335.0   \n",
              "1  BMW    1 Series  2011  premium unleaded (required)      300.0   \n",
              "2  BMW    1 Series  2011  premium unleaded (required)      300.0   \n",
              "3  BMW    1 Series  2011  premium unleaded (required)      230.0   \n",
              "4  BMW    1 Series  2011  premium unleaded (required)      230.0   \n",
              "\n",
              "   Engine Cylinders Transmission Type     Driven_Wheels  Number of Doors  \\\n",
              "0               6.0            MANUAL  rear wheel drive              2.0   \n",
              "1               6.0            MANUAL  rear wheel drive              2.0   \n",
              "2               6.0            MANUAL  rear wheel drive              2.0   \n",
              "3               6.0            MANUAL  rear wheel drive              2.0   \n",
              "4               6.0            MANUAL  rear wheel drive              2.0   \n",
              "\n",
              "                         Market Category Vehicle Size Vehicle Style  \\\n",
              "0  Factory Tuner,Luxury,High-Performance      Compact         Coupe   \n",
              "1                     Luxury,Performance      Compact   Convertible   \n",
              "2                Luxury,High-Performance      Compact         Coupe   \n",
              "3                     Luxury,Performance      Compact         Coupe   \n",
              "4                                 Luxury      Compact   Convertible   \n",
              "\n",
              "   highway MPG  city mpg  Popularity   MSRP  \n",
              "0           26        19        3916  46135  \n",
              "1           28        19        3916  40650  \n",
              "2           28        20        3916  36350  \n",
              "3           28        18        3916  29450  \n",
              "4           28        18        3916  34500  "
            ],
            "text/html": [
              "\n",
              "  <div id=\"df-b2d2cd40-327a-4795-942e-32236373a751\">\n",
              "    <div class=\"colab-df-container\">\n",
              "      <div>\n",
              "<style scoped>\n",
              "    .dataframe tbody tr th:only-of-type {\n",
              "        vertical-align: middle;\n",
              "    }\n",
              "\n",
              "    .dataframe tbody tr th {\n",
              "        vertical-align: top;\n",
              "    }\n",
              "\n",
              "    .dataframe thead th {\n",
              "        text-align: right;\n",
              "    }\n",
              "</style>\n",
              "<table border=\"1\" class=\"dataframe\">\n",
              "  <thead>\n",
              "    <tr style=\"text-align: right;\">\n",
              "      <th></th>\n",
              "      <th>Make</th>\n",
              "      <th>Model</th>\n",
              "      <th>Year</th>\n",
              "      <th>Engine Fuel Type</th>\n",
              "      <th>Engine HP</th>\n",
              "      <th>Engine Cylinders</th>\n",
              "      <th>Transmission Type</th>\n",
              "      <th>Driven_Wheels</th>\n",
              "      <th>Number of Doors</th>\n",
              "      <th>Market Category</th>\n",
              "      <th>Vehicle Size</th>\n",
              "      <th>Vehicle Style</th>\n",
              "      <th>highway MPG</th>\n",
              "      <th>city mpg</th>\n",
              "      <th>Popularity</th>\n",
              "      <th>MSRP</th>\n",
              "    </tr>\n",
              "  </thead>\n",
              "  <tbody>\n",
              "    <tr>\n",
              "      <th>0</th>\n",
              "      <td>BMW</td>\n",
              "      <td>1 Series M</td>\n",
              "      <td>2011</td>\n",
              "      <td>premium unleaded (required)</td>\n",
              "      <td>335.0</td>\n",
              "      <td>6.0</td>\n",
              "      <td>MANUAL</td>\n",
              "      <td>rear wheel drive</td>\n",
              "      <td>2.0</td>\n",
              "      <td>Factory Tuner,Luxury,High-Performance</td>\n",
              "      <td>Compact</td>\n",
              "      <td>Coupe</td>\n",
              "      <td>26</td>\n",
              "      <td>19</td>\n",
              "      <td>3916</td>\n",
              "      <td>46135</td>\n",
              "    </tr>\n",
              "    <tr>\n",
              "      <th>1</th>\n",
              "      <td>BMW</td>\n",
              "      <td>1 Series</td>\n",
              "      <td>2011</td>\n",
              "      <td>premium unleaded (required)</td>\n",
              "      <td>300.0</td>\n",
              "      <td>6.0</td>\n",
              "      <td>MANUAL</td>\n",
              "      <td>rear wheel drive</td>\n",
              "      <td>2.0</td>\n",
              "      <td>Luxury,Performance</td>\n",
              "      <td>Compact</td>\n",
              "      <td>Convertible</td>\n",
              "      <td>28</td>\n",
              "      <td>19</td>\n",
              "      <td>3916</td>\n",
              "      <td>40650</td>\n",
              "    </tr>\n",
              "    <tr>\n",
              "      <th>2</th>\n",
              "      <td>BMW</td>\n",
              "      <td>1 Series</td>\n",
              "      <td>2011</td>\n",
              "      <td>premium unleaded (required)</td>\n",
              "      <td>300.0</td>\n",
              "      <td>6.0</td>\n",
              "      <td>MANUAL</td>\n",
              "      <td>rear wheel drive</td>\n",
              "      <td>2.0</td>\n",
              "      <td>Luxury,High-Performance</td>\n",
              "      <td>Compact</td>\n",
              "      <td>Coupe</td>\n",
              "      <td>28</td>\n",
              "      <td>20</td>\n",
              "      <td>3916</td>\n",
              "      <td>36350</td>\n",
              "    </tr>\n",
              "    <tr>\n",
              "      <th>3</th>\n",
              "      <td>BMW</td>\n",
              "      <td>1 Series</td>\n",
              "      <td>2011</td>\n",
              "      <td>premium unleaded (required)</td>\n",
              "      <td>230.0</td>\n",
              "      <td>6.0</td>\n",
              "      <td>MANUAL</td>\n",
              "      <td>rear wheel drive</td>\n",
              "      <td>2.0</td>\n",
              "      <td>Luxury,Performance</td>\n",
              "      <td>Compact</td>\n",
              "      <td>Coupe</td>\n",
              "      <td>28</td>\n",
              "      <td>18</td>\n",
              "      <td>3916</td>\n",
              "      <td>29450</td>\n",
              "    </tr>\n",
              "    <tr>\n",
              "      <th>4</th>\n",
              "      <td>BMW</td>\n",
              "      <td>1 Series</td>\n",
              "      <td>2011</td>\n",
              "      <td>premium unleaded (required)</td>\n",
              "      <td>230.0</td>\n",
              "      <td>6.0</td>\n",
              "      <td>MANUAL</td>\n",
              "      <td>rear wheel drive</td>\n",
              "      <td>2.0</td>\n",
              "      <td>Luxury</td>\n",
              "      <td>Compact</td>\n",
              "      <td>Convertible</td>\n",
              "      <td>28</td>\n",
              "      <td>18</td>\n",
              "      <td>3916</td>\n",
              "      <td>34500</td>\n",
              "    </tr>\n",
              "  </tbody>\n",
              "</table>\n",
              "</div>\n",
              "      <button class=\"colab-df-convert\" onclick=\"convertToInteractive('df-b2d2cd40-327a-4795-942e-32236373a751')\"\n",
              "              title=\"Convert this dataframe to an interactive table.\"\n",
              "              style=\"display:none;\">\n",
              "        \n",
              "  <svg xmlns=\"http://www.w3.org/2000/svg\" height=\"24px\"viewBox=\"0 0 24 24\"\n",
              "       width=\"24px\">\n",
              "    <path d=\"M0 0h24v24H0V0z\" fill=\"none\"/>\n",
              "    <path d=\"M18.56 5.44l.94 2.06.94-2.06 2.06-.94-2.06-.94-.94-2.06-.94 2.06-2.06.94zm-11 1L8.5 8.5l.94-2.06 2.06-.94-2.06-.94L8.5 2.5l-.94 2.06-2.06.94zm10 10l.94 2.06.94-2.06 2.06-.94-2.06-.94-.94-2.06-.94 2.06-2.06.94z\"/><path d=\"M17.41 7.96l-1.37-1.37c-.4-.4-.92-.59-1.43-.59-.52 0-1.04.2-1.43.59L10.3 9.45l-7.72 7.72c-.78.78-.78 2.05 0 2.83L4 21.41c.39.39.9.59 1.41.59.51 0 1.02-.2 1.41-.59l7.78-7.78 2.81-2.81c.8-.78.8-2.07 0-2.86zM5.41 20L4 18.59l7.72-7.72 1.47 1.35L5.41 20z\"/>\n",
              "  </svg>\n",
              "      </button>\n",
              "      \n",
              "  <style>\n",
              "    .colab-df-container {\n",
              "      display:flex;\n",
              "      flex-wrap:wrap;\n",
              "      gap: 12px;\n",
              "    }\n",
              "\n",
              "    .colab-df-convert {\n",
              "      background-color: #E8F0FE;\n",
              "      border: none;\n",
              "      border-radius: 50%;\n",
              "      cursor: pointer;\n",
              "      display: none;\n",
              "      fill: #1967D2;\n",
              "      height: 32px;\n",
              "      padding: 0 0 0 0;\n",
              "      width: 32px;\n",
              "    }\n",
              "\n",
              "    .colab-df-convert:hover {\n",
              "      background-color: #E2EBFA;\n",
              "      box-shadow: 0px 1px 2px rgba(60, 64, 67, 0.3), 0px 1px 3px 1px rgba(60, 64, 67, 0.15);\n",
              "      fill: #174EA6;\n",
              "    }\n",
              "\n",
              "    [theme=dark] .colab-df-convert {\n",
              "      background-color: #3B4455;\n",
              "      fill: #D2E3FC;\n",
              "    }\n",
              "\n",
              "    [theme=dark] .colab-df-convert:hover {\n",
              "      background-color: #434B5C;\n",
              "      box-shadow: 0px 1px 3px 1px rgba(0, 0, 0, 0.15);\n",
              "      filter: drop-shadow(0px 1px 2px rgba(0, 0, 0, 0.3));\n",
              "      fill: #FFFFFF;\n",
              "    }\n",
              "  </style>\n",
              "\n",
              "      <script>\n",
              "        const buttonEl =\n",
              "          document.querySelector('#df-b2d2cd40-327a-4795-942e-32236373a751 button.colab-df-convert');\n",
              "        buttonEl.style.display =\n",
              "          google.colab.kernel.accessAllowed ? 'block' : 'none';\n",
              "\n",
              "        async function convertToInteractive(key) {\n",
              "          const element = document.querySelector('#df-b2d2cd40-327a-4795-942e-32236373a751');\n",
              "          const dataTable =\n",
              "            await google.colab.kernel.invokeFunction('convertToInteractive',\n",
              "                                                     [key], {});\n",
              "          if (!dataTable) return;\n",
              "\n",
              "          const docLinkHtml = 'Like what you see? Visit the ' +\n",
              "            '<a target=\"_blank\" href=https://colab.research.google.com/notebooks/data_table.ipynb>data table notebook</a>'\n",
              "            + ' to learn more about interactive tables.';\n",
              "          element.innerHTML = '';\n",
              "          dataTable['output_type'] = 'display_data';\n",
              "          await google.colab.output.renderOutput(dataTable, element);\n",
              "          const docLink = document.createElement('div');\n",
              "          docLink.innerHTML = docLinkHtml;\n",
              "          element.appendChild(docLink);\n",
              "        }\n",
              "      </script>\n",
              "    </div>\n",
              "  </div>\n",
              "  "
            ]
          },
          "metadata": {},
          "execution_count": 5
        }
      ],
      "source": [
        "# Read the data, store it and print the first rows\n",
        "df = pd.read_csv('data.csv')\n",
        "df.head()"
      ]
    },
    {
      "cell_type": "code",
      "execution_count": 6,
      "metadata": {
        "id": "uONbRz11IMSK"
      },
      "outputs": [],
      "source": [
        "# after we print the data we check for inconsistency e.g. names of the columns\n",
        "# on this data we have underscores, spaces between the names\n",
        "# what we need to do is cleaning to make it consistent e.g. make it lower case\n",
        "# everywhere and replace spaces with underscores"
      ]
    },
    {
      "cell_type": "code",
      "execution_count": 7,
      "metadata": {
        "colab": {
          "base_uri": "https://localhost:8080/"
        },
        "id": "1Aqk9GejLGZm",
        "outputId": "4aa3581d-f154-480a-9204-05fd801f94b2"
      },
      "outputs": [
        {
          "output_type": "execute_result",
          "data": {
            "text/plain": [
              "Index(['Make', 'Model', 'Year', 'Engine Fuel Type', 'Engine HP',\n",
              "       'Engine Cylinders', 'Transmission Type', 'Driven_Wheels',\n",
              "       'Number of Doors', 'Market Category', 'Vehicle Size', 'Vehicle Style',\n",
              "       'highway MPG', 'city mpg', 'Popularity', 'MSRP'],\n",
              "      dtype='object')"
            ]
          },
          "metadata": {},
          "execution_count": 7
        }
      ],
      "source": [
        "# Use method columns to print the names of the columns\n",
        "df.columns"
      ]
    },
    {
      "cell_type": "code",
      "execution_count": 8,
      "metadata": {
        "colab": {
          "base_uri": "https://localhost:8080/"
        },
        "id": "Uw9mjvckLJsP",
        "outputId": "626bb019-6ffc-4c89-eb8e-6132bffdf7d7"
      },
      "outputs": [
        {
          "output_type": "execute_result",
          "data": {
            "text/plain": [
              "Index(['make', 'model', 'year', 'engine fuel type', 'engine hp',\n",
              "       'engine cylinders', 'transmission type', 'driven_wheels',\n",
              "       'number of doors', 'market category', 'vehicle size', 'vehicle style',\n",
              "       'highway mpg', 'city mpg', 'popularity', 'msrp'],\n",
              "      dtype='object')"
            ]
          },
          "metadata": {},
          "execution_count": 8
        }
      ],
      "source": [
        "# Use the string function to do strings manipulations\n",
        "df.columns.str.lower()"
      ]
    },
    {
      "cell_type": "code",
      "execution_count": 9,
      "metadata": {
        "colab": {
          "base_uri": "https://localhost:8080/"
        },
        "id": "QqhKtqG1MANF",
        "outputId": "e540f9a1-e56b-4056-c89b-b60b527198d8"
      },
      "outputs": [
        {
          "output_type": "execute_result",
          "data": {
            "text/plain": [
              "Index(['make', 'model', 'year', 'engine_fuel_type', 'engine_hp',\n",
              "       'engine_cylinders', 'transmission_type', 'driven_wheels',\n",
              "       'number_of_doors', 'market_category', 'vehicle_size', 'vehicle_style',\n",
              "       'highway_mpg', 'city_mpg', 'popularity', 'msrp'],\n",
              "      dtype='object')"
            ]
          },
          "metadata": {},
          "execution_count": 9
        }
      ],
      "source": [
        "# Convert the names of the columns to lower and replace the spaces with underscores\n",
        "df.columns = df.columns.str.lower().str.replace(' ', '_')\n",
        "df.columns"
      ]
    },
    {
      "cell_type": "code",
      "execution_count": 10,
      "metadata": {
        "colab": {
          "base_uri": "https://localhost:8080/",
          "height": 374
        },
        "id": "To1mUxOOMyey",
        "outputId": "463737a7-4e72-4031-8a21-6a178ea1bb50"
      },
      "outputs": [
        {
          "output_type": "execute_result",
          "data": {
            "text/plain": [
              "  make       model  year             engine_fuel_type  engine_hp  \\\n",
              "0  BMW  1 Series M  2011  premium unleaded (required)      335.0   \n",
              "1  BMW    1 Series  2011  premium unleaded (required)      300.0   \n",
              "2  BMW    1 Series  2011  premium unleaded (required)      300.0   \n",
              "3  BMW    1 Series  2011  premium unleaded (required)      230.0   \n",
              "4  BMW    1 Series  2011  premium unleaded (required)      230.0   \n",
              "\n",
              "   engine_cylinders transmission_type     driven_wheels  number_of_doors  \\\n",
              "0               6.0            MANUAL  rear wheel drive              2.0   \n",
              "1               6.0            MANUAL  rear wheel drive              2.0   \n",
              "2               6.0            MANUAL  rear wheel drive              2.0   \n",
              "3               6.0            MANUAL  rear wheel drive              2.0   \n",
              "4               6.0            MANUAL  rear wheel drive              2.0   \n",
              "\n",
              "                         market_category vehicle_size vehicle_style  \\\n",
              "0  Factory Tuner,Luxury,High-Performance      Compact         Coupe   \n",
              "1                     Luxury,Performance      Compact   Convertible   \n",
              "2                Luxury,High-Performance      Compact         Coupe   \n",
              "3                     Luxury,Performance      Compact         Coupe   \n",
              "4                                 Luxury      Compact   Convertible   \n",
              "\n",
              "   highway_mpg  city_mpg  popularity   msrp  \n",
              "0           26        19        3916  46135  \n",
              "1           28        19        3916  40650  \n",
              "2           28        20        3916  36350  \n",
              "3           28        18        3916  29450  \n",
              "4           28        18        3916  34500  "
            ],
            "text/html": [
              "\n",
              "  <div id=\"df-adf79cee-d757-47be-935c-0d3e4b3735fd\">\n",
              "    <div class=\"colab-df-container\">\n",
              "      <div>\n",
              "<style scoped>\n",
              "    .dataframe tbody tr th:only-of-type {\n",
              "        vertical-align: middle;\n",
              "    }\n",
              "\n",
              "    .dataframe tbody tr th {\n",
              "        vertical-align: top;\n",
              "    }\n",
              "\n",
              "    .dataframe thead th {\n",
              "        text-align: right;\n",
              "    }\n",
              "</style>\n",
              "<table border=\"1\" class=\"dataframe\">\n",
              "  <thead>\n",
              "    <tr style=\"text-align: right;\">\n",
              "      <th></th>\n",
              "      <th>make</th>\n",
              "      <th>model</th>\n",
              "      <th>year</th>\n",
              "      <th>engine_fuel_type</th>\n",
              "      <th>engine_hp</th>\n",
              "      <th>engine_cylinders</th>\n",
              "      <th>transmission_type</th>\n",
              "      <th>driven_wheels</th>\n",
              "      <th>number_of_doors</th>\n",
              "      <th>market_category</th>\n",
              "      <th>vehicle_size</th>\n",
              "      <th>vehicle_style</th>\n",
              "      <th>highway_mpg</th>\n",
              "      <th>city_mpg</th>\n",
              "      <th>popularity</th>\n",
              "      <th>msrp</th>\n",
              "    </tr>\n",
              "  </thead>\n",
              "  <tbody>\n",
              "    <tr>\n",
              "      <th>0</th>\n",
              "      <td>BMW</td>\n",
              "      <td>1 Series M</td>\n",
              "      <td>2011</td>\n",
              "      <td>premium unleaded (required)</td>\n",
              "      <td>335.0</td>\n",
              "      <td>6.0</td>\n",
              "      <td>MANUAL</td>\n",
              "      <td>rear wheel drive</td>\n",
              "      <td>2.0</td>\n",
              "      <td>Factory Tuner,Luxury,High-Performance</td>\n",
              "      <td>Compact</td>\n",
              "      <td>Coupe</td>\n",
              "      <td>26</td>\n",
              "      <td>19</td>\n",
              "      <td>3916</td>\n",
              "      <td>46135</td>\n",
              "    </tr>\n",
              "    <tr>\n",
              "      <th>1</th>\n",
              "      <td>BMW</td>\n",
              "      <td>1 Series</td>\n",
              "      <td>2011</td>\n",
              "      <td>premium unleaded (required)</td>\n",
              "      <td>300.0</td>\n",
              "      <td>6.0</td>\n",
              "      <td>MANUAL</td>\n",
              "      <td>rear wheel drive</td>\n",
              "      <td>2.0</td>\n",
              "      <td>Luxury,Performance</td>\n",
              "      <td>Compact</td>\n",
              "      <td>Convertible</td>\n",
              "      <td>28</td>\n",
              "      <td>19</td>\n",
              "      <td>3916</td>\n",
              "      <td>40650</td>\n",
              "    </tr>\n",
              "    <tr>\n",
              "      <th>2</th>\n",
              "      <td>BMW</td>\n",
              "      <td>1 Series</td>\n",
              "      <td>2011</td>\n",
              "      <td>premium unleaded (required)</td>\n",
              "      <td>300.0</td>\n",
              "      <td>6.0</td>\n",
              "      <td>MANUAL</td>\n",
              "      <td>rear wheel drive</td>\n",
              "      <td>2.0</td>\n",
              "      <td>Luxury,High-Performance</td>\n",
              "      <td>Compact</td>\n",
              "      <td>Coupe</td>\n",
              "      <td>28</td>\n",
              "      <td>20</td>\n",
              "      <td>3916</td>\n",
              "      <td>36350</td>\n",
              "    </tr>\n",
              "    <tr>\n",
              "      <th>3</th>\n",
              "      <td>BMW</td>\n",
              "      <td>1 Series</td>\n",
              "      <td>2011</td>\n",
              "      <td>premium unleaded (required)</td>\n",
              "      <td>230.0</td>\n",
              "      <td>6.0</td>\n",
              "      <td>MANUAL</td>\n",
              "      <td>rear wheel drive</td>\n",
              "      <td>2.0</td>\n",
              "      <td>Luxury,Performance</td>\n",
              "      <td>Compact</td>\n",
              "      <td>Coupe</td>\n",
              "      <td>28</td>\n",
              "      <td>18</td>\n",
              "      <td>3916</td>\n",
              "      <td>29450</td>\n",
              "    </tr>\n",
              "    <tr>\n",
              "      <th>4</th>\n",
              "      <td>BMW</td>\n",
              "      <td>1 Series</td>\n",
              "      <td>2011</td>\n",
              "      <td>premium unleaded (required)</td>\n",
              "      <td>230.0</td>\n",
              "      <td>6.0</td>\n",
              "      <td>MANUAL</td>\n",
              "      <td>rear wheel drive</td>\n",
              "      <td>2.0</td>\n",
              "      <td>Luxury</td>\n",
              "      <td>Compact</td>\n",
              "      <td>Convertible</td>\n",
              "      <td>28</td>\n",
              "      <td>18</td>\n",
              "      <td>3916</td>\n",
              "      <td>34500</td>\n",
              "    </tr>\n",
              "  </tbody>\n",
              "</table>\n",
              "</div>\n",
              "      <button class=\"colab-df-convert\" onclick=\"convertToInteractive('df-adf79cee-d757-47be-935c-0d3e4b3735fd')\"\n",
              "              title=\"Convert this dataframe to an interactive table.\"\n",
              "              style=\"display:none;\">\n",
              "        \n",
              "  <svg xmlns=\"http://www.w3.org/2000/svg\" height=\"24px\"viewBox=\"0 0 24 24\"\n",
              "       width=\"24px\">\n",
              "    <path d=\"M0 0h24v24H0V0z\" fill=\"none\"/>\n",
              "    <path d=\"M18.56 5.44l.94 2.06.94-2.06 2.06-.94-2.06-.94-.94-2.06-.94 2.06-2.06.94zm-11 1L8.5 8.5l.94-2.06 2.06-.94-2.06-.94L8.5 2.5l-.94 2.06-2.06.94zm10 10l.94 2.06.94-2.06 2.06-.94-2.06-.94-.94-2.06-.94 2.06-2.06.94z\"/><path d=\"M17.41 7.96l-1.37-1.37c-.4-.4-.92-.59-1.43-.59-.52 0-1.04.2-1.43.59L10.3 9.45l-7.72 7.72c-.78.78-.78 2.05 0 2.83L4 21.41c.39.39.9.59 1.41.59.51 0 1.02-.2 1.41-.59l7.78-7.78 2.81-2.81c.8-.78.8-2.07 0-2.86zM5.41 20L4 18.59l7.72-7.72 1.47 1.35L5.41 20z\"/>\n",
              "  </svg>\n",
              "      </button>\n",
              "      \n",
              "  <style>\n",
              "    .colab-df-container {\n",
              "      display:flex;\n",
              "      flex-wrap:wrap;\n",
              "      gap: 12px;\n",
              "    }\n",
              "\n",
              "    .colab-df-convert {\n",
              "      background-color: #E8F0FE;\n",
              "      border: none;\n",
              "      border-radius: 50%;\n",
              "      cursor: pointer;\n",
              "      display: none;\n",
              "      fill: #1967D2;\n",
              "      height: 32px;\n",
              "      padding: 0 0 0 0;\n",
              "      width: 32px;\n",
              "    }\n",
              "\n",
              "    .colab-df-convert:hover {\n",
              "      background-color: #E2EBFA;\n",
              "      box-shadow: 0px 1px 2px rgba(60, 64, 67, 0.3), 0px 1px 3px 1px rgba(60, 64, 67, 0.15);\n",
              "      fill: #174EA6;\n",
              "    }\n",
              "\n",
              "    [theme=dark] .colab-df-convert {\n",
              "      background-color: #3B4455;\n",
              "      fill: #D2E3FC;\n",
              "    }\n",
              "\n",
              "    [theme=dark] .colab-df-convert:hover {\n",
              "      background-color: #434B5C;\n",
              "      box-shadow: 0px 1px 3px 1px rgba(0, 0, 0, 0.15);\n",
              "      filter: drop-shadow(0px 1px 2px rgba(0, 0, 0, 0.3));\n",
              "      fill: #FFFFFF;\n",
              "    }\n",
              "  </style>\n",
              "\n",
              "      <script>\n",
              "        const buttonEl =\n",
              "          document.querySelector('#df-adf79cee-d757-47be-935c-0d3e4b3735fd button.colab-df-convert');\n",
              "        buttonEl.style.display =\n",
              "          google.colab.kernel.accessAllowed ? 'block' : 'none';\n",
              "\n",
              "        async function convertToInteractive(key) {\n",
              "          const element = document.querySelector('#df-adf79cee-d757-47be-935c-0d3e4b3735fd');\n",
              "          const dataTable =\n",
              "            await google.colab.kernel.invokeFunction('convertToInteractive',\n",
              "                                                     [key], {});\n",
              "          if (!dataTable) return;\n",
              "\n",
              "          const docLinkHtml = 'Like what you see? Visit the ' +\n",
              "            '<a target=\"_blank\" href=https://colab.research.google.com/notebooks/data_table.ipynb>data table notebook</a>'\n",
              "            + ' to learn more about interactive tables.';\n",
              "          element.innerHTML = '';\n",
              "          dataTable['output_type'] = 'display_data';\n",
              "          await google.colab.output.renderOutput(dataTable, element);\n",
              "          const docLink = document.createElement('div');\n",
              "          docLink.innerHTML = docLinkHtml;\n",
              "          element.appendChild(docLink);\n",
              "        }\n",
              "      </script>\n",
              "    </div>\n",
              "  </div>\n",
              "  "
            ]
          },
          "metadata": {},
          "execution_count": 10
        }
      ],
      "source": [
        "df.head()"
      ]
    },
    {
      "cell_type": "code",
      "execution_count": 11,
      "metadata": {
        "id": "0R6I1M2DNMwG"
      },
      "outputs": [],
      "source": [
        "# next step check the values of the data\n",
        "# in this data we can see sometimes we have capital letters\n",
        "# and sometimes its not capital letters \n",
        "# to make consistent we need to isolate the columns with only strings\n",
        "# for that we use the method dtypes"
      ]
    },
    {
      "cell_type": "code",
      "execution_count": 12,
      "metadata": {
        "colab": {
          "base_uri": "https://localhost:8080/"
        },
        "id": "dV2fodkIOmp9",
        "outputId": "11c5b792-5d5b-46c5-ea8e-c1de5082def3"
      },
      "outputs": [
        {
          "output_type": "execute_result",
          "data": {
            "text/plain": [
              "make                  object\n",
              "model                 object\n",
              "year                   int64\n",
              "engine_fuel_type      object\n",
              "engine_hp            float64\n",
              "engine_cylinders     float64\n",
              "transmission_type     object\n",
              "driven_wheels         object\n",
              "number_of_doors      float64\n",
              "market_category       object\n",
              "vehicle_size          object\n",
              "vehicle_style         object\n",
              "highway_mpg            int64\n",
              "city_mpg               int64\n",
              "popularity             int64\n",
              "msrp                   int64\n",
              "dtype: object"
            ]
          },
          "metadata": {},
          "execution_count": 12
        }
      ],
      "source": [
        "# Use the method dtypes that returns the type of all columns\n",
        "# and we are only interested in objects = strings\n",
        "df.dtypes"
      ]
    },
    {
      "cell_type": "code",
      "execution_count": 13,
      "metadata": {
        "colab": {
          "base_uri": "https://localhost:8080/"
        },
        "id": "ctjghlnaOsLW",
        "outputId": "4228c03e-8f9d-47f9-d462-4bc86b9da398"
      },
      "outputs": [
        {
          "output_type": "execute_result",
          "data": {
            "text/plain": [
              "make                  True\n",
              "model                 True\n",
              "year                 False\n",
              "engine_fuel_type      True\n",
              "engine_hp            False\n",
              "engine_cylinders     False\n",
              "transmission_type     True\n",
              "driven_wheels         True\n",
              "number_of_doors      False\n",
              "market_category       True\n",
              "vehicle_size          True\n",
              "vehicle_style         True\n",
              "highway_mpg          False\n",
              "city_mpg             False\n",
              "popularity           False\n",
              "msrp                 False\n",
              "dtype: bool"
            ]
          },
          "metadata": {},
          "execution_count": 13
        }
      ],
      "source": [
        "# Find only columns with type object\n",
        "df.dtypes == 'object'\n",
        "# true means its an object"
      ]
    },
    {
      "cell_type": "code",
      "execution_count": 14,
      "metadata": {
        "colab": {
          "base_uri": "https://localhost:8080/"
        },
        "id": "JjOz53gsPnQh",
        "outputId": "ffa2f916-1b8b-4e9a-8807-9b5402d147fe"
      },
      "outputs": [
        {
          "output_type": "execute_result",
          "data": {
            "text/plain": [
              "make                 object\n",
              "model                object\n",
              "engine_fuel_type     object\n",
              "transmission_type    object\n",
              "driven_wheels        object\n",
              "market_category      object\n",
              "vehicle_size         object\n",
              "vehicle_style        object\n",
              "dtype: object"
            ]
          },
          "metadata": {},
          "execution_count": 14
        }
      ],
      "source": [
        "# Select only the object columns\n",
        "df.dtypes[df.dtypes == 'object']"
      ]
    },
    {
      "cell_type": "code",
      "execution_count": 15,
      "metadata": {
        "id": "vZUSkXTXQvNm"
      },
      "outputs": [],
      "source": [
        "# the object are called series and are the values\n",
        "# the name of the column e.g. 'make' are the index of the series"
      ]
    },
    {
      "cell_type": "code",
      "execution_count": 16,
      "metadata": {
        "colab": {
          "base_uri": "https://localhost:8080/"
        },
        "id": "E9DkQXn0SmB_",
        "outputId": "219e755e-c936-4252-b4da-f70004cb970c"
      },
      "outputs": [
        {
          "output_type": "execute_result",
          "data": {
            "text/plain": [
              "Index(['make', 'model', 'engine_fuel_type', 'transmission_type',\n",
              "       'driven_wheels', 'market_category', 'vehicle_size', 'vehicle_style'],\n",
              "      dtype='object')"
            ]
          },
          "metadata": {},
          "execution_count": 16
        }
      ],
      "source": [
        "# Get the names of the columns are object\n",
        "df.dtypes[df.dtypes == 'object'].index"
      ]
    },
    {
      "cell_type": "code",
      "execution_count": 17,
      "metadata": {
        "colab": {
          "base_uri": "https://localhost:8080/"
        },
        "id": "03ql1mPCS3y0",
        "outputId": "6fcc3234-2819-4754-fa04-8eb3d5f9d555"
      },
      "outputs": [
        {
          "output_type": "execute_result",
          "data": {
            "text/plain": [
              "['make',\n",
              " 'model',\n",
              " 'engine_fuel_type',\n",
              " 'transmission_type',\n",
              " 'driven_wheels',\n",
              " 'market_category',\n",
              " 'vehicle_size',\n",
              " 'vehicle_style']"
            ]
          },
          "metadata": {},
          "execution_count": 17
        }
      ],
      "source": [
        "# Convert the result to python list\n",
        "strings = list(df.dtypes[df.dtypes == 'object'].index)\n",
        "strings"
      ]
    },
    {
      "cell_type": "code",
      "execution_count": 18,
      "metadata": {
        "id": "yRH_MtkfVSlc"
      },
      "outputs": [],
      "source": [
        "# Use for loop to make all the data consistent\n",
        "for col in strings:\n",
        "  df[col] = df[col].str.lower().str.replace(' ', '_')"
      ]
    },
    {
      "cell_type": "code",
      "execution_count": 19,
      "metadata": {
        "colab": {
          "base_uri": "https://localhost:8080/",
          "height": 287
        },
        "id": "snYTLpdMWhiY",
        "outputId": "1a719f20-3298-49a6-f6c6-0c2a3729494d"
      },
      "outputs": [
        {
          "output_type": "execute_result",
          "data": {
            "text/plain": [
              "  make       model  year             engine_fuel_type  engine_hp  \\\n",
              "0  bmw  1_series_m  2011  premium_unleaded_(required)      335.0   \n",
              "1  bmw    1_series  2011  premium_unleaded_(required)      300.0   \n",
              "2  bmw    1_series  2011  premium_unleaded_(required)      300.0   \n",
              "3  bmw    1_series  2011  premium_unleaded_(required)      230.0   \n",
              "4  bmw    1_series  2011  premium_unleaded_(required)      230.0   \n",
              "\n",
              "   engine_cylinders transmission_type     driven_wheels  number_of_doors  \\\n",
              "0               6.0            manual  rear_wheel_drive              2.0   \n",
              "1               6.0            manual  rear_wheel_drive              2.0   \n",
              "2               6.0            manual  rear_wheel_drive              2.0   \n",
              "3               6.0            manual  rear_wheel_drive              2.0   \n",
              "4               6.0            manual  rear_wheel_drive              2.0   \n",
              "\n",
              "                         market_category vehicle_size vehicle_style  \\\n",
              "0  factory_tuner,luxury,high-performance      compact         coupe   \n",
              "1                     luxury,performance      compact   convertible   \n",
              "2                luxury,high-performance      compact         coupe   \n",
              "3                     luxury,performance      compact         coupe   \n",
              "4                                 luxury      compact   convertible   \n",
              "\n",
              "   highway_mpg  city_mpg  popularity   msrp  \n",
              "0           26        19        3916  46135  \n",
              "1           28        19        3916  40650  \n",
              "2           28        20        3916  36350  \n",
              "3           28        18        3916  29450  \n",
              "4           28        18        3916  34500  "
            ],
            "text/html": [
              "\n",
              "  <div id=\"df-e2ac7e45-210d-4a7d-bb8b-5fa08c5fb8da\">\n",
              "    <div class=\"colab-df-container\">\n",
              "      <div>\n",
              "<style scoped>\n",
              "    .dataframe tbody tr th:only-of-type {\n",
              "        vertical-align: middle;\n",
              "    }\n",
              "\n",
              "    .dataframe tbody tr th {\n",
              "        vertical-align: top;\n",
              "    }\n",
              "\n",
              "    .dataframe thead th {\n",
              "        text-align: right;\n",
              "    }\n",
              "</style>\n",
              "<table border=\"1\" class=\"dataframe\">\n",
              "  <thead>\n",
              "    <tr style=\"text-align: right;\">\n",
              "      <th></th>\n",
              "      <th>make</th>\n",
              "      <th>model</th>\n",
              "      <th>year</th>\n",
              "      <th>engine_fuel_type</th>\n",
              "      <th>engine_hp</th>\n",
              "      <th>engine_cylinders</th>\n",
              "      <th>transmission_type</th>\n",
              "      <th>driven_wheels</th>\n",
              "      <th>number_of_doors</th>\n",
              "      <th>market_category</th>\n",
              "      <th>vehicle_size</th>\n",
              "      <th>vehicle_style</th>\n",
              "      <th>highway_mpg</th>\n",
              "      <th>city_mpg</th>\n",
              "      <th>popularity</th>\n",
              "      <th>msrp</th>\n",
              "    </tr>\n",
              "  </thead>\n",
              "  <tbody>\n",
              "    <tr>\n",
              "      <th>0</th>\n",
              "      <td>bmw</td>\n",
              "      <td>1_series_m</td>\n",
              "      <td>2011</td>\n",
              "      <td>premium_unleaded_(required)</td>\n",
              "      <td>335.0</td>\n",
              "      <td>6.0</td>\n",
              "      <td>manual</td>\n",
              "      <td>rear_wheel_drive</td>\n",
              "      <td>2.0</td>\n",
              "      <td>factory_tuner,luxury,high-performance</td>\n",
              "      <td>compact</td>\n",
              "      <td>coupe</td>\n",
              "      <td>26</td>\n",
              "      <td>19</td>\n",
              "      <td>3916</td>\n",
              "      <td>46135</td>\n",
              "    </tr>\n",
              "    <tr>\n",
              "      <th>1</th>\n",
              "      <td>bmw</td>\n",
              "      <td>1_series</td>\n",
              "      <td>2011</td>\n",
              "      <td>premium_unleaded_(required)</td>\n",
              "      <td>300.0</td>\n",
              "      <td>6.0</td>\n",
              "      <td>manual</td>\n",
              "      <td>rear_wheel_drive</td>\n",
              "      <td>2.0</td>\n",
              "      <td>luxury,performance</td>\n",
              "      <td>compact</td>\n",
              "      <td>convertible</td>\n",
              "      <td>28</td>\n",
              "      <td>19</td>\n",
              "      <td>3916</td>\n",
              "      <td>40650</td>\n",
              "    </tr>\n",
              "    <tr>\n",
              "      <th>2</th>\n",
              "      <td>bmw</td>\n",
              "      <td>1_series</td>\n",
              "      <td>2011</td>\n",
              "      <td>premium_unleaded_(required)</td>\n",
              "      <td>300.0</td>\n",
              "      <td>6.0</td>\n",
              "      <td>manual</td>\n",
              "      <td>rear_wheel_drive</td>\n",
              "      <td>2.0</td>\n",
              "      <td>luxury,high-performance</td>\n",
              "      <td>compact</td>\n",
              "      <td>coupe</td>\n",
              "      <td>28</td>\n",
              "      <td>20</td>\n",
              "      <td>3916</td>\n",
              "      <td>36350</td>\n",
              "    </tr>\n",
              "    <tr>\n",
              "      <th>3</th>\n",
              "      <td>bmw</td>\n",
              "      <td>1_series</td>\n",
              "      <td>2011</td>\n",
              "      <td>premium_unleaded_(required)</td>\n",
              "      <td>230.0</td>\n",
              "      <td>6.0</td>\n",
              "      <td>manual</td>\n",
              "      <td>rear_wheel_drive</td>\n",
              "      <td>2.0</td>\n",
              "      <td>luxury,performance</td>\n",
              "      <td>compact</td>\n",
              "      <td>coupe</td>\n",
              "      <td>28</td>\n",
              "      <td>18</td>\n",
              "      <td>3916</td>\n",
              "      <td>29450</td>\n",
              "    </tr>\n",
              "    <tr>\n",
              "      <th>4</th>\n",
              "      <td>bmw</td>\n",
              "      <td>1_series</td>\n",
              "      <td>2011</td>\n",
              "      <td>premium_unleaded_(required)</td>\n",
              "      <td>230.0</td>\n",
              "      <td>6.0</td>\n",
              "      <td>manual</td>\n",
              "      <td>rear_wheel_drive</td>\n",
              "      <td>2.0</td>\n",
              "      <td>luxury</td>\n",
              "      <td>compact</td>\n",
              "      <td>convertible</td>\n",
              "      <td>28</td>\n",
              "      <td>18</td>\n",
              "      <td>3916</td>\n",
              "      <td>34500</td>\n",
              "    </tr>\n",
              "  </tbody>\n",
              "</table>\n",
              "</div>\n",
              "      <button class=\"colab-df-convert\" onclick=\"convertToInteractive('df-e2ac7e45-210d-4a7d-bb8b-5fa08c5fb8da')\"\n",
              "              title=\"Convert this dataframe to an interactive table.\"\n",
              "              style=\"display:none;\">\n",
              "        \n",
              "  <svg xmlns=\"http://www.w3.org/2000/svg\" height=\"24px\"viewBox=\"0 0 24 24\"\n",
              "       width=\"24px\">\n",
              "    <path d=\"M0 0h24v24H0V0z\" fill=\"none\"/>\n",
              "    <path d=\"M18.56 5.44l.94 2.06.94-2.06 2.06-.94-2.06-.94-.94-2.06-.94 2.06-2.06.94zm-11 1L8.5 8.5l.94-2.06 2.06-.94-2.06-.94L8.5 2.5l-.94 2.06-2.06.94zm10 10l.94 2.06.94-2.06 2.06-.94-2.06-.94-.94-2.06-.94 2.06-2.06.94z\"/><path d=\"M17.41 7.96l-1.37-1.37c-.4-.4-.92-.59-1.43-.59-.52 0-1.04.2-1.43.59L10.3 9.45l-7.72 7.72c-.78.78-.78 2.05 0 2.83L4 21.41c.39.39.9.59 1.41.59.51 0 1.02-.2 1.41-.59l7.78-7.78 2.81-2.81c.8-.78.8-2.07 0-2.86zM5.41 20L4 18.59l7.72-7.72 1.47 1.35L5.41 20z\"/>\n",
              "  </svg>\n",
              "      </button>\n",
              "      \n",
              "  <style>\n",
              "    .colab-df-container {\n",
              "      display:flex;\n",
              "      flex-wrap:wrap;\n",
              "      gap: 12px;\n",
              "    }\n",
              "\n",
              "    .colab-df-convert {\n",
              "      background-color: #E8F0FE;\n",
              "      border: none;\n",
              "      border-radius: 50%;\n",
              "      cursor: pointer;\n",
              "      display: none;\n",
              "      fill: #1967D2;\n",
              "      height: 32px;\n",
              "      padding: 0 0 0 0;\n",
              "      width: 32px;\n",
              "    }\n",
              "\n",
              "    .colab-df-convert:hover {\n",
              "      background-color: #E2EBFA;\n",
              "      box-shadow: 0px 1px 2px rgba(60, 64, 67, 0.3), 0px 1px 3px 1px rgba(60, 64, 67, 0.15);\n",
              "      fill: #174EA6;\n",
              "    }\n",
              "\n",
              "    [theme=dark] .colab-df-convert {\n",
              "      background-color: #3B4455;\n",
              "      fill: #D2E3FC;\n",
              "    }\n",
              "\n",
              "    [theme=dark] .colab-df-convert:hover {\n",
              "      background-color: #434B5C;\n",
              "      box-shadow: 0px 1px 3px 1px rgba(0, 0, 0, 0.15);\n",
              "      filter: drop-shadow(0px 1px 2px rgba(0, 0, 0, 0.3));\n",
              "      fill: #FFFFFF;\n",
              "    }\n",
              "  </style>\n",
              "\n",
              "      <script>\n",
              "        const buttonEl =\n",
              "          document.querySelector('#df-e2ac7e45-210d-4a7d-bb8b-5fa08c5fb8da button.colab-df-convert');\n",
              "        buttonEl.style.display =\n",
              "          google.colab.kernel.accessAllowed ? 'block' : 'none';\n",
              "\n",
              "        async function convertToInteractive(key) {\n",
              "          const element = document.querySelector('#df-e2ac7e45-210d-4a7d-bb8b-5fa08c5fb8da');\n",
              "          const dataTable =\n",
              "            await google.colab.kernel.invokeFunction('convertToInteractive',\n",
              "                                                     [key], {});\n",
              "          if (!dataTable) return;\n",
              "\n",
              "          const docLinkHtml = 'Like what you see? Visit the ' +\n",
              "            '<a target=\"_blank\" href=https://colab.research.google.com/notebooks/data_table.ipynb>data table notebook</a>'\n",
              "            + ' to learn more about interactive tables.';\n",
              "          element.innerHTML = '';\n",
              "          dataTable['output_type'] = 'display_data';\n",
              "          await google.colab.output.renderOutput(dataTable, element);\n",
              "          const docLink = document.createElement('div');\n",
              "          docLink.innerHTML = docLinkHtml;\n",
              "          element.appendChild(docLink);\n",
              "        }\n",
              "      </script>\n",
              "    </div>\n",
              "  </div>\n",
              "  "
            ]
          },
          "metadata": {},
          "execution_count": 19
        }
      ],
      "source": [
        "df.head()"
      ]
    },
    {
      "cell_type": "markdown",
      "metadata": {
        "id": "55kJzcvuXnru"
      },
      "source": [
        "###2.3 Exploratory data analysis"
      ]
    },
    {
      "cell_type": "code",
      "execution_count": 20,
      "metadata": {
        "colab": {
          "base_uri": "https://localhost:8080/",
          "height": 505
        },
        "id": "oFTwoGXLWkY0",
        "outputId": "ab335ae0-8944-4635-8252-a28ca5fa0bce"
      },
      "outputs": [
        {
          "output_type": "execute_result",
          "data": {
            "text/plain": [
              "          make       model  year                engine_fuel_type  engine_hp  \\\n",
              "0          bmw  1_series_m  2011     premium_unleaded_(required)      335.0   \n",
              "1          bmw    1_series  2011     premium_unleaded_(required)      300.0   \n",
              "2          bmw    1_series  2011     premium_unleaded_(required)      300.0   \n",
              "3          bmw    1_series  2011     premium_unleaded_(required)      230.0   \n",
              "4          bmw    1_series  2011     premium_unleaded_(required)      230.0   \n",
              "...        ...         ...   ...                             ...        ...   \n",
              "11909    acura         zdx  2012     premium_unleaded_(required)      300.0   \n",
              "11910    acura         zdx  2012     premium_unleaded_(required)      300.0   \n",
              "11911    acura         zdx  2012     premium_unleaded_(required)      300.0   \n",
              "11912    acura         zdx  2013  premium_unleaded_(recommended)      300.0   \n",
              "11913  lincoln      zephyr  2006                regular_unleaded      221.0   \n",
              "\n",
              "       engine_cylinders transmission_type      driven_wheels  number_of_doors  \\\n",
              "0                   6.0            manual   rear_wheel_drive              2.0   \n",
              "1                   6.0            manual   rear_wheel_drive              2.0   \n",
              "2                   6.0            manual   rear_wheel_drive              2.0   \n",
              "3                   6.0            manual   rear_wheel_drive              2.0   \n",
              "4                   6.0            manual   rear_wheel_drive              2.0   \n",
              "...                 ...               ...                ...              ...   \n",
              "11909               6.0         automatic    all_wheel_drive              4.0   \n",
              "11910               6.0         automatic    all_wheel_drive              4.0   \n",
              "11911               6.0         automatic    all_wheel_drive              4.0   \n",
              "11912               6.0         automatic    all_wheel_drive              4.0   \n",
              "11913               6.0         automatic  front_wheel_drive              4.0   \n",
              "\n",
              "                             market_category vehicle_size  vehicle_style  \\\n",
              "0      factory_tuner,luxury,high-performance      compact          coupe   \n",
              "1                         luxury,performance      compact    convertible   \n",
              "2                    luxury,high-performance      compact          coupe   \n",
              "3                         luxury,performance      compact          coupe   \n",
              "4                                     luxury      compact    convertible   \n",
              "...                                      ...          ...            ...   \n",
              "11909             crossover,hatchback,luxury      midsize  4dr_hatchback   \n",
              "11910             crossover,hatchback,luxury      midsize  4dr_hatchback   \n",
              "11911             crossover,hatchback,luxury      midsize  4dr_hatchback   \n",
              "11912             crossover,hatchback,luxury      midsize  4dr_hatchback   \n",
              "11913                                 luxury      midsize          sedan   \n",
              "\n",
              "       highway_mpg  city_mpg  popularity   msrp  \n",
              "0               26        19        3916  46135  \n",
              "1               28        19        3916  40650  \n",
              "2               28        20        3916  36350  \n",
              "3               28        18        3916  29450  \n",
              "4               28        18        3916  34500  \n",
              "...            ...       ...         ...    ...  \n",
              "11909           23        16         204  46120  \n",
              "11910           23        16         204  56670  \n",
              "11911           23        16         204  50620  \n",
              "11912           23        16         204  50920  \n",
              "11913           26        17          61  28995  \n",
              "\n",
              "[11914 rows x 16 columns]"
            ],
            "text/html": [
              "\n",
              "  <div id=\"df-d3694222-324b-42c2-a896-ae95542048a9\">\n",
              "    <div class=\"colab-df-container\">\n",
              "      <div>\n",
              "<style scoped>\n",
              "    .dataframe tbody tr th:only-of-type {\n",
              "        vertical-align: middle;\n",
              "    }\n",
              "\n",
              "    .dataframe tbody tr th {\n",
              "        vertical-align: top;\n",
              "    }\n",
              "\n",
              "    .dataframe thead th {\n",
              "        text-align: right;\n",
              "    }\n",
              "</style>\n",
              "<table border=\"1\" class=\"dataframe\">\n",
              "  <thead>\n",
              "    <tr style=\"text-align: right;\">\n",
              "      <th></th>\n",
              "      <th>make</th>\n",
              "      <th>model</th>\n",
              "      <th>year</th>\n",
              "      <th>engine_fuel_type</th>\n",
              "      <th>engine_hp</th>\n",
              "      <th>engine_cylinders</th>\n",
              "      <th>transmission_type</th>\n",
              "      <th>driven_wheels</th>\n",
              "      <th>number_of_doors</th>\n",
              "      <th>market_category</th>\n",
              "      <th>vehicle_size</th>\n",
              "      <th>vehicle_style</th>\n",
              "      <th>highway_mpg</th>\n",
              "      <th>city_mpg</th>\n",
              "      <th>popularity</th>\n",
              "      <th>msrp</th>\n",
              "    </tr>\n",
              "  </thead>\n",
              "  <tbody>\n",
              "    <tr>\n",
              "      <th>0</th>\n",
              "      <td>bmw</td>\n",
              "      <td>1_series_m</td>\n",
              "      <td>2011</td>\n",
              "      <td>premium_unleaded_(required)</td>\n",
              "      <td>335.0</td>\n",
              "      <td>6.0</td>\n",
              "      <td>manual</td>\n",
              "      <td>rear_wheel_drive</td>\n",
              "      <td>2.0</td>\n",
              "      <td>factory_tuner,luxury,high-performance</td>\n",
              "      <td>compact</td>\n",
              "      <td>coupe</td>\n",
              "      <td>26</td>\n",
              "      <td>19</td>\n",
              "      <td>3916</td>\n",
              "      <td>46135</td>\n",
              "    </tr>\n",
              "    <tr>\n",
              "      <th>1</th>\n",
              "      <td>bmw</td>\n",
              "      <td>1_series</td>\n",
              "      <td>2011</td>\n",
              "      <td>premium_unleaded_(required)</td>\n",
              "      <td>300.0</td>\n",
              "      <td>6.0</td>\n",
              "      <td>manual</td>\n",
              "      <td>rear_wheel_drive</td>\n",
              "      <td>2.0</td>\n",
              "      <td>luxury,performance</td>\n",
              "      <td>compact</td>\n",
              "      <td>convertible</td>\n",
              "      <td>28</td>\n",
              "      <td>19</td>\n",
              "      <td>3916</td>\n",
              "      <td>40650</td>\n",
              "    </tr>\n",
              "    <tr>\n",
              "      <th>2</th>\n",
              "      <td>bmw</td>\n",
              "      <td>1_series</td>\n",
              "      <td>2011</td>\n",
              "      <td>premium_unleaded_(required)</td>\n",
              "      <td>300.0</td>\n",
              "      <td>6.0</td>\n",
              "      <td>manual</td>\n",
              "      <td>rear_wheel_drive</td>\n",
              "      <td>2.0</td>\n",
              "      <td>luxury,high-performance</td>\n",
              "      <td>compact</td>\n",
              "      <td>coupe</td>\n",
              "      <td>28</td>\n",
              "      <td>20</td>\n",
              "      <td>3916</td>\n",
              "      <td>36350</td>\n",
              "    </tr>\n",
              "    <tr>\n",
              "      <th>3</th>\n",
              "      <td>bmw</td>\n",
              "      <td>1_series</td>\n",
              "      <td>2011</td>\n",
              "      <td>premium_unleaded_(required)</td>\n",
              "      <td>230.0</td>\n",
              "      <td>6.0</td>\n",
              "      <td>manual</td>\n",
              "      <td>rear_wheel_drive</td>\n",
              "      <td>2.0</td>\n",
              "      <td>luxury,performance</td>\n",
              "      <td>compact</td>\n",
              "      <td>coupe</td>\n",
              "      <td>28</td>\n",
              "      <td>18</td>\n",
              "      <td>3916</td>\n",
              "      <td>29450</td>\n",
              "    </tr>\n",
              "    <tr>\n",
              "      <th>4</th>\n",
              "      <td>bmw</td>\n",
              "      <td>1_series</td>\n",
              "      <td>2011</td>\n",
              "      <td>premium_unleaded_(required)</td>\n",
              "      <td>230.0</td>\n",
              "      <td>6.0</td>\n",
              "      <td>manual</td>\n",
              "      <td>rear_wheel_drive</td>\n",
              "      <td>2.0</td>\n",
              "      <td>luxury</td>\n",
              "      <td>compact</td>\n",
              "      <td>convertible</td>\n",
              "      <td>28</td>\n",
              "      <td>18</td>\n",
              "      <td>3916</td>\n",
              "      <td>34500</td>\n",
              "    </tr>\n",
              "    <tr>\n",
              "      <th>...</th>\n",
              "      <td>...</td>\n",
              "      <td>...</td>\n",
              "      <td>...</td>\n",
              "      <td>...</td>\n",
              "      <td>...</td>\n",
              "      <td>...</td>\n",
              "      <td>...</td>\n",
              "      <td>...</td>\n",
              "      <td>...</td>\n",
              "      <td>...</td>\n",
              "      <td>...</td>\n",
              "      <td>...</td>\n",
              "      <td>...</td>\n",
              "      <td>...</td>\n",
              "      <td>...</td>\n",
              "      <td>...</td>\n",
              "    </tr>\n",
              "    <tr>\n",
              "      <th>11909</th>\n",
              "      <td>acura</td>\n",
              "      <td>zdx</td>\n",
              "      <td>2012</td>\n",
              "      <td>premium_unleaded_(required)</td>\n",
              "      <td>300.0</td>\n",
              "      <td>6.0</td>\n",
              "      <td>automatic</td>\n",
              "      <td>all_wheel_drive</td>\n",
              "      <td>4.0</td>\n",
              "      <td>crossover,hatchback,luxury</td>\n",
              "      <td>midsize</td>\n",
              "      <td>4dr_hatchback</td>\n",
              "      <td>23</td>\n",
              "      <td>16</td>\n",
              "      <td>204</td>\n",
              "      <td>46120</td>\n",
              "    </tr>\n",
              "    <tr>\n",
              "      <th>11910</th>\n",
              "      <td>acura</td>\n",
              "      <td>zdx</td>\n",
              "      <td>2012</td>\n",
              "      <td>premium_unleaded_(required)</td>\n",
              "      <td>300.0</td>\n",
              "      <td>6.0</td>\n",
              "      <td>automatic</td>\n",
              "      <td>all_wheel_drive</td>\n",
              "      <td>4.0</td>\n",
              "      <td>crossover,hatchback,luxury</td>\n",
              "      <td>midsize</td>\n",
              "      <td>4dr_hatchback</td>\n",
              "      <td>23</td>\n",
              "      <td>16</td>\n",
              "      <td>204</td>\n",
              "      <td>56670</td>\n",
              "    </tr>\n",
              "    <tr>\n",
              "      <th>11911</th>\n",
              "      <td>acura</td>\n",
              "      <td>zdx</td>\n",
              "      <td>2012</td>\n",
              "      <td>premium_unleaded_(required)</td>\n",
              "      <td>300.0</td>\n",
              "      <td>6.0</td>\n",
              "      <td>automatic</td>\n",
              "      <td>all_wheel_drive</td>\n",
              "      <td>4.0</td>\n",
              "      <td>crossover,hatchback,luxury</td>\n",
              "      <td>midsize</td>\n",
              "      <td>4dr_hatchback</td>\n",
              "      <td>23</td>\n",
              "      <td>16</td>\n",
              "      <td>204</td>\n",
              "      <td>50620</td>\n",
              "    </tr>\n",
              "    <tr>\n",
              "      <th>11912</th>\n",
              "      <td>acura</td>\n",
              "      <td>zdx</td>\n",
              "      <td>2013</td>\n",
              "      <td>premium_unleaded_(recommended)</td>\n",
              "      <td>300.0</td>\n",
              "      <td>6.0</td>\n",
              "      <td>automatic</td>\n",
              "      <td>all_wheel_drive</td>\n",
              "      <td>4.0</td>\n",
              "      <td>crossover,hatchback,luxury</td>\n",
              "      <td>midsize</td>\n",
              "      <td>4dr_hatchback</td>\n",
              "      <td>23</td>\n",
              "      <td>16</td>\n",
              "      <td>204</td>\n",
              "      <td>50920</td>\n",
              "    </tr>\n",
              "    <tr>\n",
              "      <th>11913</th>\n",
              "      <td>lincoln</td>\n",
              "      <td>zephyr</td>\n",
              "      <td>2006</td>\n",
              "      <td>regular_unleaded</td>\n",
              "      <td>221.0</td>\n",
              "      <td>6.0</td>\n",
              "      <td>automatic</td>\n",
              "      <td>front_wheel_drive</td>\n",
              "      <td>4.0</td>\n",
              "      <td>luxury</td>\n",
              "      <td>midsize</td>\n",
              "      <td>sedan</td>\n",
              "      <td>26</td>\n",
              "      <td>17</td>\n",
              "      <td>61</td>\n",
              "      <td>28995</td>\n",
              "    </tr>\n",
              "  </tbody>\n",
              "</table>\n",
              "<p>11914 rows × 16 columns</p>\n",
              "</div>\n",
              "      <button class=\"colab-df-convert\" onclick=\"convertToInteractive('df-d3694222-324b-42c2-a896-ae95542048a9')\"\n",
              "              title=\"Convert this dataframe to an interactive table.\"\n",
              "              style=\"display:none;\">\n",
              "        \n",
              "  <svg xmlns=\"http://www.w3.org/2000/svg\" height=\"24px\"viewBox=\"0 0 24 24\"\n",
              "       width=\"24px\">\n",
              "    <path d=\"M0 0h24v24H0V0z\" fill=\"none\"/>\n",
              "    <path d=\"M18.56 5.44l.94 2.06.94-2.06 2.06-.94-2.06-.94-.94-2.06-.94 2.06-2.06.94zm-11 1L8.5 8.5l.94-2.06 2.06-.94-2.06-.94L8.5 2.5l-.94 2.06-2.06.94zm10 10l.94 2.06.94-2.06 2.06-.94-2.06-.94-.94-2.06-.94 2.06-2.06.94z\"/><path d=\"M17.41 7.96l-1.37-1.37c-.4-.4-.92-.59-1.43-.59-.52 0-1.04.2-1.43.59L10.3 9.45l-7.72 7.72c-.78.78-.78 2.05 0 2.83L4 21.41c.39.39.9.59 1.41.59.51 0 1.02-.2 1.41-.59l7.78-7.78 2.81-2.81c.8-.78.8-2.07 0-2.86zM5.41 20L4 18.59l7.72-7.72 1.47 1.35L5.41 20z\"/>\n",
              "  </svg>\n",
              "      </button>\n",
              "      \n",
              "  <style>\n",
              "    .colab-df-container {\n",
              "      display:flex;\n",
              "      flex-wrap:wrap;\n",
              "      gap: 12px;\n",
              "    }\n",
              "\n",
              "    .colab-df-convert {\n",
              "      background-color: #E8F0FE;\n",
              "      border: none;\n",
              "      border-radius: 50%;\n",
              "      cursor: pointer;\n",
              "      display: none;\n",
              "      fill: #1967D2;\n",
              "      height: 32px;\n",
              "      padding: 0 0 0 0;\n",
              "      width: 32px;\n",
              "    }\n",
              "\n",
              "    .colab-df-convert:hover {\n",
              "      background-color: #E2EBFA;\n",
              "      box-shadow: 0px 1px 2px rgba(60, 64, 67, 0.3), 0px 1px 3px 1px rgba(60, 64, 67, 0.15);\n",
              "      fill: #174EA6;\n",
              "    }\n",
              "\n",
              "    [theme=dark] .colab-df-convert {\n",
              "      background-color: #3B4455;\n",
              "      fill: #D2E3FC;\n",
              "    }\n",
              "\n",
              "    [theme=dark] .colab-df-convert:hover {\n",
              "      background-color: #434B5C;\n",
              "      box-shadow: 0px 1px 3px 1px rgba(0, 0, 0, 0.15);\n",
              "      filter: drop-shadow(0px 1px 2px rgba(0, 0, 0, 0.3));\n",
              "      fill: #FFFFFF;\n",
              "    }\n",
              "  </style>\n",
              "\n",
              "      <script>\n",
              "        const buttonEl =\n",
              "          document.querySelector('#df-d3694222-324b-42c2-a896-ae95542048a9 button.colab-df-convert');\n",
              "        buttonEl.style.display =\n",
              "          google.colab.kernel.accessAllowed ? 'block' : 'none';\n",
              "\n",
              "        async function convertToInteractive(key) {\n",
              "          const element = document.querySelector('#df-d3694222-324b-42c2-a896-ae95542048a9');\n",
              "          const dataTable =\n",
              "            await google.colab.kernel.invokeFunction('convertToInteractive',\n",
              "                                                     [key], {});\n",
              "          if (!dataTable) return;\n",
              "\n",
              "          const docLinkHtml = 'Like what you see? Visit the ' +\n",
              "            '<a target=\"_blank\" href=https://colab.research.google.com/notebooks/data_table.ipynb>data table notebook</a>'\n",
              "            + ' to learn more about interactive tables.';\n",
              "          element.innerHTML = '';\n",
              "          dataTable['output_type'] = 'display_data';\n",
              "          await google.colab.output.renderOutput(dataTable, element);\n",
              "          const docLink = document.createElement('div');\n",
              "          docLink.innerHTML = docLinkHtml;\n",
              "          element.appendChild(docLink);\n",
              "        }\n",
              "      </script>\n",
              "    </div>\n",
              "  </div>\n",
              "  "
            ]
          },
          "metadata": {},
          "execution_count": 20
        }
      ],
      "source": [
        "df\n"
      ]
    },
    {
      "cell_type": "code",
      "execution_count": 21,
      "metadata": {
        "colab": {
          "base_uri": "https://localhost:8080/"
        },
        "id": "cJhH5UTaX6OZ",
        "outputId": "1a07a531-213f-4580-8f08-bda1e0c9ed59"
      },
      "outputs": [
        {
          "output_type": "stream",
          "name": "stdout",
          "text": [
            "make\n",
            "0    bmw\n",
            "1    bmw\n",
            "2    bmw\n",
            "3    bmw\n",
            "4    bmw\n",
            "Name: make, dtype: object\n",
            "\n",
            "model\n",
            "0    1_series_m\n",
            "1      1_series\n",
            "2      1_series\n",
            "3      1_series\n",
            "4      1_series\n",
            "Name: model, dtype: object\n",
            "\n",
            "year\n",
            "0    2011\n",
            "1    2011\n",
            "2    2011\n",
            "3    2011\n",
            "4    2011\n",
            "Name: year, dtype: int64\n",
            "\n",
            "engine_fuel_type\n",
            "0    premium_unleaded_(required)\n",
            "1    premium_unleaded_(required)\n",
            "2    premium_unleaded_(required)\n",
            "3    premium_unleaded_(required)\n",
            "4    premium_unleaded_(required)\n",
            "Name: engine_fuel_type, dtype: object\n",
            "\n",
            "engine_hp\n",
            "0    335.0\n",
            "1    300.0\n",
            "2    300.0\n",
            "3    230.0\n",
            "4    230.0\n",
            "Name: engine_hp, dtype: float64\n",
            "\n",
            "engine_cylinders\n",
            "0    6.0\n",
            "1    6.0\n",
            "2    6.0\n",
            "3    6.0\n",
            "4    6.0\n",
            "Name: engine_cylinders, dtype: float64\n",
            "\n",
            "transmission_type\n",
            "0    manual\n",
            "1    manual\n",
            "2    manual\n",
            "3    manual\n",
            "4    manual\n",
            "Name: transmission_type, dtype: object\n",
            "\n",
            "driven_wheels\n",
            "0    rear_wheel_drive\n",
            "1    rear_wheel_drive\n",
            "2    rear_wheel_drive\n",
            "3    rear_wheel_drive\n",
            "4    rear_wheel_drive\n",
            "Name: driven_wheels, dtype: object\n",
            "\n",
            "number_of_doors\n",
            "0    2.0\n",
            "1    2.0\n",
            "2    2.0\n",
            "3    2.0\n",
            "4    2.0\n",
            "Name: number_of_doors, dtype: float64\n",
            "\n",
            "market_category\n",
            "0    factory_tuner,luxury,high-performance\n",
            "1                       luxury,performance\n",
            "2                  luxury,high-performance\n",
            "3                       luxury,performance\n",
            "4                                   luxury\n",
            "Name: market_category, dtype: object\n",
            "\n",
            "vehicle_size\n",
            "0    compact\n",
            "1    compact\n",
            "2    compact\n",
            "3    compact\n",
            "4    compact\n",
            "Name: vehicle_size, dtype: object\n",
            "\n",
            "vehicle_style\n",
            "0          coupe\n",
            "1    convertible\n",
            "2          coupe\n",
            "3          coupe\n",
            "4    convertible\n",
            "Name: vehicle_style, dtype: object\n",
            "\n",
            "highway_mpg\n",
            "0    26\n",
            "1    28\n",
            "2    28\n",
            "3    28\n",
            "4    28\n",
            "Name: highway_mpg, dtype: int64\n",
            "\n",
            "city_mpg\n",
            "0    19\n",
            "1    19\n",
            "2    20\n",
            "3    18\n",
            "4    18\n",
            "Name: city_mpg, dtype: int64\n",
            "\n",
            "popularity\n",
            "0    3916\n",
            "1    3916\n",
            "2    3916\n",
            "3    3916\n",
            "4    3916\n",
            "Name: popularity, dtype: int64\n",
            "\n",
            "msrp\n",
            "0    46135\n",
            "1    40650\n",
            "2    36350\n",
            "3    29450\n",
            "4    34500\n",
            "Name: msrp, dtype: int64\n",
            "\n"
          ]
        }
      ],
      "source": [
        "# Use for loop to peek the first five rows of data\n",
        "for col in df.columns:\n",
        "  print(col)\n",
        "  print(df[col].head())\n",
        "  print()"
      ]
    },
    {
      "cell_type": "code",
      "execution_count": 22,
      "metadata": {
        "colab": {
          "base_uri": "https://localhost:8080/"
        },
        "id": "_uL6YAY6Yoqr",
        "outputId": "dfe25273-5241-44e0-e8a8-8e4648144eae"
      },
      "outputs": [
        {
          "output_type": "stream",
          "name": "stdout",
          "text": [
            "make\n",
            "['bmw' 'audi' 'fiat' 'mercedes-benz' 'chrysler']\n",
            "\n",
            "model\n",
            "['1_series_m' '1_series' '100' '124_spider' '190-class']\n",
            "\n",
            "year\n",
            "[2011 2012 2013 1992 1993]\n",
            "\n",
            "engine_fuel_type\n",
            "['premium_unleaded_(required)' 'regular_unleaded'\n",
            " 'premium_unleaded_(recommended)' 'flex-fuel_(unleaded/e85)' 'diesel']\n",
            "\n",
            "engine_hp\n",
            "[335. 300. 230. 320. 172.]\n",
            "\n",
            "engine_cylinders\n",
            "[ 6.  4.  5.  8. 12.]\n",
            "\n",
            "transmission_type\n",
            "['manual' 'automatic' 'automated_manual' 'direct_drive' 'unknown']\n",
            "\n",
            "driven_wheels\n",
            "['rear_wheel_drive' 'front_wheel_drive' 'all_wheel_drive'\n",
            " 'four_wheel_drive']\n",
            "\n",
            "number_of_doors\n",
            "[ 2.  4.  3. nan]\n",
            "\n",
            "market_category\n",
            "['factory_tuner,luxury,high-performance' 'luxury,performance'\n",
            " 'luxury,high-performance' 'luxury' 'performance']\n",
            "\n",
            "vehicle_size\n",
            "['compact' 'midsize' 'large']\n",
            "\n",
            "vehicle_style\n",
            "['coupe' 'convertible' 'sedan' 'wagon' '4dr_hatchback']\n",
            "\n",
            "highway_mpg\n",
            "[26 28 27 25 24]\n",
            "\n",
            "city_mpg\n",
            "[19 20 18 17 16]\n",
            "\n",
            "popularity\n",
            "[3916 3105  819  617 1013]\n",
            "\n",
            "msrp\n",
            "[46135 40650 36350 29450 34500]\n",
            "\n"
          ]
        }
      ],
      "source": [
        "# Use for loop to print the first 5 unique values of the columns\n",
        "for col in df.columns:\n",
        "  print(col)\n",
        "  print(df[col].unique()[:5])\n",
        "  print()"
      ]
    },
    {
      "cell_type": "code",
      "execution_count": 23,
      "metadata": {
        "colab": {
          "base_uri": "https://localhost:8080/"
        },
        "id": "vGC8PETnZXY9",
        "outputId": "d0d4c998-bd54-446f-bde2-3b9fb7396d18"
      },
      "outputs": [
        {
          "output_type": "stream",
          "name": "stdout",
          "text": [
            "make\n",
            "['bmw' 'audi' 'fiat' 'mercedes-benz' 'chrysler']\n",
            "48\n",
            "\n",
            "model\n",
            "['1_series_m' '1_series' '100' '124_spider' '190-class']\n",
            "914\n",
            "\n",
            "year\n",
            "[2011 2012 2013 1992 1993]\n",
            "28\n",
            "\n",
            "engine_fuel_type\n",
            "['premium_unleaded_(required)' 'regular_unleaded'\n",
            " 'premium_unleaded_(recommended)' 'flex-fuel_(unleaded/e85)' 'diesel']\n",
            "10\n",
            "\n",
            "engine_hp\n",
            "[335. 300. 230. 320. 172.]\n",
            "356\n",
            "\n",
            "engine_cylinders\n",
            "[ 6.  4.  5.  8. 12.]\n",
            "9\n",
            "\n",
            "transmission_type\n",
            "['manual' 'automatic' 'automated_manual' 'direct_drive' 'unknown']\n",
            "5\n",
            "\n",
            "driven_wheels\n",
            "['rear_wheel_drive' 'front_wheel_drive' 'all_wheel_drive'\n",
            " 'four_wheel_drive']\n",
            "4\n",
            "\n",
            "number_of_doors\n",
            "[ 2.  4.  3. nan]\n",
            "3\n",
            "\n",
            "market_category\n",
            "['factory_tuner,luxury,high-performance' 'luxury,performance'\n",
            " 'luxury,high-performance' 'luxury' 'performance']\n",
            "71\n",
            "\n",
            "vehicle_size\n",
            "['compact' 'midsize' 'large']\n",
            "3\n",
            "\n",
            "vehicle_style\n",
            "['coupe' 'convertible' 'sedan' 'wagon' '4dr_hatchback']\n",
            "16\n",
            "\n",
            "highway_mpg\n",
            "[26 28 27 25 24]\n",
            "59\n",
            "\n",
            "city_mpg\n",
            "[19 20 18 17 16]\n",
            "69\n",
            "\n",
            "popularity\n",
            "[3916 3105  819  617 1013]\n",
            "48\n",
            "\n",
            "msrp\n",
            "[46135 40650 36350 29450 34500]\n",
            "6049\n",
            "\n"
          ]
        }
      ],
      "source": [
        "# Use for loop to print the first 5 unique values and how many times (total) of the columns\n",
        "for col in df.columns:\n",
        "  print(col)\n",
        "  print(df[col].unique()[:5])\n",
        "  print(df[col].nunique()) # this nunique() it will says how many unique values are\n",
        "  print()"
      ]
    },
    {
      "cell_type": "code",
      "execution_count": 24,
      "metadata": {
        "id": "sdn0ChmOaXlN"
      },
      "outputs": [],
      "source": [
        "# we are going to have a look at the price\n",
        "# distribution of price\n",
        "# and we will plot the data\n",
        "# we use the matplotlib and seaborm libraries"
      ]
    },
    {
      "cell_type": "code",
      "execution_count": 25,
      "metadata": {
        "id": "C-jukvyscGu4"
      },
      "outputs": [],
      "source": [
        "# Import matplotlib and seaborn libraries\n",
        "import matplotlib.pyplot as plt\n",
        "import seaborn as sns"
      ]
    },
    {
      "cell_type": "code",
      "execution_count": 26,
      "metadata": {
        "id": "P9qPSZYOcXDO"
      },
      "outputs": [],
      "source": [
        "# Allow all the plots can be displayed in a notebook\n",
        "%matplotlib inline"
      ]
    },
    {
      "cell_type": "code",
      "execution_count": 27,
      "metadata": {
        "colab": {
          "base_uri": "https://localhost:8080/",
          "height": 298
        },
        "id": "CtmxXvSVcs3s",
        "outputId": "a12b1ba9-ec29-4bc5-8d54-d3396d163c66"
      },
      "outputs": [
        {
          "output_type": "execute_result",
          "data": {
            "text/plain": [
              "<matplotlib.axes._subplots.AxesSubplot at 0x7fa78d158810>"
            ]
          },
          "metadata": {},
          "execution_count": 27
        },
        {
          "output_type": "display_data",
          "data": {
            "text/plain": [
              "<Figure size 432x288 with 1 Axes>"
            ],
            "image/png": "[encoded data removed]"
          },
          "metadata": {
            "needs_background": "light"
          }
        }
      ],
      "source": [
        "# Plot the histogram of MSRP\n",
        "sns.histplot(df.msrp)"
      ]
    },
    {
      "cell_type": "code",
      "execution_count": 28,
      "metadata": {
        "colab": {
          "base_uri": "https://localhost:8080/",
          "height": 298
        },
        "id": "uOCRYbgMdILX",
        "outputId": "5b1262e9-34df-4e31-8b5b-11db83ec4c01"
      },
      "outputs": [
        {
          "output_type": "execute_result",
          "data": {
            "text/plain": [
              "<matplotlib.axes._subplots.AxesSubplot at 0x7fa78bb83050>"
            ]
          },
          "metadata": {},
          "execution_count": 28
        },
        {
          "output_type": "display_data",
          "data": {
            "text/plain": [
              "<Figure size 432x288 with 1 Axes>"
            ],
            "image/png": "[encoded data removed]"
          },
          "metadata": {
            "needs_background": "light"
          }
        }
      ],
      "source": [
        "# Use bins with the plot to better visualize the data\n",
        "sns.histplot(df.msrp, bins=50) \n",
        "# bins means how many bars we have to plot\n",
        "# and is the x-axis"
      ]
    },
    {
      "cell_type": "code",
      "execution_count": 29,
      "metadata": {
        "colab": {
          "base_uri": "https://localhost:8080/",
          "height": 298
        },
        "id": "B8jwGD8NdwRf",
        "outputId": "efa5d93b-df7e-4054-b56b-59dc41de2665"
      },
      "outputs": [
        {
          "output_type": "execute_result",
          "data": {
            "text/plain": [
              "<matplotlib.axes._subplots.AxesSubplot at 0x7fa78b605650>"
            ]
          },
          "metadata": {},
          "execution_count": 29
        },
        {
          "output_type": "display_data",
          "data": {
            "text/plain": [
              "<Figure size 432x288 with 1 Axes>"
            ],
            "image/png": "[encoded data removed]"
          },
          "metadata": {
            "needs_background": "light"
          }
        }
      ],
      "source": [
        "# if the bins are less then the bars will be a lot bigger\n",
        "sns.histplot(df.msrp, bins=10) "
      ]
    },
    {
      "cell_type": "code",
      "execution_count": 30,
      "metadata": {
        "id": "u40OcocAezIH"
      },
      "outputs": [],
      "source": [
        "# 1e6 means 1,000,000 or one million and is the same as 10^6 (10 with the power of 6 or 6 zeros)\n",
        "# in this case the price is 2 millions\n",
        "# from this data plot we can see there are a lot of cars are pretty cheap\n",
        "# and then a few cars are super expensive"
      ]
    },
    {
      "cell_type": "code",
      "execution_count": 31,
      "metadata": {
        "colab": {
          "base_uri": "https://localhost:8080/",
          "height": 298
        },
        "id": "GzTWEqgcgBgh",
        "outputId": "cef7fd3b-a2b5-42e6-86dc-a024408f95ec"
      },
      "outputs": [
        {
          "output_type": "execute_result",
          "data": {
            "text/plain": [
              "<matplotlib.axes._subplots.AxesSubplot at 0x7fa78b5ac050>"
            ]
          },
          "metadata": {},
          "execution_count": 31
        },
        {
          "output_type": "display_data",
          "data": {
            "text/plain": [
              "<Figure size 432x288 with 1 Axes>"
            ],
            "image/png": "[encoded data removed]"
          },
          "metadata": {
            "needs_background": "light"
          }
        }
      ],
      "source": [
        "sns.histplot(df.msrp, bins=50)"
      ]
    },
    {
      "cell_type": "code",
      "execution_count": 32,
      "metadata": {
        "id": "1OAayVksgCeX"
      },
      "outputs": [],
      "source": [
        "# the plot above are called long tail distribution\n",
        "# and this type of distribution is not good for machine learning\n",
        "# the long tail it will confuse the model"
      ]
    },
    {
      "cell_type": "code",
      "execution_count": 33,
      "metadata": {
        "colab": {
          "base_uri": "https://localhost:8080/",
          "height": 298
        },
        "id": "cJdWLK1XgX_4",
        "outputId": "ee0a17f8-f0f9-4f26-e480-e62ddd8911db"
      },
      "outputs": [
        {
          "output_type": "execute_result",
          "data": {
            "text/plain": [
              "<matplotlib.axes._subplots.AxesSubplot at 0x7fa78b4ac910>"
            ]
          },
          "metadata": {},
          "execution_count": 33
        },
        {
          "output_type": "display_data",
          "data": {
            "text/plain": [
              "<Figure size 432x288 with 1 Axes>"
            ],
            "image/png": "[encoded data removed]"
          },
          "metadata": {
            "needs_background": "light"
          }
        }
      ],
      "source": [
        "# Zoom the plot for better visualization of the data\n",
        "sns.histplot(df.msrp[df.msrp < 100000], bins=50)"
      ]
    },
    {
      "cell_type": "code",
      "execution_count": 34,
      "metadata": {
        "colab": {
          "base_uri": "https://localhost:8080/"
        },
        "id": "Gc4u1aC6gsuI",
        "outputId": "85fd82bd-1a55-4bbc-ba85-801419d08f37"
      },
      "outputs": [
        {
          "output_type": "execute_result",
          "data": {
            "text/plain": [
              "array([ 0.        ,  0.69314718,  2.39789527,  6.90875478, 11.51293546])"
            ]
          },
          "metadata": {},
          "execution_count": 34
        }
      ],
      "source": [
        "# we need to get rid of this long tail and for that\n",
        "# we apply the logarithmic distribution to the price\n",
        "# and we get more compact values\n",
        "# very importantt we cannot have logarithm zero and for that we use plus one\n",
        "# in case we have price equal to zero\n",
        "# with our data all the prices are more than zero\n",
        "np.log([0+1, 1+1, 10+1, 1000+1, 100000+1])"
      ]
    },
    {
      "cell_type": "code",
      "execution_count": 35,
      "metadata": {
        "colab": {
          "base_uri": "https://localhost:8080/"
        },
        "id": "FQvyLl2KmHcM",
        "outputId": "5222bda9-4cde-4de1-afd4-faa7908ecef6"
      },
      "outputs": [
        {
          "output_type": "execute_result",
          "data": {
            "text/plain": [
              "array([ 0.        ,  0.69314718,  2.39789527,  6.90875478, 11.51293546])"
            ]
          },
          "metadata": {},
          "execution_count": 35
        }
      ],
      "source": [
        "# Use the method log1p to avoid to add plus one\n",
        "np.log1p([0, 1, 10, 1000, 100000])"
      ]
    },
    {
      "cell_type": "code",
      "execution_count": 36,
      "metadata": {
        "colab": {
          "base_uri": "https://localhost:8080/"
        },
        "id": "pwRELX-JmvYE",
        "outputId": "a76a584c-8548-4132-af5a-a84008e2705e"
      },
      "outputs": [
        {
          "output_type": "execute_result",
          "data": {
            "text/plain": [
              "0        10.739349\n",
              "1        10.612779\n",
              "2        10.500977\n",
              "3        10.290483\n",
              "4        10.448744\n",
              "           ...    \n",
              "11909    10.739024\n",
              "11910    10.945018\n",
              "11911    10.832122\n",
              "11912    10.838031\n",
              "11913    10.274913\n",
              "Name: msrp, Length: 11914, dtype: float64"
            ]
          },
          "metadata": {},
          "execution_count": 36
        }
      ],
      "source": [
        "# Store all the prices using the log\n",
        "prices_logs = np.log1p(df.msrp)\n",
        "prices_logs"
      ]
    },
    {
      "cell_type": "code",
      "execution_count": 37,
      "metadata": {
        "colab": {
          "base_uri": "https://localhost:8080/",
          "height": 298
        },
        "id": "sKBAmL7dnQxS",
        "outputId": "b12d7c0c-e725-4447-817d-ba8f304b611e"
      },
      "outputs": [
        {
          "output_type": "execute_result",
          "data": {
            "text/plain": [
              "<matplotlib.axes._subplots.AxesSubplot at 0x7fa798a77250>"
            ]
          },
          "metadata": {},
          "execution_count": 37
        },
        {
          "output_type": "display_data",
          "data": {
            "text/plain": [
              "<Figure size 432x288 with 1 Axes>"
            ],
            "image/png": "[encoded data removed]"
          },
          "metadata": {
            "needs_background": "light"
          }
        }
      ],
      "source": [
        "# Now we have small values we can plot the data\n",
        "sns.histplot(prices_logs, bins=50)\n",
        "# now the tail is gone"
      ]
    },
    {
      "cell_type": "code",
      "execution_count": 38,
      "metadata": {
        "id": "wKM6IW3hnoW7"
      },
      "outputs": [],
      "source": [
        "# now this plot is called normal distribution\n",
        "# and this situation is ideal for models and they do quite well\n",
        "# to predict the price"
      ]
    },
    {
      "cell_type": "code",
      "execution_count": 39,
      "metadata": {
        "colab": {
          "base_uri": "https://localhost:8080/",
          "height": 505
        },
        "id": "tYbtsNVRpC-i",
        "outputId": "fe7752ba-7f65-47ae-80ed-5214c18ad7c0"
      },
      "outputs": [
        {
          "output_type": "execute_result",
          "data": {
            "text/plain": [
              "          make       model  year                engine_fuel_type  engine_hp  \\\n",
              "0          bmw  1_series_m  2011     premium_unleaded_(required)      335.0   \n",
              "1          bmw    1_series  2011     premium_unleaded_(required)      300.0   \n",
              "2          bmw    1_series  2011     premium_unleaded_(required)      300.0   \n",
              "3          bmw    1_series  2011     premium_unleaded_(required)      230.0   \n",
              "4          bmw    1_series  2011     premium_unleaded_(required)      230.0   \n",
              "...        ...         ...   ...                             ...        ...   \n",
              "11909    acura         zdx  2012     premium_unleaded_(required)      300.0   \n",
              "11910    acura         zdx  2012     premium_unleaded_(required)      300.0   \n",
              "11911    acura         zdx  2012     premium_unleaded_(required)      300.0   \n",
              "11912    acura         zdx  2013  premium_unleaded_(recommended)      300.0   \n",
              "11913  lincoln      zephyr  2006                regular_unleaded      221.0   \n",
              "\n",
              "       engine_cylinders transmission_type      driven_wheels  number_of_doors  \\\n",
              "0                   6.0            manual   rear_wheel_drive              2.0   \n",
              "1                   6.0            manual   rear_wheel_drive              2.0   \n",
              "2                   6.0            manual   rear_wheel_drive              2.0   \n",
              "3                   6.0            manual   rear_wheel_drive              2.0   \n",
              "4                   6.0            manual   rear_wheel_drive              2.0   \n",
              "...                 ...               ...                ...              ...   \n",
              "11909               6.0         automatic    all_wheel_drive              4.0   \n",
              "11910               6.0         automatic    all_wheel_drive              4.0   \n",
              "11911               6.0         automatic    all_wheel_drive              4.0   \n",
              "11912               6.0         automatic    all_wheel_drive              4.0   \n",
              "11913               6.0         automatic  front_wheel_drive              4.0   \n",
              "\n",
              "                             market_category vehicle_size  vehicle_style  \\\n",
              "0      factory_tuner,luxury,high-performance      compact          coupe   \n",
              "1                         luxury,performance      compact    convertible   \n",
              "2                    luxury,high-performance      compact          coupe   \n",
              "3                         luxury,performance      compact          coupe   \n",
              "4                                     luxury      compact    convertible   \n",
              "...                                      ...          ...            ...   \n",
              "11909             crossover,hatchback,luxury      midsize  4dr_hatchback   \n",
              "11910             crossover,hatchback,luxury      midsize  4dr_hatchback   \n",
              "11911             crossover,hatchback,luxury      midsize  4dr_hatchback   \n",
              "11912             crossover,hatchback,luxury      midsize  4dr_hatchback   \n",
              "11913                                 luxury      midsize          sedan   \n",
              "\n",
              "       highway_mpg  city_mpg  popularity   msrp  \n",
              "0               26        19        3916  46135  \n",
              "1               28        19        3916  40650  \n",
              "2               28        20        3916  36350  \n",
              "3               28        18        3916  29450  \n",
              "4               28        18        3916  34500  \n",
              "...            ...       ...         ...    ...  \n",
              "11909           23        16         204  46120  \n",
              "11910           23        16         204  56670  \n",
              "11911           23        16         204  50620  \n",
              "11912           23        16         204  50920  \n",
              "11913           26        17          61  28995  \n",
              "\n",
              "[11914 rows x 16 columns]"
            ],
            "text/html": [
              "\n",
              "  <div id=\"df-f16aa862-1186-42a0-ac82-989c2d1c4fbb\">\n",
              "    <div class=\"colab-df-container\">\n",
              "      <div>\n",
              "<style scoped>\n",
              "    .dataframe tbody tr th:only-of-type {\n",
              "        vertical-align: middle;\n",
              "    }\n",
              "\n",
              "    .dataframe tbody tr th {\n",
              "        vertical-align: top;\n",
              "    }\n",
              "\n",
              "    .dataframe thead th {\n",
              "        text-align: right;\n",
              "    }\n",
              "</style>\n",
              "<table border=\"1\" class=\"dataframe\">\n",
              "  <thead>\n",
              "    <tr style=\"text-align: right;\">\n",
              "      <th></th>\n",
              "      <th>make</th>\n",
              "      <th>model</th>\n",
              "      <th>year</th>\n",
              "      <th>engine_fuel_type</th>\n",
              "      <th>engine_hp</th>\n",
              "      <th>engine_cylinders</th>\n",
              "      <th>transmission_type</th>\n",
              "      <th>driven_wheels</th>\n",
              "      <th>number_of_doors</th>\n",
              "      <th>market_category</th>\n",
              "      <th>vehicle_size</th>\n",
              "      <th>vehicle_style</th>\n",
              "      <th>highway_mpg</th>\n",
              "      <th>city_mpg</th>\n",
              "      <th>popularity</th>\n",
              "      <th>msrp</th>\n",
              "    </tr>\n",
              "  </thead>\n",
              "  <tbody>\n",
              "    <tr>\n",
              "      <th>0</th>\n",
              "      <td>bmw</td>\n",
              "      <td>1_series_m</td>\n",
              "      <td>2011</td>\n",
              "      <td>premium_unleaded_(required)</td>\n",
              "      <td>335.0</td>\n",
              "      <td>6.0</td>\n",
              "      <td>manual</td>\n",
              "      <td>rear_wheel_drive</td>\n",
              "      <td>2.0</td>\n",
              "      <td>factory_tuner,luxury,high-performance</td>\n",
              "      <td>compact</td>\n",
              "      <td>coupe</td>\n",
              "      <td>26</td>\n",
              "      <td>19</td>\n",
              "      <td>3916</td>\n",
              "      <td>46135</td>\n",
              "    </tr>\n",
              "    <tr>\n",
              "      <th>1</th>\n",
              "      <td>bmw</td>\n",
              "      <td>1_series</td>\n",
              "      <td>2011</td>\n",
              "      <td>premium_unleaded_(required)</td>\n",
              "      <td>300.0</td>\n",
              "      <td>6.0</td>\n",
              "      <td>manual</td>\n",
              "      <td>rear_wheel_drive</td>\n",
              "      <td>2.0</td>\n",
              "      <td>luxury,performance</td>\n",
              "      <td>compact</td>\n",
              "      <td>convertible</td>\n",
              "      <td>28</td>\n",
              "      <td>19</td>\n",
              "      <td>3916</td>\n",
              "      <td>40650</td>\n",
              "    </tr>\n",
              "    <tr>\n",
              "      <th>2</th>\n",
              "      <td>bmw</td>\n",
              "      <td>1_series</td>\n",
              "      <td>2011</td>\n",
              "      <td>premium_unleaded_(required)</td>\n",
              "      <td>300.0</td>\n",
              "      <td>6.0</td>\n",
              "      <td>manual</td>\n",
              "      <td>rear_wheel_drive</td>\n",
              "      <td>2.0</td>\n",
              "      <td>luxury,high-performance</td>\n",
              "      <td>compact</td>\n",
              "      <td>coupe</td>\n",
              "      <td>28</td>\n",
              "      <td>20</td>\n",
              "      <td>3916</td>\n",
              "      <td>36350</td>\n",
              "    </tr>\n",
              "    <tr>\n",
              "      <th>3</th>\n",
              "      <td>bmw</td>\n",
              "      <td>1_series</td>\n",
              "      <td>2011</td>\n",
              "      <td>premium_unleaded_(required)</td>\n",
              "      <td>230.0</td>\n",
              "      <td>6.0</td>\n",
              "      <td>manual</td>\n",
              "      <td>rear_wheel_drive</td>\n",
              "      <td>2.0</td>\n",
              "      <td>luxury,performance</td>\n",
              "      <td>compact</td>\n",
              "      <td>coupe</td>\n",
              "      <td>28</td>\n",
              "      <td>18</td>\n",
              "      <td>3916</td>\n",
              "      <td>29450</td>\n",
              "    </tr>\n",
              "    <tr>\n",
              "      <th>4</th>\n",
              "      <td>bmw</td>\n",
              "      <td>1_series</td>\n",
              "      <td>2011</td>\n",
              "      <td>premium_unleaded_(required)</td>\n",
              "      <td>230.0</td>\n",
              "      <td>6.0</td>\n",
              "      <td>manual</td>\n",
              "      <td>rear_wheel_drive</td>\n",
              "      <td>2.0</td>\n",
              "      <td>luxury</td>\n",
              "      <td>compact</td>\n",
              "      <td>convertible</td>\n",
              "      <td>28</td>\n",
              "      <td>18</td>\n",
              "      <td>3916</td>\n",
              "      <td>34500</td>\n",
              "    </tr>\n",
              "    <tr>\n",
              "      <th>...</th>\n",
              "      <td>...</td>\n",
              "      <td>...</td>\n",
              "      <td>...</td>\n",
              "      <td>...</td>\n",
              "      <td>...</td>\n",
              "      <td>...</td>\n",
              "      <td>...</td>\n",
              "      <td>...</td>\n",
              "      <td>...</td>\n",
              "      <td>...</td>\n",
              "      <td>...</td>\n",
              "      <td>...</td>\n",
              "      <td>...</td>\n",
              "      <td>...</td>\n",
              "      <td>...</td>\n",
              "      <td>...</td>\n",
              "    </tr>\n",
              "    <tr>\n",
              "      <th>11909</th>\n",
              "      <td>acura</td>\n",
              "      <td>zdx</td>\n",
              "      <td>2012</td>\n",
              "      <td>premium_unleaded_(required)</td>\n",
              "      <td>300.0</td>\n",
              "      <td>6.0</td>\n",
              "      <td>automatic</td>\n",
              "      <td>all_wheel_drive</td>\n",
              "      <td>4.0</td>\n",
              "      <td>crossover,hatchback,luxury</td>\n",
              "      <td>midsize</td>\n",
              "      <td>4dr_hatchback</td>\n",
              "      <td>23</td>\n",
              "      <td>16</td>\n",
              "      <td>204</td>\n",
              "      <td>46120</td>\n",
              "    </tr>\n",
              "    <tr>\n",
              "      <th>11910</th>\n",
              "      <td>acura</td>\n",
              "      <td>zdx</td>\n",
              "      <td>2012</td>\n",
              "      <td>premium_unleaded_(required)</td>\n",
              "      <td>300.0</td>\n",
              "      <td>6.0</td>\n",
              "      <td>automatic</td>\n",
              "      <td>all_wheel_drive</td>\n",
              "      <td>4.0</td>\n",
              "      <td>crossover,hatchback,luxury</td>\n",
              "      <td>midsize</td>\n",
              "      <td>4dr_hatchback</td>\n",
              "      <td>23</td>\n",
              "      <td>16</td>\n",
              "      <td>204</td>\n",
              "      <td>56670</td>\n",
              "    </tr>\n",
              "    <tr>\n",
              "      <th>11911</th>\n",
              "      <td>acura</td>\n",
              "      <td>zdx</td>\n",
              "      <td>2012</td>\n",
              "      <td>premium_unleaded_(required)</td>\n",
              "      <td>300.0</td>\n",
              "      <td>6.0</td>\n",
              "      <td>automatic</td>\n",
              "      <td>all_wheel_drive</td>\n",
              "      <td>4.0</td>\n",
              "      <td>crossover,hatchback,luxury</td>\n",
              "      <td>midsize</td>\n",
              "      <td>4dr_hatchback</td>\n",
              "      <td>23</td>\n",
              "      <td>16</td>\n",
              "      <td>204</td>\n",
              "      <td>50620</td>\n",
              "    </tr>\n",
              "    <tr>\n",
              "      <th>11912</th>\n",
              "      <td>acura</td>\n",
              "      <td>zdx</td>\n",
              "      <td>2013</td>\n",
              "      <td>premium_unleaded_(recommended)</td>\n",
              "      <td>300.0</td>\n",
              "      <td>6.0</td>\n",
              "      <td>automatic</td>\n",
              "      <td>all_wheel_drive</td>\n",
              "      <td>4.0</td>\n",
              "      <td>crossover,hatchback,luxury</td>\n",
              "      <td>midsize</td>\n",
              "      <td>4dr_hatchback</td>\n",
              "      <td>23</td>\n",
              "      <td>16</td>\n",
              "      <td>204</td>\n",
              "      <td>50920</td>\n",
              "    </tr>\n",
              "    <tr>\n",
              "      <th>11913</th>\n",
              "      <td>lincoln</td>\n",
              "      <td>zephyr</td>\n",
              "      <td>2006</td>\n",
              "      <td>regular_unleaded</td>\n",
              "      <td>221.0</td>\n",
              "      <td>6.0</td>\n",
              "      <td>automatic</td>\n",
              "      <td>front_wheel_drive</td>\n",
              "      <td>4.0</td>\n",
              "      <td>luxury</td>\n",
              "      <td>midsize</td>\n",
              "      <td>sedan</td>\n",
              "      <td>26</td>\n",
              "      <td>17</td>\n",
              "      <td>61</td>\n",
              "      <td>28995</td>\n",
              "    </tr>\n",
              "  </tbody>\n",
              "</table>\n",
              "<p>11914 rows × 16 columns</p>\n",
              "</div>\n",
              "      <button class=\"colab-df-convert\" onclick=\"convertToInteractive('df-f16aa862-1186-42a0-ac82-989c2d1c4fbb')\"\n",
              "              title=\"Convert this dataframe to an interactive table.\"\n",
              "              style=\"display:none;\">\n",
              "        \n",
              "  <svg xmlns=\"http://www.w3.org/2000/svg\" height=\"24px\"viewBox=\"0 0 24 24\"\n",
              "       width=\"24px\">\n",
              "    <path d=\"M0 0h24v24H0V0z\" fill=\"none\"/>\n",
              "    <path d=\"M18.56 5.44l.94 2.06.94-2.06 2.06-.94-2.06-.94-.94-2.06-.94 2.06-2.06.94zm-11 1L8.5 8.5l.94-2.06 2.06-.94-2.06-.94L8.5 2.5l-.94 2.06-2.06.94zm10 10l.94 2.06.94-2.06 2.06-.94-2.06-.94-.94-2.06-.94 2.06-2.06.94z\"/><path d=\"M17.41 7.96l-1.37-1.37c-.4-.4-.92-.59-1.43-.59-.52 0-1.04.2-1.43.59L10.3 9.45l-7.72 7.72c-.78.78-.78 2.05 0 2.83L4 21.41c.39.39.9.59 1.41.59.51 0 1.02-.2 1.41-.59l7.78-7.78 2.81-2.81c.8-.78.8-2.07 0-2.86zM5.41 20L4 18.59l7.72-7.72 1.47 1.35L5.41 20z\"/>\n",
              "  </svg>\n",
              "      </button>\n",
              "      \n",
              "  <style>\n",
              "    .colab-df-container {\n",
              "      display:flex;\n",
              "      flex-wrap:wrap;\n",
              "      gap: 12px;\n",
              "    }\n",
              "\n",
              "    .colab-df-convert {\n",
              "      background-color: #E8F0FE;\n",
              "      border: none;\n",
              "      border-radius: 50%;\n",
              "      cursor: pointer;\n",
              "      display: none;\n",
              "      fill: #1967D2;\n",
              "      height: 32px;\n",
              "      padding: 0 0 0 0;\n",
              "      width: 32px;\n",
              "    }\n",
              "\n",
              "    .colab-df-convert:hover {\n",
              "      background-color: #E2EBFA;\n",
              "      box-shadow: 0px 1px 2px rgba(60, 64, 67, 0.3), 0px 1px 3px 1px rgba(60, 64, 67, 0.15);\n",
              "      fill: #174EA6;\n",
              "    }\n",
              "\n",
              "    [theme=dark] .colab-df-convert {\n",
              "      background-color: #3B4455;\n",
              "      fill: #D2E3FC;\n",
              "    }\n",
              "\n",
              "    [theme=dark] .colab-df-convert:hover {\n",
              "      background-color: #434B5C;\n",
              "      box-shadow: 0px 1px 3px 1px rgba(0, 0, 0, 0.15);\n",
              "      filter: drop-shadow(0px 1px 2px rgba(0, 0, 0, 0.3));\n",
              "      fill: #FFFFFF;\n",
              "    }\n",
              "  </style>\n",
              "\n",
              "      <script>\n",
              "        const buttonEl =\n",
              "          document.querySelector('#df-f16aa862-1186-42a0-ac82-989c2d1c4fbb button.colab-df-convert');\n",
              "        buttonEl.style.display =\n",
              "          google.colab.kernel.accessAllowed ? 'block' : 'none';\n",
              "\n",
              "        async function convertToInteractive(key) {\n",
              "          const element = document.querySelector('#df-f16aa862-1186-42a0-ac82-989c2d1c4fbb');\n",
              "          const dataTable =\n",
              "            await google.colab.kernel.invokeFunction('convertToInteractive',\n",
              "                                                     [key], {});\n",
              "          if (!dataTable) return;\n",
              "\n",
              "          const docLinkHtml = 'Like what you see? Visit the ' +\n",
              "            '<a target=\"_blank\" href=https://colab.research.google.com/notebooks/data_table.ipynb>data table notebook</a>'\n",
              "            + ' to learn more about interactive tables.';\n",
              "          element.innerHTML = '';\n",
              "          dataTable['output_type'] = 'display_data';\n",
              "          await google.colab.output.renderOutput(dataTable, element);\n",
              "          const docLink = document.createElement('div');\n",
              "          docLink.innerHTML = docLinkHtml;\n",
              "          element.appendChild(docLink);\n",
              "        }\n",
              "      </script>\n",
              "    </div>\n",
              "  </div>\n",
              "  "
            ]
          },
          "metadata": {},
          "execution_count": 39
        }
      ],
      "source": [
        "# after this we are going to look at the missing value\n",
        "df\n",
        "# and for that we are going to look at values are NAN (not a number)\n",
        "# in pandas this means the value is missing or doesn't exist or wasn't recorded"
      ]
    },
    {
      "cell_type": "code",
      "execution_count": 40,
      "metadata": {
        "colab": {
          "base_uri": "https://localhost:8080/"
        },
        "id": "q1hr7l7upN4m",
        "outputId": "b2e48aa8-a289-4a45-e7ab-818f0e901565"
      },
      "outputs": [
        {
          "output_type": "execute_result",
          "data": {
            "text/plain": [
              "make                    0\n",
              "model                   0\n",
              "year                    0\n",
              "engine_fuel_type        3\n",
              "engine_hp              69\n",
              "engine_cylinders       30\n",
              "transmission_type       0\n",
              "driven_wheels           0\n",
              "number_of_doors         6\n",
              "market_category      3742\n",
              "vehicle_size            0\n",
              "vehicle_style           0\n",
              "highway_mpg             0\n",
              "city_mpg                0\n",
              "popularity              0\n",
              "msrp                    0\n",
              "dtype: int64"
            ]
          },
          "metadata": {},
          "execution_count": 40
        }
      ],
      "source": [
        "# Find the missing values using the methods isnull and sum for totals\n",
        "df.isnull().sum()\n",
        "# with this data e.g. we have 3 missing values with the column 'engine_fuel_type'\n",
        "# this missing values we need to keep in mind when we train our model"
      ]
    },
    {
      "cell_type": "markdown",
      "metadata": {
        "id": "BmHPVqS9rq-x"
      },
      "source": [
        "###2.4 Setting up the validation framework"
      ]
    },
    {
      "cell_type": "code",
      "execution_count": 41,
      "metadata": {
        "id": "dCxiPEOnqNcd"
      },
      "outputs": [],
      "source": [
        "# before train the model we need to make sure we can validate the model\n",
        "# the size of the validate should be 20%"
      ]
    },
    {
      "cell_type": "code",
      "execution_count": 42,
      "metadata": {
        "colab": {
          "base_uri": "https://localhost:8080/"
        },
        "id": "7DNevRd9GxR7",
        "outputId": "65581c65-d454-4b09-9f7f-6428bf8924f2"
      },
      "outputs": [
        {
          "output_type": "execute_result",
          "data": {
            "text/plain": [
              "11914"
            ]
          },
          "metadata": {},
          "execution_count": 42
        }
      ],
      "source": [
        "# Print size of the dataset\n",
        "len(df)"
      ]
    },
    {
      "cell_type": "code",
      "execution_count": 43,
      "metadata": {
        "colab": {
          "base_uri": "https://localhost:8080/"
        },
        "id": "SUjS9qs6G3A8",
        "outputId": "dfeebb8a-86e8-435c-f056-98ca2e1d1e08"
      },
      "outputs": [
        {
          "output_type": "execute_result",
          "data": {
            "text/plain": [
              "2382.8"
            ]
          },
          "metadata": {},
          "execution_count": 43
        }
      ],
      "source": [
        "# Print 20% of the size of the dataset\n",
        "len(df) * 0.2"
      ]
    },
    {
      "cell_type": "code",
      "execution_count": 44,
      "metadata": {
        "colab": {
          "base_uri": "https://localhost:8080/"
        },
        "id": "ThYFL3_cHQg-",
        "outputId": "46928100-a0d7-4108-9190-deb0b5363e1a"
      },
      "outputs": [
        {
          "output_type": "execute_result",
          "data": {
            "text/plain": [
              "2382"
            ]
          },
          "metadata": {},
          "execution_count": 44
        }
      ],
      "source": [
        "# Print 20% of the size of the dataset but as integer\n",
        "# we don't want to have a fraction number\n",
        "int(len(df) * 0.2)"
      ]
    },
    {
      "cell_type": "code",
      "execution_count": 45,
      "metadata": {
        "id": "wGvDorK-HtW3"
      },
      "outputs": [],
      "source": [
        "# Define the size of the dataset for validation, test and training\n",
        "n       = len(df)\n",
        "n_val   = int(n * 0.2)\n",
        "n_test  = int(n * 0.2)\n",
        "n_train = n - n_val - n_test  "
      ]
    },
    {
      "cell_type": "code",
      "execution_count": 46,
      "metadata": {
        "colab": {
          "base_uri": "https://localhost:8080/"
        },
        "id": "7ug3v7iwI70o",
        "outputId": "dfa57b9c-42e7-4c68-9af5-8479b67df16b"
      },
      "outputs": [
        {
          "output_type": "execute_result",
          "data": {
            "text/plain": [
              "(2382, 2382, 7150)"
            ]
          },
          "metadata": {},
          "execution_count": 46
        }
      ],
      "source": [
        "# Print number of records for validation, test and training\n",
        "n_val, n_test, n_train"
      ]
    },
    {
      "cell_type": "code",
      "execution_count": 47,
      "metadata": {
        "id": "XHm1OeKuJKF9"
      },
      "outputs": [],
      "source": [
        "# now we know the size of the dataframe we need to take the parts of the dataframe\n",
        "# out of this size\n",
        "\n",
        "# Store the records for validation, test and training\n",
        "df_val   = df.iloc[:n_val]\n",
        "df_test  = df.iloc[n_val:n_val+n_test]\n",
        "df_train = df.iloc[n_val+n_test:]"
      ]
    },
    {
      "cell_type": "code",
      "execution_count": 48,
      "metadata": {
        "colab": {
          "base_uri": "https://localhost:8080/",
          "height": 488
        },
        "id": "dV4HiFBcKsTj",
        "outputId": "4c14ec5a-5a46-443d-b139-88f1623451d7"
      },
      "outputs": [
        {
          "output_type": "execute_result",
          "data": {
            "text/plain": [
              "          make   model  year                engine_fuel_type  engine_hp  \\\n",
              "4764      ford    flex  2016                regular_unleaded      287.0   \n",
              "4765      ford    flex  2017  premium_unleaded_(recommended)      365.0   \n",
              "4766      ford    flex  2017                regular_unleaded      287.0   \n",
              "4767      ford    flex  2017                regular_unleaded      287.0   \n",
              "4768      ford    flex  2017                regular_unleaded      287.0   \n",
              "...        ...     ...   ...                             ...        ...   \n",
              "11909    acura     zdx  2012     premium_unleaded_(required)      300.0   \n",
              "11910    acura     zdx  2012     premium_unleaded_(required)      300.0   \n",
              "11911    acura     zdx  2012     premium_unleaded_(required)      300.0   \n",
              "11912    acura     zdx  2013  premium_unleaded_(recommended)      300.0   \n",
              "11913  lincoln  zephyr  2006                regular_unleaded      221.0   \n",
              "\n",
              "       engine_cylinders transmission_type      driven_wheels  number_of_doors  \\\n",
              "4764                6.0         automatic  front_wheel_drive              4.0   \n",
              "4765                6.0         automatic    all_wheel_drive              4.0   \n",
              "4766                6.0         automatic    all_wheel_drive              4.0   \n",
              "4767                6.0         automatic  front_wheel_drive              4.0   \n",
              "4768                6.0         automatic  front_wheel_drive              4.0   \n",
              "...                 ...               ...                ...              ...   \n",
              "11909               6.0         automatic    all_wheel_drive              4.0   \n",
              "11910               6.0         automatic    all_wheel_drive              4.0   \n",
              "11911               6.0         automatic    all_wheel_drive              4.0   \n",
              "11912               6.0         automatic    all_wheel_drive              4.0   \n",
              "11913               6.0         automatic  front_wheel_drive              4.0   \n",
              "\n",
              "                  market_category vehicle_size  vehicle_style  highway_mpg  \\\n",
              "4764        crossover,performance        large          wagon           23   \n",
              "4765                    crossover        large          wagon           21   \n",
              "4766        crossover,performance        large          wagon           22   \n",
              "4767        crossover,performance        large          wagon           23   \n",
              "4768        crossover,performance        large          wagon           23   \n",
              "...                           ...          ...            ...          ...   \n",
              "11909  crossover,hatchback,luxury      midsize  4dr_hatchback           23   \n",
              "11910  crossover,hatchback,luxury      midsize  4dr_hatchback           23   \n",
              "11911  crossover,hatchback,luxury      midsize  4dr_hatchback           23   \n",
              "11912  crossover,hatchback,luxury      midsize  4dr_hatchback           23   \n",
              "11913                      luxury      midsize          sedan           26   \n",
              "\n",
              "       city_mpg  popularity   msrp  \n",
              "4764         16        5657  37800  \n",
              "4765         15        5657  43030  \n",
              "4766         16        5657  40180  \n",
              "4767         16        5657  32730  \n",
              "4768         16        5657  38230  \n",
              "...         ...         ...    ...  \n",
              "11909        16         204  46120  \n",
              "11910        16         204  56670  \n",
              "11911        16         204  50620  \n",
              "11912        16         204  50920  \n",
              "11913        17          61  28995  \n",
              "\n",
              "[7150 rows x 16 columns]"
            ],
            "text/html": [
              "\n",
              "  <div id=\"df-5513f7da-937c-4e92-9015-47ca575fb2a9\">\n",
              "    <div class=\"colab-df-container\">\n",
              "      <div>\n",
              "<style scoped>\n",
              "    .dataframe tbody tr th:only-of-type {\n",
              "        vertical-align: middle;\n",
              "    }\n",
              "\n",
              "    .dataframe tbody tr th {\n",
              "        vertical-align: top;\n",
              "    }\n",
              "\n",
              "    .dataframe thead th {\n",
              "        text-align: right;\n",
              "    }\n",
              "</style>\n",
              "<table border=\"1\" class=\"dataframe\">\n",
              "  <thead>\n",
              "    <tr style=\"text-align: right;\">\n",
              "      <th></th>\n",
              "      <th>make</th>\n",
              "      <th>model</th>\n",
              "      <th>year</th>\n",
              "      <th>engine_fuel_type</th>\n",
              "      <th>engine_hp</th>\n",
              "      <th>engine_cylinders</th>\n",
              "      <th>transmission_type</th>\n",
              "      <th>driven_wheels</th>\n",
              "      <th>number_of_doors</th>\n",
              "      <th>market_category</th>\n",
              "      <th>vehicle_size</th>\n",
              "      <th>vehicle_style</th>\n",
              "      <th>highway_mpg</th>\n",
              "      <th>city_mpg</th>\n",
              "      <th>popularity</th>\n",
              "      <th>msrp</th>\n",
              "    </tr>\n",
              "  </thead>\n",
              "  <tbody>\n",
              "    <tr>\n",
              "      <th>4764</th>\n",
              "      <td>ford</td>\n",
              "      <td>flex</td>\n",
              "      <td>2016</td>\n",
              "      <td>regular_unleaded</td>\n",
              "      <td>287.0</td>\n",
              "      <td>6.0</td>\n",
              "      <td>automatic</td>\n",
              "      <td>front_wheel_drive</td>\n",
              "      <td>4.0</td>\n",
              "      <td>crossover,performance</td>\n",
              "      <td>large</td>\n",
              "      <td>wagon</td>\n",
              "      <td>23</td>\n",
              "      <td>16</td>\n",
              "      <td>5657</td>\n",
              "      <td>37800</td>\n",
              "    </tr>\n",
              "    <tr>\n",
              "      <th>4765</th>\n",
              "      <td>ford</td>\n",
              "      <td>flex</td>\n",
              "      <td>2017</td>\n",
              "      <td>premium_unleaded_(recommended)</td>\n",
              "      <td>365.0</td>\n",
              "      <td>6.0</td>\n",
              "      <td>automatic</td>\n",
              "      <td>all_wheel_drive</td>\n",
              "      <td>4.0</td>\n",
              "      <td>crossover</td>\n",
              "      <td>large</td>\n",
              "      <td>wagon</td>\n",
              "      <td>21</td>\n",
              "      <td>15</td>\n",
              "      <td>5657</td>\n",
              "      <td>43030</td>\n",
              "    </tr>\n",
              "    <tr>\n",
              "      <th>4766</th>\n",
              "      <td>ford</td>\n",
              "      <td>flex</td>\n",
              "      <td>2017</td>\n",
              "      <td>regular_unleaded</td>\n",
              "      <td>287.0</td>\n",
              "      <td>6.0</td>\n",
              "      <td>automatic</td>\n",
              "      <td>all_wheel_drive</td>\n",
              "      <td>4.0</td>\n",
              "      <td>crossover,performance</td>\n",
              "      <td>large</td>\n",
              "      <td>wagon</td>\n",
              "      <td>22</td>\n",
              "      <td>16</td>\n",
              "      <td>5657</td>\n",
              "      <td>40180</td>\n",
              "    </tr>\n",
              "    <tr>\n",
              "      <th>4767</th>\n",
              "      <td>ford</td>\n",
              "      <td>flex</td>\n",
              "      <td>2017</td>\n",
              "      <td>regular_unleaded</td>\n",
              "      <td>287.0</td>\n",
              "      <td>6.0</td>\n",
              "      <td>automatic</td>\n",
              "      <td>front_wheel_drive</td>\n",
              "      <td>4.0</td>\n",
              "      <td>crossover,performance</td>\n",
              "      <td>large</td>\n",
              "      <td>wagon</td>\n",
              "      <td>23</td>\n",
              "      <td>16</td>\n",
              "      <td>5657</td>\n",
              "      <td>32730</td>\n",
              "    </tr>\n",
              "    <tr>\n",
              "      <th>4768</th>\n",
              "      <td>ford</td>\n",
              "      <td>flex</td>\n",
              "      <td>2017</td>\n",
              "      <td>regular_unleaded</td>\n",
              "      <td>287.0</td>\n",
              "      <td>6.0</td>\n",
              "      <td>automatic</td>\n",
              "      <td>front_wheel_drive</td>\n",
              "      <td>4.0</td>\n",
              "      <td>crossover,performance</td>\n",
              "      <td>large</td>\n",
              "      <td>wagon</td>\n",
              "      <td>23</td>\n",
              "      <td>16</td>\n",
              "      <td>5657</td>\n",
              "      <td>38230</td>\n",
              "    </tr>\n",
              "    <tr>\n",
              "      <th>...</th>\n",
              "      <td>...</td>\n",
              "      <td>...</td>\n",
              "      <td>...</td>\n",
              "      <td>...</td>\n",
              "      <td>...</td>\n",
              "      <td>...</td>\n",
              "      <td>...</td>\n",
              "      <td>...</td>\n",
              "      <td>...</td>\n",
              "      <td>...</td>\n",
              "      <td>...</td>\n",
              "      <td>...</td>\n",
              "      <td>...</td>\n",
              "      <td>...</td>\n",
              "      <td>...</td>\n",
              "      <td>...</td>\n",
              "    </tr>\n",
              "    <tr>\n",
              "      <th>11909</th>\n",
              "      <td>acura</td>\n",
              "      <td>zdx</td>\n",
              "      <td>2012</td>\n",
              "      <td>premium_unleaded_(required)</td>\n",
              "      <td>300.0</td>\n",
              "      <td>6.0</td>\n",
              "      <td>automatic</td>\n",
              "      <td>all_wheel_drive</td>\n",
              "      <td>4.0</td>\n",
              "      <td>crossover,hatchback,luxury</td>\n",
              "      <td>midsize</td>\n",
              "      <td>4dr_hatchback</td>\n",
              "      <td>23</td>\n",
              "      <td>16</td>\n",
              "      <td>204</td>\n",
              "      <td>46120</td>\n",
              "    </tr>\n",
              "    <tr>\n",
              "      <th>11910</th>\n",
              "      <td>acura</td>\n",
              "      <td>zdx</td>\n",
              "      <td>2012</td>\n",
              "      <td>premium_unleaded_(required)</td>\n",
              "      <td>300.0</td>\n",
              "      <td>6.0</td>\n",
              "      <td>automatic</td>\n",
              "      <td>all_wheel_drive</td>\n",
              "      <td>4.0</td>\n",
              "      <td>crossover,hatchback,luxury</td>\n",
              "      <td>midsize</td>\n",
              "      <td>4dr_hatchback</td>\n",
              "      <td>23</td>\n",
              "      <td>16</td>\n",
              "      <td>204</td>\n",
              "      <td>56670</td>\n",
              "    </tr>\n",
              "    <tr>\n",
              "      <th>11911</th>\n",
              "      <td>acura</td>\n",
              "      <td>zdx</td>\n",
              "      <td>2012</td>\n",
              "      <td>premium_unleaded_(required)</td>\n",
              "      <td>300.0</td>\n",
              "      <td>6.0</td>\n",
              "      <td>automatic</td>\n",
              "      <td>all_wheel_drive</td>\n",
              "      <td>4.0</td>\n",
              "      <td>crossover,hatchback,luxury</td>\n",
              "      <td>midsize</td>\n",
              "      <td>4dr_hatchback</td>\n",
              "      <td>23</td>\n",
              "      <td>16</td>\n",
              "      <td>204</td>\n",
              "      <td>50620</td>\n",
              "    </tr>\n",
              "    <tr>\n",
              "      <th>11912</th>\n",
              "      <td>acura</td>\n",
              "      <td>zdx</td>\n",
              "      <td>2013</td>\n",
              "      <td>premium_unleaded_(recommended)</td>\n",
              "      <td>300.0</td>\n",
              "      <td>6.0</td>\n",
              "      <td>automatic</td>\n",
              "      <td>all_wheel_drive</td>\n",
              "      <td>4.0</td>\n",
              "      <td>crossover,hatchback,luxury</td>\n",
              "      <td>midsize</td>\n",
              "      <td>4dr_hatchback</td>\n",
              "      <td>23</td>\n",
              "      <td>16</td>\n",
              "      <td>204</td>\n",
              "      <td>50920</td>\n",
              "    </tr>\n",
              "    <tr>\n",
              "      <th>11913</th>\n",
              "      <td>lincoln</td>\n",
              "      <td>zephyr</td>\n",
              "      <td>2006</td>\n",
              "      <td>regular_unleaded</td>\n",
              "      <td>221.0</td>\n",
              "      <td>6.0</td>\n",
              "      <td>automatic</td>\n",
              "      <td>front_wheel_drive</td>\n",
              "      <td>4.0</td>\n",
              "      <td>luxury</td>\n",
              "      <td>midsize</td>\n",
              "      <td>sedan</td>\n",
              "      <td>26</td>\n",
              "      <td>17</td>\n",
              "      <td>61</td>\n",
              "      <td>28995</td>\n",
              "    </tr>\n",
              "  </tbody>\n",
              "</table>\n",
              "<p>7150 rows × 16 columns</p>\n",
              "</div>\n",
              "      <button class=\"colab-df-convert\" onclick=\"convertToInteractive('df-5513f7da-937c-4e92-9015-47ca575fb2a9')\"\n",
              "              title=\"Convert this dataframe to an interactive table.\"\n",
              "              style=\"display:none;\">\n",
              "        \n",
              "  <svg xmlns=\"http://www.w3.org/2000/svg\" height=\"24px\"viewBox=\"0 0 24 24\"\n",
              "       width=\"24px\">\n",
              "    <path d=\"M0 0h24v24H0V0z\" fill=\"none\"/>\n",
              "    <path d=\"M18.56 5.44l.94 2.06.94-2.06 2.06-.94-2.06-.94-.94-2.06-.94 2.06-2.06.94zm-11 1L8.5 8.5l.94-2.06 2.06-.94-2.06-.94L8.5 2.5l-.94 2.06-2.06.94zm10 10l.94 2.06.94-2.06 2.06-.94-2.06-.94-.94-2.06-.94 2.06-2.06.94z\"/><path d=\"M17.41 7.96l-1.37-1.37c-.4-.4-.92-.59-1.43-.59-.52 0-1.04.2-1.43.59L10.3 9.45l-7.72 7.72c-.78.78-.78 2.05 0 2.83L4 21.41c.39.39.9.59 1.41.59.51 0 1.02-.2 1.41-.59l7.78-7.78 2.81-2.81c.8-.78.8-2.07 0-2.86zM5.41 20L4 18.59l7.72-7.72 1.47 1.35L5.41 20z\"/>\n",
              "  </svg>\n",
              "      </button>\n",
              "      \n",
              "  <style>\n",
              "    .colab-df-container {\n",
              "      display:flex;\n",
              "      flex-wrap:wrap;\n",
              "      gap: 12px;\n",
              "    }\n",
              "\n",
              "    .colab-df-convert {\n",
              "      background-color: #E8F0FE;\n",
              "      border: none;\n",
              "      border-radius: 50%;\n",
              "      cursor: pointer;\n",
              "      display: none;\n",
              "      fill: #1967D2;\n",
              "      height: 32px;\n",
              "      padding: 0 0 0 0;\n",
              "      width: 32px;\n",
              "    }\n",
              "\n",
              "    .colab-df-convert:hover {\n",
              "      background-color: #E2EBFA;\n",
              "      box-shadow: 0px 1px 2px rgba(60, 64, 67, 0.3), 0px 1px 3px 1px rgba(60, 64, 67, 0.15);\n",
              "      fill: #174EA6;\n",
              "    }\n",
              "\n",
              "    [theme=dark] .colab-df-convert {\n",
              "      background-color: #3B4455;\n",
              "      fill: #D2E3FC;\n",
              "    }\n",
              "\n",
              "    [theme=dark] .colab-df-convert:hover {\n",
              "      background-color: #434B5C;\n",
              "      box-shadow: 0px 1px 3px 1px rgba(0, 0, 0, 0.15);\n",
              "      filter: drop-shadow(0px 1px 2px rgba(0, 0, 0, 0.3));\n",
              "      fill: #FFFFFF;\n",
              "    }\n",
              "  </style>\n",
              "\n",
              "      <script>\n",
              "        const buttonEl =\n",
              "          document.querySelector('#df-5513f7da-937c-4e92-9015-47ca575fb2a9 button.colab-df-convert');\n",
              "        buttonEl.style.display =\n",
              "          google.colab.kernel.accessAllowed ? 'block' : 'none';\n",
              "\n",
              "        async function convertToInteractive(key) {\n",
              "          const element = document.querySelector('#df-5513f7da-937c-4e92-9015-47ca575fb2a9');\n",
              "          const dataTable =\n",
              "            await google.colab.kernel.invokeFunction('convertToInteractive',\n",
              "                                                     [key], {});\n",
              "          if (!dataTable) return;\n",
              "\n",
              "          const docLinkHtml = 'Like what you see? Visit the ' +\n",
              "            '<a target=\"_blank\" href=https://colab.research.google.com/notebooks/data_table.ipynb>data table notebook</a>'\n",
              "            + ' to learn more about interactive tables.';\n",
              "          element.innerHTML = '';\n",
              "          dataTable['output_type'] = 'display_data';\n",
              "          await google.colab.output.renderOutput(dataTable, element);\n",
              "          const docLink = document.createElement('div');\n",
              "          docLink.innerHTML = docLinkHtml;\n",
              "          element.appendChild(docLink);\n",
              "        }\n",
              "      </script>\n",
              "    </div>\n",
              "  </div>\n",
              "  "
            ]
          },
          "metadata": {},
          "execution_count": 48
        }
      ],
      "source": [
        "df_train\n",
        "# with this data we have a problem and its because is recorded by make and it means some of the brands\n",
        "# e.g. ford are only in the training dataframe\n",
        "\n",
        "# so the solution is to shuffle the data or to break it in case there's any accidental order in the data"
      ]
    },
    {
      "cell_type": "code",
      "execution_count": 49,
      "metadata": {
        "id": "xE6TVcOpLAe1"
      },
      "outputs": [],
      "source": [
        "# The split of data should start first with the training, then validation and last test\n",
        "df_train = df.iloc[n_train:]\n",
        "df_val   = df.iloc[n_train:n_train+n_val]\n",
        "df_test  = df.iloc[n_train+n_val:]"
      ]
    },
    {
      "cell_type": "code",
      "execution_count": 50,
      "metadata": {
        "colab": {
          "base_uri": "https://localhost:8080/"
        },
        "id": "21dhF5q4Tkqq",
        "outputId": "e5450843-8591-42d9-d0c2-57b99bacfd96"
      },
      "outputs": [
        {
          "output_type": "execute_result",
          "data": {
            "text/plain": [
              "array([    0,     1,     2, ..., 11911, 11912, 11913])"
            ]
          },
          "metadata": {},
          "execution_count": 50
        }
      ],
      "source": [
        "# Generate a sequence of numbers from one to n-1\n",
        "idx = np.arange(n)\n",
        "idx"
      ]
    },
    {
      "cell_type": "code",
      "execution_count": 51,
      "metadata": {
        "id": "Jh9yxuP8UUiw"
      },
      "outputs": [],
      "source": [
        "# Shuffle the numbers generated\n",
        "# Use seed method to make the results reproducible\n",
        "np.random.seed(2)\n",
        "np.random.shuffle(idx)"
      ]
    },
    {
      "cell_type": "code",
      "execution_count": 52,
      "metadata": {
        "colab": {
          "base_uri": "https://localhost:8080/"
        },
        "id": "fFi0t0HoUtli",
        "outputId": "7098cd5f-158d-4bb9-af1d-90c5532f79e7"
      },
      "outputs": [
        {
          "output_type": "execute_result",
          "data": {
            "text/plain": [
              "array([2735, 6720, 5878, ..., 6637, 2575, 7336])"
            ]
          },
          "metadata": {},
          "execution_count": 52
        }
      ],
      "source": [
        "# Print the numbers shuffled\n",
        "idx"
      ]
    },
    {
      "cell_type": "code",
      "execution_count": 53,
      "metadata": {
        "id": "HOw2tdrpU-z5"
      },
      "outputs": [],
      "source": [
        "# Use the index to isolate the data for training, validation and test\n",
        "df_train = df.iloc[idx[:n_train]]\n",
        "df_val   = df.iloc[idx[n_train: n_train + n_val]]\n",
        "df_test  = df.iloc[idx[n_train + n_val:]]"
      ]
    },
    {
      "cell_type": "code",
      "execution_count": 54,
      "metadata": {
        "colab": {
          "base_uri": "https://localhost:8080/",
          "height": 444
        },
        "id": "b87bVm8nV4Lb",
        "outputId": "5178feb4-52e2-4c30-c7be-9fa8bcae47e8"
      },
      "outputs": [
        {
          "output_type": "execute_result",
          "data": {
            "text/plain": [
              "             make            model  year             engine_fuel_type  \\\n",
              "2735    chevrolet           cobalt  2008             regular_unleaded   \n",
              "6720       toyota           matrix  2012             regular_unleaded   \n",
              "5878       subaru          impreza  2016             regular_unleaded   \n",
              "11190  volkswagen          vanagon  1991             regular_unleaded   \n",
              "4554         ford            f-150  2017     flex-fuel_(unleaded/e85)   \n",
              "8001   volkswagen           rabbit  2008             regular_unleaded   \n",
              "2882      bentley  continental_gtc  2013  premium_unleaded_(required)   \n",
              "649           bmw         6_series  2015  premium_unleaded_(required)   \n",
              "616       maybach               57  2012  premium_unleaded_(required)   \n",
              "4459         ford   f-150_heritage  2004             regular_unleaded   \n",
              "\n",
              "       engine_hp  engine_cylinders transmission_type      driven_wheels  \\\n",
              "2735       148.0               4.0            manual  front_wheel_drive   \n",
              "6720       132.0               4.0         automatic  front_wheel_drive   \n",
              "5878       148.0               4.0         automatic    all_wheel_drive   \n",
              "11190       90.0               4.0            manual   rear_wheel_drive   \n",
              "4554       385.0               8.0         automatic   four_wheel_drive   \n",
              "8001       170.0               5.0            manual  front_wheel_drive   \n",
              "2882       500.0               8.0         automatic    all_wheel_drive   \n",
              "649        315.0               6.0         automatic   rear_wheel_drive   \n",
              "616        543.0              12.0         automatic   rear_wheel_drive   \n",
              "4459       202.0               6.0            manual   four_wheel_drive   \n",
              "\n",
              "       number_of_doors                 market_category vehicle_size  \\\n",
              "2735               2.0                             NaN      compact   \n",
              "6720               4.0                       hatchback      compact   \n",
              "5878               4.0                       hatchback      compact   \n",
              "11190              3.0                             NaN        large   \n",
              "4554               4.0                       flex_fuel        large   \n",
              "8001               4.0                       hatchback      compact   \n",
              "2882               2.0  exotic,luxury,high-performance      midsize   \n",
              "649                2.0              luxury,performance      midsize   \n",
              "616                4.0                   exotic,luxury        large   \n",
              "4459               2.0                             NaN        large   \n",
              "\n",
              "            vehicle_style  highway_mpg  city_mpg  popularity    msrp  \n",
              "2735                coupe           33        24        1385   14410  \n",
              "6720        4dr_hatchback           32        25        2031   19685  \n",
              "5878        4dr_hatchback           37        28         640   19795  \n",
              "11190   passenger_minivan           18        16         873    2000  \n",
              "4554      crew_cab_pickup           21        15        5657   56260  \n",
              "8001        4dr_hatchback           29        22         873   17575  \n",
              "2882          convertible           24        14         520  191400  \n",
              "649                 coupe           32        21        3916   76100  \n",
              "616                 sedan           16        10          67  379050  \n",
              "4459   regular_cab_pickup           18        13        5657   26030  "
            ],
            "text/html": [
              "\n",
              "  <div id=\"df-6c60442e-6689-475d-a814-f83178dadbf9\">\n",
              "    <div class=\"colab-df-container\">\n",
              "      <div>\n",
              "<style scoped>\n",
              "    .dataframe tbody tr th:only-of-type {\n",
              "        vertical-align: middle;\n",
              "    }\n",
              "\n",
              "    .dataframe tbody tr th {\n",
              "        vertical-align: top;\n",
              "    }\n",
              "\n",
              "    .dataframe thead th {\n",
              "        text-align: right;\n",
              "    }\n",
              "</style>\n",
              "<table border=\"1\" class=\"dataframe\">\n",
              "  <thead>\n",
              "    <tr style=\"text-align: right;\">\n",
              "      <th></th>\n",
              "      <th>make</th>\n",
              "      <th>model</th>\n",
              "      <th>year</th>\n",
              "      <th>engine_fuel_type</th>\n",
              "      <th>engine_hp</th>\n",
              "      <th>engine_cylinders</th>\n",
              "      <th>transmission_type</th>\n",
              "      <th>driven_wheels</th>\n",
              "      <th>number_of_doors</th>\n",
              "      <th>market_category</th>\n",
              "      <th>vehicle_size</th>\n",
              "      <th>vehicle_style</th>\n",
              "      <th>highway_mpg</th>\n",
              "      <th>city_mpg</th>\n",
              "      <th>popularity</th>\n",
              "      <th>msrp</th>\n",
              "    </tr>\n",
              "  </thead>\n",
              "  <tbody>\n",
              "    <tr>\n",
              "      <th>2735</th>\n",
              "      <td>chevrolet</td>\n",
              "      <td>cobalt</td>\n",
              "      <td>2008</td>\n",
              "      <td>regular_unleaded</td>\n",
              "      <td>148.0</td>\n",
              "      <td>4.0</td>\n",
              "      <td>manual</td>\n",
              "      <td>front_wheel_drive</td>\n",
              "      <td>2.0</td>\n",
              "      <td>NaN</td>\n",
              "      <td>compact</td>\n",
              "      <td>coupe</td>\n",
              "      <td>33</td>\n",
              "      <td>24</td>\n",
              "      <td>1385</td>\n",
              "      <td>14410</td>\n",
              "    </tr>\n",
              "    <tr>\n",
              "      <th>6720</th>\n",
              "      <td>toyota</td>\n",
              "      <td>matrix</td>\n",
              "      <td>2012</td>\n",
              "      <td>regular_unleaded</td>\n",
              "      <td>132.0</td>\n",
              "      <td>4.0</td>\n",
              "      <td>automatic</td>\n",
              "      <td>front_wheel_drive</td>\n",
              "      <td>4.0</td>\n",
              "      <td>hatchback</td>\n",
              "      <td>compact</td>\n",
              "      <td>4dr_hatchback</td>\n",
              "      <td>32</td>\n",
              "      <td>25</td>\n",
              "      <td>2031</td>\n",
              "      <td>19685</td>\n",
              "    </tr>\n",
              "    <tr>\n",
              "      <th>5878</th>\n",
              "      <td>subaru</td>\n",
              "      <td>impreza</td>\n",
              "      <td>2016</td>\n",
              "      <td>regular_unleaded</td>\n",
              "      <td>148.0</td>\n",
              "      <td>4.0</td>\n",
              "      <td>automatic</td>\n",
              "      <td>all_wheel_drive</td>\n",
              "      <td>4.0</td>\n",
              "      <td>hatchback</td>\n",
              "      <td>compact</td>\n",
              "      <td>4dr_hatchback</td>\n",
              "      <td>37</td>\n",
              "      <td>28</td>\n",
              "      <td>640</td>\n",
              "      <td>19795</td>\n",
              "    </tr>\n",
              "    <tr>\n",
              "      <th>11190</th>\n",
              "      <td>volkswagen</td>\n",
              "      <td>vanagon</td>\n",
              "      <td>1991</td>\n",
              "      <td>regular_unleaded</td>\n",
              "      <td>90.0</td>\n",
              "      <td>4.0</td>\n",
              "      <td>manual</td>\n",
              "      <td>rear_wheel_drive</td>\n",
              "      <td>3.0</td>\n",
              "      <td>NaN</td>\n",
              "      <td>large</td>\n",
              "      <td>passenger_minivan</td>\n",
              "      <td>18</td>\n",
              "      <td>16</td>\n",
              "      <td>873</td>\n",
              "      <td>2000</td>\n",
              "    </tr>\n",
              "    <tr>\n",
              "      <th>4554</th>\n",
              "      <td>ford</td>\n",
              "      <td>f-150</td>\n",
              "      <td>2017</td>\n",
              "      <td>flex-fuel_(unleaded/e85)</td>\n",
              "      <td>385.0</td>\n",
              "      <td>8.0</td>\n",
              "      <td>automatic</td>\n",
              "      <td>four_wheel_drive</td>\n",
              "      <td>4.0</td>\n",
              "      <td>flex_fuel</td>\n",
              "      <td>large</td>\n",
              "      <td>crew_cab_pickup</td>\n",
              "      <td>21</td>\n",
              "      <td>15</td>\n",
              "      <td>5657</td>\n",
              "      <td>56260</td>\n",
              "    </tr>\n",
              "    <tr>\n",
              "      <th>8001</th>\n",
              "      <td>volkswagen</td>\n",
              "      <td>rabbit</td>\n",
              "      <td>2008</td>\n",
              "      <td>regular_unleaded</td>\n",
              "      <td>170.0</td>\n",
              "      <td>5.0</td>\n",
              "      <td>manual</td>\n",
              "      <td>front_wheel_drive</td>\n",
              "      <td>4.0</td>\n",
              "      <td>hatchback</td>\n",
              "      <td>compact</td>\n",
              "      <td>4dr_hatchback</td>\n",
              "      <td>29</td>\n",
              "      <td>22</td>\n",
              "      <td>873</td>\n",
              "      <td>17575</td>\n",
              "    </tr>\n",
              "    <tr>\n",
              "      <th>2882</th>\n",
              "      <td>bentley</td>\n",
              "      <td>continental_gtc</td>\n",
              "      <td>2013</td>\n",
              "      <td>premium_unleaded_(required)</td>\n",
              "      <td>500.0</td>\n",
              "      <td>8.0</td>\n",
              "      <td>automatic</td>\n",
              "      <td>all_wheel_drive</td>\n",
              "      <td>2.0</td>\n",
              "      <td>exotic,luxury,high-performance</td>\n",
              "      <td>midsize</td>\n",
              "      <td>convertible</td>\n",
              "      <td>24</td>\n",
              "      <td>14</td>\n",
              "      <td>520</td>\n",
              "      <td>191400</td>\n",
              "    </tr>\n",
              "    <tr>\n",
              "      <th>649</th>\n",
              "      <td>bmw</td>\n",
              "      <td>6_series</td>\n",
              "      <td>2015</td>\n",
              "      <td>premium_unleaded_(required)</td>\n",
              "      <td>315.0</td>\n",
              "      <td>6.0</td>\n",
              "      <td>automatic</td>\n",
              "      <td>rear_wheel_drive</td>\n",
              "      <td>2.0</td>\n",
              "      <td>luxury,performance</td>\n",
              "      <td>midsize</td>\n",
              "      <td>coupe</td>\n",
              "      <td>32</td>\n",
              "      <td>21</td>\n",
              "      <td>3916</td>\n",
              "      <td>76100</td>\n",
              "    </tr>\n",
              "    <tr>\n",
              "      <th>616</th>\n",
              "      <td>maybach</td>\n",
              "      <td>57</td>\n",
              "      <td>2012</td>\n",
              "      <td>premium_unleaded_(required)</td>\n",
              "      <td>543.0</td>\n",
              "      <td>12.0</td>\n",
              "      <td>automatic</td>\n",
              "      <td>rear_wheel_drive</td>\n",
              "      <td>4.0</td>\n",
              "      <td>exotic,luxury</td>\n",
              "      <td>large</td>\n",
              "      <td>sedan</td>\n",
              "      <td>16</td>\n",
              "      <td>10</td>\n",
              "      <td>67</td>\n",
              "      <td>379050</td>\n",
              "    </tr>\n",
              "    <tr>\n",
              "      <th>4459</th>\n",
              "      <td>ford</td>\n",
              "      <td>f-150_heritage</td>\n",
              "      <td>2004</td>\n",
              "      <td>regular_unleaded</td>\n",
              "      <td>202.0</td>\n",
              "      <td>6.0</td>\n",
              "      <td>manual</td>\n",
              "      <td>four_wheel_drive</td>\n",
              "      <td>2.0</td>\n",
              "      <td>NaN</td>\n",
              "      <td>large</td>\n",
              "      <td>regular_cab_pickup</td>\n",
              "      <td>18</td>\n",
              "      <td>13</td>\n",
              "      <td>5657</td>\n",
              "      <td>26030</td>\n",
              "    </tr>\n",
              "  </tbody>\n",
              "</table>\n",
              "</div>\n",
              "      <button class=\"colab-df-convert\" onclick=\"convertToInteractive('df-6c60442e-6689-475d-a814-f83178dadbf9')\"\n",
              "              title=\"Convert this dataframe to an interactive table.\"\n",
              "              style=\"display:none;\">\n",
              "        \n",
              "  <svg xmlns=\"http://www.w3.org/2000/svg\" height=\"24px\"viewBox=\"0 0 24 24\"\n",
              "       width=\"24px\">\n",
              "    <path d=\"M0 0h24v24H0V0z\" fill=\"none\"/>\n",
              "    <path d=\"M18.56 5.44l.94 2.06.94-2.06 2.06-.94-2.06-.94-.94-2.06-.94 2.06-2.06.94zm-11 1L8.5 8.5l.94-2.06 2.06-.94-2.06-.94L8.5 2.5l-.94 2.06-2.06.94zm10 10l.94 2.06.94-2.06 2.06-.94-2.06-.94-.94-2.06-.94 2.06-2.06.94z\"/><path d=\"M17.41 7.96l-1.37-1.37c-.4-.4-.92-.59-1.43-.59-.52 0-1.04.2-1.43.59L10.3 9.45l-7.72 7.72c-.78.78-.78 2.05 0 2.83L4 21.41c.39.39.9.59 1.41.59.51 0 1.02-.2 1.41-.59l7.78-7.78 2.81-2.81c.8-.78.8-2.07 0-2.86zM5.41 20L4 18.59l7.72-7.72 1.47 1.35L5.41 20z\"/>\n",
              "  </svg>\n",
              "      </button>\n",
              "      \n",
              "  <style>\n",
              "    .colab-df-container {\n",
              "      display:flex;\n",
              "      flex-wrap:wrap;\n",
              "      gap: 12px;\n",
              "    }\n",
              "\n",
              "    .colab-df-convert {\n",
              "      background-color: #E8F0FE;\n",
              "      border: none;\n",
              "      border-radius: 50%;\n",
              "      cursor: pointer;\n",
              "      display: none;\n",
              "      fill: #1967D2;\n",
              "      height: 32px;\n",
              "      padding: 0 0 0 0;\n",
              "      width: 32px;\n",
              "    }\n",
              "\n",
              "    .colab-df-convert:hover {\n",
              "      background-color: #E2EBFA;\n",
              "      box-shadow: 0px 1px 2px rgba(60, 64, 67, 0.3), 0px 1px 3px 1px rgba(60, 64, 67, 0.15);\n",
              "      fill: #174EA6;\n",
              "    }\n",
              "\n",
              "    [theme=dark] .colab-df-convert {\n",
              "      background-color: #3B4455;\n",
              "      fill: #D2E3FC;\n",
              "    }\n",
              "\n",
              "    [theme=dark] .colab-df-convert:hover {\n",
              "      background-color: #434B5C;\n",
              "      box-shadow: 0px 1px 3px 1px rgba(0, 0, 0, 0.15);\n",
              "      filter: drop-shadow(0px 1px 2px rgba(0, 0, 0, 0.3));\n",
              "      fill: #FFFFFF;\n",
              "    }\n",
              "  </style>\n",
              "\n",
              "      <script>\n",
              "        const buttonEl =\n",
              "          document.querySelector('#df-6c60442e-6689-475d-a814-f83178dadbf9 button.colab-df-convert');\n",
              "        buttonEl.style.display =\n",
              "          google.colab.kernel.accessAllowed ? 'block' : 'none';\n",
              "\n",
              "        async function convertToInteractive(key) {\n",
              "          const element = document.querySelector('#df-6c60442e-6689-475d-a814-f83178dadbf9');\n",
              "          const dataTable =\n",
              "            await google.colab.kernel.invokeFunction('convertToInteractive',\n",
              "                                                     [key], {});\n",
              "          if (!dataTable) return;\n",
              "\n",
              "          const docLinkHtml = 'Like what you see? Visit the ' +\n",
              "            '<a target=\"_blank\" href=https://colab.research.google.com/notebooks/data_table.ipynb>data table notebook</a>'\n",
              "            + ' to learn more about interactive tables.';\n",
              "          element.innerHTML = '';\n",
              "          dataTable['output_type'] = 'display_data';\n",
              "          await google.colab.output.renderOutput(dataTable, element);\n",
              "          const docLink = document.createElement('div');\n",
              "          docLink.innerHTML = docLinkHtml;\n",
              "          element.appendChild(docLink);\n",
              "        }\n",
              "      </script>\n",
              "    </div>\n",
              "  </div>\n",
              "  "
            ]
          },
          "metadata": {},
          "execution_count": 54
        }
      ],
      "source": [
        "# Test the dataframe is suffled by print the first 10 records\n",
        "df.iloc[idx[:10]]"
      ]
    },
    {
      "cell_type": "code",
      "execution_count": 55,
      "metadata": {
        "colab": {
          "base_uri": "https://localhost:8080/",
          "height": 287
        },
        "id": "HG2s_-IeWKL-",
        "outputId": "bb1dfec7-2b65-4aab-94b5-93cfe2f1725f"
      },
      "outputs": [
        {
          "output_type": "execute_result",
          "data": {
            "text/plain": [
              "             make    model  year          engine_fuel_type  engine_hp  \\\n",
              "2735    chevrolet   cobalt  2008          regular_unleaded      148.0   \n",
              "6720       toyota   matrix  2012          regular_unleaded      132.0   \n",
              "5878       subaru  impreza  2016          regular_unleaded      148.0   \n",
              "11190  volkswagen  vanagon  1991          regular_unleaded       90.0   \n",
              "4554         ford    f-150  2017  flex-fuel_(unleaded/e85)      385.0   \n",
              "\n",
              "       engine_cylinders transmission_type      driven_wheels  number_of_doors  \\\n",
              "2735                4.0            manual  front_wheel_drive              2.0   \n",
              "6720                4.0         automatic  front_wheel_drive              4.0   \n",
              "5878                4.0         automatic    all_wheel_drive              4.0   \n",
              "11190               4.0            manual   rear_wheel_drive              3.0   \n",
              "4554                8.0         automatic   four_wheel_drive              4.0   \n",
              "\n",
              "      market_category vehicle_size      vehicle_style  highway_mpg  city_mpg  \\\n",
              "2735              NaN      compact              coupe           33        24   \n",
              "6720        hatchback      compact      4dr_hatchback           32        25   \n",
              "5878        hatchback      compact      4dr_hatchback           37        28   \n",
              "11190             NaN        large  passenger_minivan           18        16   \n",
              "4554        flex_fuel        large    crew_cab_pickup           21        15   \n",
              "\n",
              "       popularity   msrp  \n",
              "2735         1385  14410  \n",
              "6720         2031  19685  \n",
              "5878          640  19795  \n",
              "11190         873   2000  \n",
              "4554         5657  56260  "
            ],
            "text/html": [
              "\n",
              "  <div id=\"df-265add83-b5d1-4e95-ba08-95600e593917\">\n",
              "    <div class=\"colab-df-container\">\n",
              "      <div>\n",
              "<style scoped>\n",
              "    .dataframe tbody tr th:only-of-type {\n",
              "        vertical-align: middle;\n",
              "    }\n",
              "\n",
              "    .dataframe tbody tr th {\n",
              "        vertical-align: top;\n",
              "    }\n",
              "\n",
              "    .dataframe thead th {\n",
              "        text-align: right;\n",
              "    }\n",
              "</style>\n",
              "<table border=\"1\" class=\"dataframe\">\n",
              "  <thead>\n",
              "    <tr style=\"text-align: right;\">\n",
              "      <th></th>\n",
              "      <th>make</th>\n",
              "      <th>model</th>\n",
              "      <th>year</th>\n",
              "      <th>engine_fuel_type</th>\n",
              "      <th>engine_hp</th>\n",
              "      <th>engine_cylinders</th>\n",
              "      <th>transmission_type</th>\n",
              "      <th>driven_wheels</th>\n",
              "      <th>number_of_doors</th>\n",
              "      <th>market_category</th>\n",
              "      <th>vehicle_size</th>\n",
              "      <th>vehicle_style</th>\n",
              "      <th>highway_mpg</th>\n",
              "      <th>city_mpg</th>\n",
              "      <th>popularity</th>\n",
              "      <th>msrp</th>\n",
              "    </tr>\n",
              "  </thead>\n",
              "  <tbody>\n",
              "    <tr>\n",
              "      <th>2735</th>\n",
              "      <td>chevrolet</td>\n",
              "      <td>cobalt</td>\n",
              "      <td>2008</td>\n",
              "      <td>regular_unleaded</td>\n",
              "      <td>148.0</td>\n",
              "      <td>4.0</td>\n",
              "      <td>manual</td>\n",
              "      <td>front_wheel_drive</td>\n",
              "      <td>2.0</td>\n",
              "      <td>NaN</td>\n",
              "      <td>compact</td>\n",
              "      <td>coupe</td>\n",
              "      <td>33</td>\n",
              "      <td>24</td>\n",
              "      <td>1385</td>\n",
              "      <td>14410</td>\n",
              "    </tr>\n",
              "    <tr>\n",
              "      <th>6720</th>\n",
              "      <td>toyota</td>\n",
              "      <td>matrix</td>\n",
              "      <td>2012</td>\n",
              "      <td>regular_unleaded</td>\n",
              "      <td>132.0</td>\n",
              "      <td>4.0</td>\n",
              "      <td>automatic</td>\n",
              "      <td>front_wheel_drive</td>\n",
              "      <td>4.0</td>\n",
              "      <td>hatchback</td>\n",
              "      <td>compact</td>\n",
              "      <td>4dr_hatchback</td>\n",
              "      <td>32</td>\n",
              "      <td>25</td>\n",
              "      <td>2031</td>\n",
              "      <td>19685</td>\n",
              "    </tr>\n",
              "    <tr>\n",
              "      <th>5878</th>\n",
              "      <td>subaru</td>\n",
              "      <td>impreza</td>\n",
              "      <td>2016</td>\n",
              "      <td>regular_unleaded</td>\n",
              "      <td>148.0</td>\n",
              "      <td>4.0</td>\n",
              "      <td>automatic</td>\n",
              "      <td>all_wheel_drive</td>\n",
              "      <td>4.0</td>\n",
              "      <td>hatchback</td>\n",
              "      <td>compact</td>\n",
              "      <td>4dr_hatchback</td>\n",
              "      <td>37</td>\n",
              "      <td>28</td>\n",
              "      <td>640</td>\n",
              "      <td>19795</td>\n",
              "    </tr>\n",
              "    <tr>\n",
              "      <th>11190</th>\n",
              "      <td>volkswagen</td>\n",
              "      <td>vanagon</td>\n",
              "      <td>1991</td>\n",
              "      <td>regular_unleaded</td>\n",
              "      <td>90.0</td>\n",
              "      <td>4.0</td>\n",
              "      <td>manual</td>\n",
              "      <td>rear_wheel_drive</td>\n",
              "      <td>3.0</td>\n",
              "      <td>NaN</td>\n",
              "      <td>large</td>\n",
              "      <td>passenger_minivan</td>\n",
              "      <td>18</td>\n",
              "      <td>16</td>\n",
              "      <td>873</td>\n",
              "      <td>2000</td>\n",
              "    </tr>\n",
              "    <tr>\n",
              "      <th>4554</th>\n",
              "      <td>ford</td>\n",
              "      <td>f-150</td>\n",
              "      <td>2017</td>\n",
              "      <td>flex-fuel_(unleaded/e85)</td>\n",
              "      <td>385.0</td>\n",
              "      <td>8.0</td>\n",
              "      <td>automatic</td>\n",
              "      <td>four_wheel_drive</td>\n",
              "      <td>4.0</td>\n",
              "      <td>flex_fuel</td>\n",
              "      <td>large</td>\n",
              "      <td>crew_cab_pickup</td>\n",
              "      <td>21</td>\n",
              "      <td>15</td>\n",
              "      <td>5657</td>\n",
              "      <td>56260</td>\n",
              "    </tr>\n",
              "  </tbody>\n",
              "</table>\n",
              "</div>\n",
              "      <button class=\"colab-df-convert\" onclick=\"convertToInteractive('df-265add83-b5d1-4e95-ba08-95600e593917')\"\n",
              "              title=\"Convert this dataframe to an interactive table.\"\n",
              "              style=\"display:none;\">\n",
              "        \n",
              "  <svg xmlns=\"http://www.w3.org/2000/svg\" height=\"24px\"viewBox=\"0 0 24 24\"\n",
              "       width=\"24px\">\n",
              "    <path d=\"M0 0h24v24H0V0z\" fill=\"none\"/>\n",
              "    <path d=\"M18.56 5.44l.94 2.06.94-2.06 2.06-.94-2.06-.94-.94-2.06-.94 2.06-2.06.94zm-11 1L8.5 8.5l.94-2.06 2.06-.94-2.06-.94L8.5 2.5l-.94 2.06-2.06.94zm10 10l.94 2.06.94-2.06 2.06-.94-2.06-.94-.94-2.06-.94 2.06-2.06.94z\"/><path d=\"M17.41 7.96l-1.37-1.37c-.4-.4-.92-.59-1.43-.59-.52 0-1.04.2-1.43.59L10.3 9.45l-7.72 7.72c-.78.78-.78 2.05 0 2.83L4 21.41c.39.39.9.59 1.41.59.51 0 1.02-.2 1.41-.59l7.78-7.78 2.81-2.81c.8-.78.8-2.07 0-2.86zM5.41 20L4 18.59l7.72-7.72 1.47 1.35L5.41 20z\"/>\n",
              "  </svg>\n",
              "      </button>\n",
              "      \n",
              "  <style>\n",
              "    .colab-df-container {\n",
              "      display:flex;\n",
              "      flex-wrap:wrap;\n",
              "      gap: 12px;\n",
              "    }\n",
              "\n",
              "    .colab-df-convert {\n",
              "      background-color: #E8F0FE;\n",
              "      border: none;\n",
              "      border-radius: 50%;\n",
              "      cursor: pointer;\n",
              "      display: none;\n",
              "      fill: #1967D2;\n",
              "      height: 32px;\n",
              "      padding: 0 0 0 0;\n",
              "      width: 32px;\n",
              "    }\n",
              "\n",
              "    .colab-df-convert:hover {\n",
              "      background-color: #E2EBFA;\n",
              "      box-shadow: 0px 1px 2px rgba(60, 64, 67, 0.3), 0px 1px 3px 1px rgba(60, 64, 67, 0.15);\n",
              "      fill: #174EA6;\n",
              "    }\n",
              "\n",
              "    [theme=dark] .colab-df-convert {\n",
              "      background-color: #3B4455;\n",
              "      fill: #D2E3FC;\n",
              "    }\n",
              "\n",
              "    [theme=dark] .colab-df-convert:hover {\n",
              "      background-color: #434B5C;\n",
              "      box-shadow: 0px 1px 3px 1px rgba(0, 0, 0, 0.15);\n",
              "      filter: drop-shadow(0px 1px 2px rgba(0, 0, 0, 0.3));\n",
              "      fill: #FFFFFF;\n",
              "    }\n",
              "  </style>\n",
              "\n",
              "      <script>\n",
              "        const buttonEl =\n",
              "          document.querySelector('#df-265add83-b5d1-4e95-ba08-95600e593917 button.colab-df-convert');\n",
              "        buttonEl.style.display =\n",
              "          google.colab.kernel.accessAllowed ? 'block' : 'none';\n",
              "\n",
              "        async function convertToInteractive(key) {\n",
              "          const element = document.querySelector('#df-265add83-b5d1-4e95-ba08-95600e593917');\n",
              "          const dataTable =\n",
              "            await google.colab.kernel.invokeFunction('convertToInteractive',\n",
              "                                                     [key], {});\n",
              "          if (!dataTable) return;\n",
              "\n",
              "          const docLinkHtml = 'Like what you see? Visit the ' +\n",
              "            '<a target=\"_blank\" href=https://colab.research.google.com/notebooks/data_table.ipynb>data table notebook</a>'\n",
              "            + ' to learn more about interactive tables.';\n",
              "          element.innerHTML = '';\n",
              "          dataTable['output_type'] = 'display_data';\n",
              "          await google.colab.output.renderOutput(dataTable, element);\n",
              "          const docLink = document.createElement('div');\n",
              "          docLink.innerHTML = docLinkHtml;\n",
              "          element.appendChild(docLink);\n",
              "        }\n",
              "      </script>\n",
              "    </div>\n",
              "  </div>\n",
              "  "
            ]
          },
          "metadata": {},
          "execution_count": 55
        }
      ],
      "source": [
        "# Print the dataframe for the training \n",
        "df_train.head()"
      ]
    },
    {
      "cell_type": "code",
      "execution_count": 56,
      "metadata": {
        "colab": {
          "base_uri": "https://localhost:8080/"
        },
        "id": "RalFaegtWsMv",
        "outputId": "ce27a2df-a500-4abe-8bd0-fd4622393a4b"
      },
      "outputs": [
        {
          "output_type": "execute_result",
          "data": {
            "text/plain": [
              "(7150, 2382, 2382)"
            ]
          },
          "metadata": {},
          "execution_count": 56
        }
      ],
      "source": [
        "# Check the length of the datasets created\n",
        "len(df_train), len(df_val), len(df_test)"
      ]
    },
    {
      "cell_type": "code",
      "execution_count": 57,
      "metadata": {
        "colab": {
          "base_uri": "https://localhost:8080/",
          "height": 488
        },
        "id": "fI8lHdHncACH",
        "outputId": "407b398d-1456-496c-f1a2-bd37d28083f3"
      },
      "outputs": [
        {
          "output_type": "execute_result",
          "data": {
            "text/plain": [
              "              make        model  year                engine_fuel_type  \\\n",
              "2735     chevrolet       cobalt  2008                regular_unleaded   \n",
              "6720        toyota       matrix  2012                regular_unleaded   \n",
              "5878        subaru      impreza  2016                regular_unleaded   \n",
              "11190   volkswagen      vanagon  1991                regular_unleaded   \n",
              "4554          ford        f-150  2017        flex-fuel_(unleaded/e85)   \n",
              "...            ...          ...   ...                             ...   \n",
              "434            bmw     4_series  2015     premium_unleaded_(required)   \n",
              "1902    volkswagen       beetle  2015  premium_unleaded_(recommended)   \n",
              "9334           gmc  sierra_1500  2015        flex-fuel_(unleaded/e85)   \n",
              "5284   rolls-royce        ghost  2014     premium_unleaded_(required)   \n",
              "2420    volkswagen           cc  2017  premium_unleaded_(recommended)   \n",
              "\n",
              "       engine_hp  engine_cylinders transmission_type      driven_wheels  \\\n",
              "2735       148.0               4.0            manual  front_wheel_drive   \n",
              "6720       132.0               4.0         automatic  front_wheel_drive   \n",
              "5878       148.0               4.0         automatic    all_wheel_drive   \n",
              "11190       90.0               4.0            manual   rear_wheel_drive   \n",
              "4554       385.0               8.0         automatic   four_wheel_drive   \n",
              "...          ...               ...               ...                ...   \n",
              "434        300.0               6.0         automatic   rear_wheel_drive   \n",
              "1902       210.0               4.0  automated_manual  front_wheel_drive   \n",
              "9334       285.0               6.0         automatic   four_wheel_drive   \n",
              "5284       563.0              12.0         automatic   rear_wheel_drive   \n",
              "2420       200.0               4.0  automated_manual  front_wheel_drive   \n",
              "\n",
              "       number_of_doors            market_category vehicle_size  \\\n",
              "2735               2.0                        NaN      compact   \n",
              "6720               4.0                  hatchback      compact   \n",
              "5878               4.0                  hatchback      compact   \n",
              "11190              3.0                        NaN        large   \n",
              "4554               4.0                  flex_fuel        large   \n",
              "...                ...                        ...          ...   \n",
              "434                2.0         luxury,performance      midsize   \n",
              "1902               2.0      hatchback,performance      compact   \n",
              "9334               4.0                  flex_fuel        large   \n",
              "5284               4.0  exotic,luxury,performance        large   \n",
              "2420               4.0                performance      midsize   \n",
              "\n",
              "             vehicle_style  highway_mpg  city_mpg  popularity    msrp  \n",
              "2735                 coupe           33        24        1385   14410  \n",
              "6720         4dr_hatchback           32        25        2031   19685  \n",
              "5878         4dr_hatchback           37        28         640   19795  \n",
              "11190    passenger_minivan           18        16         873    2000  \n",
              "4554       crew_cab_pickup           21        15        5657   56260  \n",
              "...                    ...          ...       ...         ...     ...  \n",
              "434            convertible           31        20        3916   54900  \n",
              "1902         2dr_hatchback           30        24         873   29215  \n",
              "9334   extended_cab_pickup           22        17         549   34675  \n",
              "5284                 sedan           21        13          86  303300  \n",
              "2420                 sedan           31        22         873   37820  \n",
              "\n",
              "[7150 rows x 16 columns]"
            ],
            "text/html": [
              "\n",
              "  <div id=\"df-cf73de25-914f-4d42-8677-2b8308b3956f\">\n",
              "    <div class=\"colab-df-container\">\n",
              "      <div>\n",
              "<style scoped>\n",
              "    .dataframe tbody tr th:only-of-type {\n",
              "        vertical-align: middle;\n",
              "    }\n",
              "\n",
              "    .dataframe tbody tr th {\n",
              "        vertical-align: top;\n",
              "    }\n",
              "\n",
              "    .dataframe thead th {\n",
              "        text-align: right;\n",
              "    }\n",
              "</style>\n",
              "<table border=\"1\" class=\"dataframe\">\n",
              "  <thead>\n",
              "    <tr style=\"text-align: right;\">\n",
              "      <th></th>\n",
              "      <th>make</th>\n",
              "      <th>model</th>\n",
              "      <th>year</th>\n",
              "      <th>engine_fuel_type</th>\n",
              "      <th>engine_hp</th>\n",
              "      <th>engine_cylinders</th>\n",
              "      <th>transmission_type</th>\n",
              "      <th>driven_wheels</th>\n",
              "      <th>number_of_doors</th>\n",
              "      <th>market_category</th>\n",
              "      <th>vehicle_size</th>\n",
              "      <th>vehicle_style</th>\n",
              "      <th>highway_mpg</th>\n",
              "      <th>city_mpg</th>\n",
              "      <th>popularity</th>\n",
              "      <th>msrp</th>\n",
              "    </tr>\n",
              "  </thead>\n",
              "  <tbody>\n",
              "    <tr>\n",
              "      <th>2735</th>\n",
              "      <td>chevrolet</td>\n",
              "      <td>cobalt</td>\n",
              "      <td>2008</td>\n",
              "      <td>regular_unleaded</td>\n",
              "      <td>148.0</td>\n",
              "      <td>4.0</td>\n",
              "      <td>manual</td>\n",
              "      <td>front_wheel_drive</td>\n",
              "      <td>2.0</td>\n",
              "      <td>NaN</td>\n",
              "      <td>compact</td>\n",
              "      <td>coupe</td>\n",
              "      <td>33</td>\n",
              "      <td>24</td>\n",
              "      <td>1385</td>\n",
              "      <td>14410</td>\n",
              "    </tr>\n",
              "    <tr>\n",
              "      <th>6720</th>\n",
              "      <td>toyota</td>\n",
              "      <td>matrix</td>\n",
              "      <td>2012</td>\n",
              "      <td>regular_unleaded</td>\n",
              "      <td>132.0</td>\n",
              "      <td>4.0</td>\n",
              "      <td>automatic</td>\n",
              "      <td>front_wheel_drive</td>\n",
              "      <td>4.0</td>\n",
              "      <td>hatchback</td>\n",
              "      <td>compact</td>\n",
              "      <td>4dr_hatchback</td>\n",
              "      <td>32</td>\n",
              "      <td>25</td>\n",
              "      <td>2031</td>\n",
              "      <td>19685</td>\n",
              "    </tr>\n",
              "    <tr>\n",
              "      <th>5878</th>\n",
              "      <td>subaru</td>\n",
              "      <td>impreza</td>\n",
              "      <td>2016</td>\n",
              "      <td>regular_unleaded</td>\n",
              "      <td>148.0</td>\n",
              "      <td>4.0</td>\n",
              "      <td>automatic</td>\n",
              "      <td>all_wheel_drive</td>\n",
              "      <td>4.0</td>\n",
              "      <td>hatchback</td>\n",
              "      <td>compact</td>\n",
              "      <td>4dr_hatchback</td>\n",
              "      <td>37</td>\n",
              "      <td>28</td>\n",
              "      <td>640</td>\n",
              "      <td>19795</td>\n",
              "    </tr>\n",
              "    <tr>\n",
              "      <th>11190</th>\n",
              "      <td>volkswagen</td>\n",
              "      <td>vanagon</td>\n",
              "      <td>1991</td>\n",
              "      <td>regular_unleaded</td>\n",
              "      <td>90.0</td>\n",
              "      <td>4.0</td>\n",
              "      <td>manual</td>\n",
              "      <td>rear_wheel_drive</td>\n",
              "      <td>3.0</td>\n",
              "      <td>NaN</td>\n",
              "      <td>large</td>\n",
              "      <td>passenger_minivan</td>\n",
              "      <td>18</td>\n",
              "      <td>16</td>\n",
              "      <td>873</td>\n",
              "      <td>2000</td>\n",
              "    </tr>\n",
              "    <tr>\n",
              "      <th>4554</th>\n",
              "      <td>ford</td>\n",
              "      <td>f-150</td>\n",
              "      <td>2017</td>\n",
              "      <td>flex-fuel_(unleaded/e85)</td>\n",
              "      <td>385.0</td>\n",
              "      <td>8.0</td>\n",
              "      <td>automatic</td>\n",
              "      <td>four_wheel_drive</td>\n",
              "      <td>4.0</td>\n",
              "      <td>flex_fuel</td>\n",
              "      <td>large</td>\n",
              "      <td>crew_cab_pickup</td>\n",
              "      <td>21</td>\n",
              "      <td>15</td>\n",
              "      <td>5657</td>\n",
              "      <td>56260</td>\n",
              "    </tr>\n",
              "    <tr>\n",
              "      <th>...</th>\n",
              "      <td>...</td>\n",
              "      <td>...</td>\n",
              "      <td>...</td>\n",
              "      <td>...</td>\n",
              "      <td>...</td>\n",
              "      <td>...</td>\n",
              "      <td>...</td>\n",
              "      <td>...</td>\n",
              "      <td>...</td>\n",
              "      <td>...</td>\n",
              "      <td>...</td>\n",
              "      <td>...</td>\n",
              "      <td>...</td>\n",
              "      <td>...</td>\n",
              "      <td>...</td>\n",
              "      <td>...</td>\n",
              "    </tr>\n",
              "    <tr>\n",
              "      <th>434</th>\n",
              "      <td>bmw</td>\n",
              "      <td>4_series</td>\n",
              "      <td>2015</td>\n",
              "      <td>premium_unleaded_(required)</td>\n",
              "      <td>300.0</td>\n",
              "      <td>6.0</td>\n",
              "      <td>automatic</td>\n",
              "      <td>rear_wheel_drive</td>\n",
              "      <td>2.0</td>\n",
              "      <td>luxury,performance</td>\n",
              "      <td>midsize</td>\n",
              "      <td>convertible</td>\n",
              "      <td>31</td>\n",
              "      <td>20</td>\n",
              "      <td>3916</td>\n",
              "      <td>54900</td>\n",
              "    </tr>\n",
              "    <tr>\n",
              "      <th>1902</th>\n",
              "      <td>volkswagen</td>\n",
              "      <td>beetle</td>\n",
              "      <td>2015</td>\n",
              "      <td>premium_unleaded_(recommended)</td>\n",
              "      <td>210.0</td>\n",
              "      <td>4.0</td>\n",
              "      <td>automated_manual</td>\n",
              "      <td>front_wheel_drive</td>\n",
              "      <td>2.0</td>\n",
              "      <td>hatchback,performance</td>\n",
              "      <td>compact</td>\n",
              "      <td>2dr_hatchback</td>\n",
              "      <td>30</td>\n",
              "      <td>24</td>\n",
              "      <td>873</td>\n",
              "      <td>29215</td>\n",
              "    </tr>\n",
              "    <tr>\n",
              "      <th>9334</th>\n",
              "      <td>gmc</td>\n",
              "      <td>sierra_1500</td>\n",
              "      <td>2015</td>\n",
              "      <td>flex-fuel_(unleaded/e85)</td>\n",
              "      <td>285.0</td>\n",
              "      <td>6.0</td>\n",
              "      <td>automatic</td>\n",
              "      <td>four_wheel_drive</td>\n",
              "      <td>4.0</td>\n",
              "      <td>flex_fuel</td>\n",
              "      <td>large</td>\n",
              "      <td>extended_cab_pickup</td>\n",
              "      <td>22</td>\n",
              "      <td>17</td>\n",
              "      <td>549</td>\n",
              "      <td>34675</td>\n",
              "    </tr>\n",
              "    <tr>\n",
              "      <th>5284</th>\n",
              "      <td>rolls-royce</td>\n",
              "      <td>ghost</td>\n",
              "      <td>2014</td>\n",
              "      <td>premium_unleaded_(required)</td>\n",
              "      <td>563.0</td>\n",
              "      <td>12.0</td>\n",
              "      <td>automatic</td>\n",
              "      <td>rear_wheel_drive</td>\n",
              "      <td>4.0</td>\n",
              "      <td>exotic,luxury,performance</td>\n",
              "      <td>large</td>\n",
              "      <td>sedan</td>\n",
              "      <td>21</td>\n",
              "      <td>13</td>\n",
              "      <td>86</td>\n",
              "      <td>303300</td>\n",
              "    </tr>\n",
              "    <tr>\n",
              "      <th>2420</th>\n",
              "      <td>volkswagen</td>\n",
              "      <td>cc</td>\n",
              "      <td>2017</td>\n",
              "      <td>premium_unleaded_(recommended)</td>\n",
              "      <td>200.0</td>\n",
              "      <td>4.0</td>\n",
              "      <td>automated_manual</td>\n",
              "      <td>front_wheel_drive</td>\n",
              "      <td>4.0</td>\n",
              "      <td>performance</td>\n",
              "      <td>midsize</td>\n",
              "      <td>sedan</td>\n",
              "      <td>31</td>\n",
              "      <td>22</td>\n",
              "      <td>873</td>\n",
              "      <td>37820</td>\n",
              "    </tr>\n",
              "  </tbody>\n",
              "</table>\n",
              "<p>7150 rows × 16 columns</p>\n",
              "</div>\n",
              "      <button class=\"colab-df-convert\" onclick=\"convertToInteractive('df-cf73de25-914f-4d42-8677-2b8308b3956f')\"\n",
              "              title=\"Convert this dataframe to an interactive table.\"\n",
              "              style=\"display:none;\">\n",
              "        \n",
              "  <svg xmlns=\"http://www.w3.org/2000/svg\" height=\"24px\"viewBox=\"0 0 24 24\"\n",
              "       width=\"24px\">\n",
              "    <path d=\"M0 0h24v24H0V0z\" fill=\"none\"/>\n",
              "    <path d=\"M18.56 5.44l.94 2.06.94-2.06 2.06-.94-2.06-.94-.94-2.06-.94 2.06-2.06.94zm-11 1L8.5 8.5l.94-2.06 2.06-.94-2.06-.94L8.5 2.5l-.94 2.06-2.06.94zm10 10l.94 2.06.94-2.06 2.06-.94-2.06-.94-.94-2.06-.94 2.06-2.06.94z\"/><path d=\"M17.41 7.96l-1.37-1.37c-.4-.4-.92-.59-1.43-.59-.52 0-1.04.2-1.43.59L10.3 9.45l-7.72 7.72c-.78.78-.78 2.05 0 2.83L4 21.41c.39.39.9.59 1.41.59.51 0 1.02-.2 1.41-.59l7.78-7.78 2.81-2.81c.8-.78.8-2.07 0-2.86zM5.41 20L4 18.59l7.72-7.72 1.47 1.35L5.41 20z\"/>\n",
              "  </svg>\n",
              "      </button>\n",
              "      \n",
              "  <style>\n",
              "    .colab-df-container {\n",
              "      display:flex;\n",
              "      flex-wrap:wrap;\n",
              "      gap: 12px;\n",
              "    }\n",
              "\n",
              "    .colab-df-convert {\n",
              "      background-color: #E8F0FE;\n",
              "      border: none;\n",
              "      border-radius: 50%;\n",
              "      cursor: pointer;\n",
              "      display: none;\n",
              "      fill: #1967D2;\n",
              "      height: 32px;\n",
              "      padding: 0 0 0 0;\n",
              "      width: 32px;\n",
              "    }\n",
              "\n",
              "    .colab-df-convert:hover {\n",
              "      background-color: #E2EBFA;\n",
              "      box-shadow: 0px 1px 2px rgba(60, 64, 67, 0.3), 0px 1px 3px 1px rgba(60, 64, 67, 0.15);\n",
              "      fill: #174EA6;\n",
              "    }\n",
              "\n",
              "    [theme=dark] .colab-df-convert {\n",
              "      background-color: #3B4455;\n",
              "      fill: #D2E3FC;\n",
              "    }\n",
              "\n",
              "    [theme=dark] .colab-df-convert:hover {\n",
              "      background-color: #434B5C;\n",
              "      box-shadow: 0px 1px 3px 1px rgba(0, 0, 0, 0.15);\n",
              "      filter: drop-shadow(0px 1px 2px rgba(0, 0, 0, 0.3));\n",
              "      fill: #FFFFFF;\n",
              "    }\n",
              "  </style>\n",
              "\n",
              "      <script>\n",
              "        const buttonEl =\n",
              "          document.querySelector('#df-cf73de25-914f-4d42-8677-2b8308b3956f button.colab-df-convert');\n",
              "        buttonEl.style.display =\n",
              "          google.colab.kernel.accessAllowed ? 'block' : 'none';\n",
              "\n",
              "        async function convertToInteractive(key) {\n",
              "          const element = document.querySelector('#df-cf73de25-914f-4d42-8677-2b8308b3956f');\n",
              "          const dataTable =\n",
              "            await google.colab.kernel.invokeFunction('convertToInteractive',\n",
              "                                                     [key], {});\n",
              "          if (!dataTable) return;\n",
              "\n",
              "          const docLinkHtml = 'Like what you see? Visit the ' +\n",
              "            '<a target=\"_blank\" href=https://colab.research.google.com/notebooks/data_table.ipynb>data table notebook</a>'\n",
              "            + ' to learn more about interactive tables.';\n",
              "          element.innerHTML = '';\n",
              "          dataTable['output_type'] = 'display_data';\n",
              "          await google.colab.output.renderOutput(dataTable, element);\n",
              "          const docLink = document.createElement('div');\n",
              "          docLink.innerHTML = docLinkHtml;\n",
              "          element.appendChild(docLink);\n",
              "        }\n",
              "      </script>\n",
              "    </div>\n",
              "  </div>\n",
              "  "
            ]
          },
          "metadata": {},
          "execution_count": 57
        }
      ],
      "source": [
        "df_train"
      ]
    },
    {
      "cell_type": "code",
      "execution_count": 58,
      "metadata": {
        "colab": {
          "base_uri": "https://localhost:8080/",
          "height": 488
        },
        "id": "mhT5XiE_ciJK",
        "outputId": "4b969aee-da5b-42ec-de99-c1cabcf218b3"
      },
      "outputs": [
        {
          "output_type": "execute_result",
          "data": {
            "text/plain": [
              "             make        model  year                engine_fuel_type  \\\n",
              "0       chevrolet       cobalt  2008                regular_unleaded   \n",
              "1          toyota       matrix  2012                regular_unleaded   \n",
              "2          subaru      impreza  2016                regular_unleaded   \n",
              "3      volkswagen      vanagon  1991                regular_unleaded   \n",
              "4            ford        f-150  2017        flex-fuel_(unleaded/e85)   \n",
              "...           ...          ...   ...                             ...   \n",
              "7145          bmw     4_series  2015     premium_unleaded_(required)   \n",
              "7146   volkswagen       beetle  2015  premium_unleaded_(recommended)   \n",
              "7147          gmc  sierra_1500  2015        flex-fuel_(unleaded/e85)   \n",
              "7148  rolls-royce        ghost  2014     premium_unleaded_(required)   \n",
              "7149   volkswagen           cc  2017  premium_unleaded_(recommended)   \n",
              "\n",
              "      engine_hp  engine_cylinders transmission_type      driven_wheels  \\\n",
              "0         148.0               4.0            manual  front_wheel_drive   \n",
              "1         132.0               4.0         automatic  front_wheel_drive   \n",
              "2         148.0               4.0         automatic    all_wheel_drive   \n",
              "3          90.0               4.0            manual   rear_wheel_drive   \n",
              "4         385.0               8.0         automatic   four_wheel_drive   \n",
              "...         ...               ...               ...                ...   \n",
              "7145      300.0               6.0         automatic   rear_wheel_drive   \n",
              "7146      210.0               4.0  automated_manual  front_wheel_drive   \n",
              "7147      285.0               6.0         automatic   four_wheel_drive   \n",
              "7148      563.0              12.0         automatic   rear_wheel_drive   \n",
              "7149      200.0               4.0  automated_manual  front_wheel_drive   \n",
              "\n",
              "      number_of_doors            market_category vehicle_size  \\\n",
              "0                 2.0                        NaN      compact   \n",
              "1                 4.0                  hatchback      compact   \n",
              "2                 4.0                  hatchback      compact   \n",
              "3                 3.0                        NaN        large   \n",
              "4                 4.0                  flex_fuel        large   \n",
              "...               ...                        ...          ...   \n",
              "7145              2.0         luxury,performance      midsize   \n",
              "7146              2.0      hatchback,performance      compact   \n",
              "7147              4.0                  flex_fuel        large   \n",
              "7148              4.0  exotic,luxury,performance        large   \n",
              "7149              4.0                performance      midsize   \n",
              "\n",
              "            vehicle_style  highway_mpg  city_mpg  popularity    msrp  \n",
              "0                   coupe           33        24        1385   14410  \n",
              "1           4dr_hatchback           32        25        2031   19685  \n",
              "2           4dr_hatchback           37        28         640   19795  \n",
              "3       passenger_minivan           18        16         873    2000  \n",
              "4         crew_cab_pickup           21        15        5657   56260  \n",
              "...                   ...          ...       ...         ...     ...  \n",
              "7145          convertible           31        20        3916   54900  \n",
              "7146        2dr_hatchback           30        24         873   29215  \n",
              "7147  extended_cab_pickup           22        17         549   34675  \n",
              "7148                sedan           21        13          86  303300  \n",
              "7149                sedan           31        22         873   37820  \n",
              "\n",
              "[7150 rows x 16 columns]"
            ],
            "text/html": [
              "\n",
              "  <div id=\"df-b2080ce2-4791-43e4-ad13-6695a08131d8\">\n",
              "    <div class=\"colab-df-container\">\n",
              "      <div>\n",
              "<style scoped>\n",
              "    .dataframe tbody tr th:only-of-type {\n",
              "        vertical-align: middle;\n",
              "    }\n",
              "\n",
              "    .dataframe tbody tr th {\n",
              "        vertical-align: top;\n",
              "    }\n",
              "\n",
              "    .dataframe thead th {\n",
              "        text-align: right;\n",
              "    }\n",
              "</style>\n",
              "<table border=\"1\" class=\"dataframe\">\n",
              "  <thead>\n",
              "    <tr style=\"text-align: right;\">\n",
              "      <th></th>\n",
              "      <th>make</th>\n",
              "      <th>model</th>\n",
              "      <th>year</th>\n",
              "      <th>engine_fuel_type</th>\n",
              "      <th>engine_hp</th>\n",
              "      <th>engine_cylinders</th>\n",
              "      <th>transmission_type</th>\n",
              "      <th>driven_wheels</th>\n",
              "      <th>number_of_doors</th>\n",
              "      <th>market_category</th>\n",
              "      <th>vehicle_size</th>\n",
              "      <th>vehicle_style</th>\n",
              "      <th>highway_mpg</th>\n",
              "      <th>city_mpg</th>\n",
              "      <th>popularity</th>\n",
              "      <th>msrp</th>\n",
              "    </tr>\n",
              "  </thead>\n",
              "  <tbody>\n",
              "    <tr>\n",
              "      <th>0</th>\n",
              "      <td>chevrolet</td>\n",
              "      <td>cobalt</td>\n",
              "      <td>2008</td>\n",
              "      <td>regular_unleaded</td>\n",
              "      <td>148.0</td>\n",
              "      <td>4.0</td>\n",
              "      <td>manual</td>\n",
              "      <td>front_wheel_drive</td>\n",
              "      <td>2.0</td>\n",
              "      <td>NaN</td>\n",
              "      <td>compact</td>\n",
              "      <td>coupe</td>\n",
              "      <td>33</td>\n",
              "      <td>24</td>\n",
              "      <td>1385</td>\n",
              "      <td>14410</td>\n",
              "    </tr>\n",
              "    <tr>\n",
              "      <th>1</th>\n",
              "      <td>toyota</td>\n",
              "      <td>matrix</td>\n",
              "      <td>2012</td>\n",
              "      <td>regular_unleaded</td>\n",
              "      <td>132.0</td>\n",
              "      <td>4.0</td>\n",
              "      <td>automatic</td>\n",
              "      <td>front_wheel_drive</td>\n",
              "      <td>4.0</td>\n",
              "      <td>hatchback</td>\n",
              "      <td>compact</td>\n",
              "      <td>4dr_hatchback</td>\n",
              "      <td>32</td>\n",
              "      <td>25</td>\n",
              "      <td>2031</td>\n",
              "      <td>19685</td>\n",
              "    </tr>\n",
              "    <tr>\n",
              "      <th>2</th>\n",
              "      <td>subaru</td>\n",
              "      <td>impreza</td>\n",
              "      <td>2016</td>\n",
              "      <td>regular_unleaded</td>\n",
              "      <td>148.0</td>\n",
              "      <td>4.0</td>\n",
              "      <td>automatic</td>\n",
              "      <td>all_wheel_drive</td>\n",
              "      <td>4.0</td>\n",
              "      <td>hatchback</td>\n",
              "      <td>compact</td>\n",
              "      <td>4dr_hatchback</td>\n",
              "      <td>37</td>\n",
              "      <td>28</td>\n",
              "      <td>640</td>\n",
              "      <td>19795</td>\n",
              "    </tr>\n",
              "    <tr>\n",
              "      <th>3</th>\n",
              "      <td>volkswagen</td>\n",
              "      <td>vanagon</td>\n",
              "      <td>1991</td>\n",
              "      <td>regular_unleaded</td>\n",
              "      <td>90.0</td>\n",
              "      <td>4.0</td>\n",
              "      <td>manual</td>\n",
              "      <td>rear_wheel_drive</td>\n",
              "      <td>3.0</td>\n",
              "      <td>NaN</td>\n",
              "      <td>large</td>\n",
              "      <td>passenger_minivan</td>\n",
              "      <td>18</td>\n",
              "      <td>16</td>\n",
              "      <td>873</td>\n",
              "      <td>2000</td>\n",
              "    </tr>\n",
              "    <tr>\n",
              "      <th>4</th>\n",
              "      <td>ford</td>\n",
              "      <td>f-150</td>\n",
              "      <td>2017</td>\n",
              "      <td>flex-fuel_(unleaded/e85)</td>\n",
              "      <td>385.0</td>\n",
              "      <td>8.0</td>\n",
              "      <td>automatic</td>\n",
              "      <td>four_wheel_drive</td>\n",
              "      <td>4.0</td>\n",
              "      <td>flex_fuel</td>\n",
              "      <td>large</td>\n",
              "      <td>crew_cab_pickup</td>\n",
              "      <td>21</td>\n",
              "      <td>15</td>\n",
              "      <td>5657</td>\n",
              "      <td>56260</td>\n",
              "    </tr>\n",
              "    <tr>\n",
              "      <th>...</th>\n",
              "      <td>...</td>\n",
              "      <td>...</td>\n",
              "      <td>...</td>\n",
              "      <td>...</td>\n",
              "      <td>...</td>\n",
              "      <td>...</td>\n",
              "      <td>...</td>\n",
              "      <td>...</td>\n",
              "      <td>...</td>\n",
              "      <td>...</td>\n",
              "      <td>...</td>\n",
              "      <td>...</td>\n",
              "      <td>...</td>\n",
              "      <td>...</td>\n",
              "      <td>...</td>\n",
              "      <td>...</td>\n",
              "    </tr>\n",
              "    <tr>\n",
              "      <th>7145</th>\n",
              "      <td>bmw</td>\n",
              "      <td>4_series</td>\n",
              "      <td>2015</td>\n",
              "      <td>premium_unleaded_(required)</td>\n",
              "      <td>300.0</td>\n",
              "      <td>6.0</td>\n",
              "      <td>automatic</td>\n",
              "      <td>rear_wheel_drive</td>\n",
              "      <td>2.0</td>\n",
              "      <td>luxury,performance</td>\n",
              "      <td>midsize</td>\n",
              "      <td>convertible</td>\n",
              "      <td>31</td>\n",
              "      <td>20</td>\n",
              "      <td>3916</td>\n",
              "      <td>54900</td>\n",
              "    </tr>\n",
              "    <tr>\n",
              "      <th>7146</th>\n",
              "      <td>volkswagen</td>\n",
              "      <td>beetle</td>\n",
              "      <td>2015</td>\n",
              "      <td>premium_unleaded_(recommended)</td>\n",
              "      <td>210.0</td>\n",
              "      <td>4.0</td>\n",
              "      <td>automated_manual</td>\n",
              "      <td>front_wheel_drive</td>\n",
              "      <td>2.0</td>\n",
              "      <td>hatchback,performance</td>\n",
              "      <td>compact</td>\n",
              "      <td>2dr_hatchback</td>\n",
              "      <td>30</td>\n",
              "      <td>24</td>\n",
              "      <td>873</td>\n",
              "      <td>29215</td>\n",
              "    </tr>\n",
              "    <tr>\n",
              "      <th>7147</th>\n",
              "      <td>gmc</td>\n",
              "      <td>sierra_1500</td>\n",
              "      <td>2015</td>\n",
              "      <td>flex-fuel_(unleaded/e85)</td>\n",
              "      <td>285.0</td>\n",
              "      <td>6.0</td>\n",
              "      <td>automatic</td>\n",
              "      <td>four_wheel_drive</td>\n",
              "      <td>4.0</td>\n",
              "      <td>flex_fuel</td>\n",
              "      <td>large</td>\n",
              "      <td>extended_cab_pickup</td>\n",
              "      <td>22</td>\n",
              "      <td>17</td>\n",
              "      <td>549</td>\n",
              "      <td>34675</td>\n",
              "    </tr>\n",
              "    <tr>\n",
              "      <th>7148</th>\n",
              "      <td>rolls-royce</td>\n",
              "      <td>ghost</td>\n",
              "      <td>2014</td>\n",
              "      <td>premium_unleaded_(required)</td>\n",
              "      <td>563.0</td>\n",
              "      <td>12.0</td>\n",
              "      <td>automatic</td>\n",
              "      <td>rear_wheel_drive</td>\n",
              "      <td>4.0</td>\n",
              "      <td>exotic,luxury,performance</td>\n",
              "      <td>large</td>\n",
              "      <td>sedan</td>\n",
              "      <td>21</td>\n",
              "      <td>13</td>\n",
              "      <td>86</td>\n",
              "      <td>303300</td>\n",
              "    </tr>\n",
              "    <tr>\n",
              "      <th>7149</th>\n",
              "      <td>volkswagen</td>\n",
              "      <td>cc</td>\n",
              "      <td>2017</td>\n",
              "      <td>premium_unleaded_(recommended)</td>\n",
              "      <td>200.0</td>\n",
              "      <td>4.0</td>\n",
              "      <td>automated_manual</td>\n",
              "      <td>front_wheel_drive</td>\n",
              "      <td>4.0</td>\n",
              "      <td>performance</td>\n",
              "      <td>midsize</td>\n",
              "      <td>sedan</td>\n",
              "      <td>31</td>\n",
              "      <td>22</td>\n",
              "      <td>873</td>\n",
              "      <td>37820</td>\n",
              "    </tr>\n",
              "  </tbody>\n",
              "</table>\n",
              "<p>7150 rows × 16 columns</p>\n",
              "</div>\n",
              "      <button class=\"colab-df-convert\" onclick=\"convertToInteractive('df-b2080ce2-4791-43e4-ad13-6695a08131d8')\"\n",
              "              title=\"Convert this dataframe to an interactive table.\"\n",
              "              style=\"display:none;\">\n",
              "        \n",
              "  <svg xmlns=\"http://www.w3.org/2000/svg\" height=\"24px\"viewBox=\"0 0 24 24\"\n",
              "       width=\"24px\">\n",
              "    <path d=\"M0 0h24v24H0V0z\" fill=\"none\"/>\n",
              "    <path d=\"M18.56 5.44l.94 2.06.94-2.06 2.06-.94-2.06-.94-.94-2.06-.94 2.06-2.06.94zm-11 1L8.5 8.5l.94-2.06 2.06-.94-2.06-.94L8.5 2.5l-.94 2.06-2.06.94zm10 10l.94 2.06.94-2.06 2.06-.94-2.06-.94-.94-2.06-.94 2.06-2.06.94z\"/><path d=\"M17.41 7.96l-1.37-1.37c-.4-.4-.92-.59-1.43-.59-.52 0-1.04.2-1.43.59L10.3 9.45l-7.72 7.72c-.78.78-.78 2.05 0 2.83L4 21.41c.39.39.9.59 1.41.59.51 0 1.02-.2 1.41-.59l7.78-7.78 2.81-2.81c.8-.78.8-2.07 0-2.86zM5.41 20L4 18.59l7.72-7.72 1.47 1.35L5.41 20z\"/>\n",
              "  </svg>\n",
              "      </button>\n",
              "      \n",
              "  <style>\n",
              "    .colab-df-container {\n",
              "      display:flex;\n",
              "      flex-wrap:wrap;\n",
              "      gap: 12px;\n",
              "    }\n",
              "\n",
              "    .colab-df-convert {\n",
              "      background-color: #E8F0FE;\n",
              "      border: none;\n",
              "      border-radius: 50%;\n",
              "      cursor: pointer;\n",
              "      display: none;\n",
              "      fill: #1967D2;\n",
              "      height: 32px;\n",
              "      padding: 0 0 0 0;\n",
              "      width: 32px;\n",
              "    }\n",
              "\n",
              "    .colab-df-convert:hover {\n",
              "      background-color: #E2EBFA;\n",
              "      box-shadow: 0px 1px 2px rgba(60, 64, 67, 0.3), 0px 1px 3px 1px rgba(60, 64, 67, 0.15);\n",
              "      fill: #174EA6;\n",
              "    }\n",
              "\n",
              "    [theme=dark] .colab-df-convert {\n",
              "      background-color: #3B4455;\n",
              "      fill: #D2E3FC;\n",
              "    }\n",
              "\n",
              "    [theme=dark] .colab-df-convert:hover {\n",
              "      background-color: #434B5C;\n",
              "      box-shadow: 0px 1px 3px 1px rgba(0, 0, 0, 0.15);\n",
              "      filter: drop-shadow(0px 1px 2px rgba(0, 0, 0, 0.3));\n",
              "      fill: #FFFFFF;\n",
              "    }\n",
              "  </style>\n",
              "\n",
              "      <script>\n",
              "        const buttonEl =\n",
              "          document.querySelector('#df-b2080ce2-4791-43e4-ad13-6695a08131d8 button.colab-df-convert');\n",
              "        buttonEl.style.display =\n",
              "          google.colab.kernel.accessAllowed ? 'block' : 'none';\n",
              "\n",
              "        async function convertToInteractive(key) {\n",
              "          const element = document.querySelector('#df-b2080ce2-4791-43e4-ad13-6695a08131d8');\n",
              "          const dataTable =\n",
              "            await google.colab.kernel.invokeFunction('convertToInteractive',\n",
              "                                                     [key], {});\n",
              "          if (!dataTable) return;\n",
              "\n",
              "          const docLinkHtml = 'Like what you see? Visit the ' +\n",
              "            '<a target=\"_blank\" href=https://colab.research.google.com/notebooks/data_table.ipynb>data table notebook</a>'\n",
              "            + ' to learn more about interactive tables.';\n",
              "          element.innerHTML = '';\n",
              "          dataTable['output_type'] = 'display_data';\n",
              "          await google.colab.output.renderOutput(dataTable, element);\n",
              "          const docLink = document.createElement('div');\n",
              "          docLink.innerHTML = docLinkHtml;\n",
              "          element.appendChild(docLink);\n",
              "        }\n",
              "      </script>\n",
              "    </div>\n",
              "  </div>\n",
              "  "
            ]
          },
          "metadata": {},
          "execution_count": 58
        }
      ],
      "source": [
        "# Reset the index of the training dataset\n",
        "df_train = df_train.reset_index(drop=True)\n",
        "df_train"
      ]
    },
    {
      "cell_type": "code",
      "execution_count": 59,
      "metadata": {
        "colab": {
          "base_uri": "https://localhost:8080/",
          "height": 522
        },
        "id": "4Am79P0Fc5bJ",
        "outputId": "52080a27-6826-45ac-fb99-d43502323f21"
      },
      "outputs": [
        {
          "output_type": "execute_result",
          "data": {
            "text/plain": [
              "               make                    model  year  \\\n",
              "0         chevrolet                 colorado  2015   \n",
              "1     mercedes-benz                  e-class  2017   \n",
              "2              ford                    focus  2017   \n",
              "3             acura                      tlx  2016   \n",
              "4        volkswagen       beetle_convertible  2016   \n",
              "...             ...                      ...   ...   \n",
              "2377          volvo                      v60  2015   \n",
              "2378       maserati  granturismo_convertible  2015   \n",
              "2379       cadillac          escalade_hybrid  2013   \n",
              "2380     mitsubishi                   lancer  2016   \n",
              "2381            kia                  sorento  2015   \n",
              "\n",
              "                    engine_fuel_type  engine_hp  engine_cylinders  \\\n",
              "0                   regular_unleaded      200.0               4.0   \n",
              "1        premium_unleaded_(required)      241.0               4.0   \n",
              "2           flex-fuel_(unleaded/e85)      160.0               4.0   \n",
              "3     premium_unleaded_(recommended)      290.0               6.0   \n",
              "4                   regular_unleaded      170.0               4.0   \n",
              "...                              ...        ...               ...   \n",
              "2377                regular_unleaded      240.0               4.0   \n",
              "2378     premium_unleaded_(required)      444.0               8.0   \n",
              "2379                regular_unleaded      332.0               8.0   \n",
              "2380                regular_unleaded      148.0               4.0   \n",
              "2381                regular_unleaded      290.0               6.0   \n",
              "\n",
              "     transmission_type      driven_wheels  number_of_doors  \\\n",
              "0            automatic   four_wheel_drive              4.0   \n",
              "1            automatic    all_wheel_drive              4.0   \n",
              "2               manual  front_wheel_drive              4.0   \n",
              "3            automatic  front_wheel_drive              4.0   \n",
              "4            automatic  front_wheel_drive              2.0   \n",
              "...                ...                ...              ...   \n",
              "2377         automatic  front_wheel_drive              4.0   \n",
              "2378         automatic   rear_wheel_drive              2.0   \n",
              "2379         automatic   rear_wheel_drive              4.0   \n",
              "2380            manual  front_wheel_drive              4.0   \n",
              "2381         automatic  front_wheel_drive              4.0   \n",
              "\n",
              "                     market_category vehicle_size        vehicle_style  \\\n",
              "0                                NaN      compact  extended_cab_pickup   \n",
              "1                             luxury      midsize                sedan   \n",
              "2                          flex_fuel      compact                sedan   \n",
              "3                             luxury      midsize                sedan   \n",
              "4                                NaN      compact          convertible   \n",
              "...                              ...          ...                  ...   \n",
              "2377                          luxury      midsize                wagon   \n",
              "2378  exotic,luxury,high-performance      midsize          convertible   \n",
              "2379                   luxury,hybrid        large              4dr_suv   \n",
              "2380                             NaN      compact                sedan   \n",
              "2381                       crossover      midsize              4dr_suv   \n",
              "\n",
              "      highway_mpg  city_mpg  popularity    msrp  \n",
              "0              25        19        1385   26885  \n",
              "1              29        22         617   54650  \n",
              "2              36        26        5657   16775  \n",
              "3              34        21         204   42600  \n",
              "4              34        25         873   25995  \n",
              "...           ...       ...         ...     ...  \n",
              "2377           37        25         870   35750  \n",
              "2378           20        13         238  145740  \n",
              "2379           23        20        1624   74425  \n",
              "2380           34        24         436   17595  \n",
              "2381           25        18        1720   26700  \n",
              "\n",
              "[2382 rows x 16 columns]"
            ],
            "text/html": [
              "\n",
              "  <div id=\"df-29745a92-d79f-4e0f-b696-827b4ec1ad1e\">\n",
              "    <div class=\"colab-df-container\">\n",
              "      <div>\n",
              "<style scoped>\n",
              "    .dataframe tbody tr th:only-of-type {\n",
              "        vertical-align: middle;\n",
              "    }\n",
              "\n",
              "    .dataframe tbody tr th {\n",
              "        vertical-align: top;\n",
              "    }\n",
              "\n",
              "    .dataframe thead th {\n",
              "        text-align: right;\n",
              "    }\n",
              "</style>\n",
              "<table border=\"1\" class=\"dataframe\">\n",
              "  <thead>\n",
              "    <tr style=\"text-align: right;\">\n",
              "      <th></th>\n",
              "      <th>make</th>\n",
              "      <th>model</th>\n",
              "      <th>year</th>\n",
              "      <th>engine_fuel_type</th>\n",
              "      <th>engine_hp</th>\n",
              "      <th>engine_cylinders</th>\n",
              "      <th>transmission_type</th>\n",
              "      <th>driven_wheels</th>\n",
              "      <th>number_of_doors</th>\n",
              "      <th>market_category</th>\n",
              "      <th>vehicle_size</th>\n",
              "      <th>vehicle_style</th>\n",
              "      <th>highway_mpg</th>\n",
              "      <th>city_mpg</th>\n",
              "      <th>popularity</th>\n",
              "      <th>msrp</th>\n",
              "    </tr>\n",
              "  </thead>\n",
              "  <tbody>\n",
              "    <tr>\n",
              "      <th>0</th>\n",
              "      <td>chevrolet</td>\n",
              "      <td>colorado</td>\n",
              "      <td>2015</td>\n",
              "      <td>regular_unleaded</td>\n",
              "      <td>200.0</td>\n",
              "      <td>4.0</td>\n",
              "      <td>automatic</td>\n",
              "      <td>four_wheel_drive</td>\n",
              "      <td>4.0</td>\n",
              "      <td>NaN</td>\n",
              "      <td>compact</td>\n",
              "      <td>extended_cab_pickup</td>\n",
              "      <td>25</td>\n",
              "      <td>19</td>\n",
              "      <td>1385</td>\n",
              "      <td>26885</td>\n",
              "    </tr>\n",
              "    <tr>\n",
              "      <th>1</th>\n",
              "      <td>mercedes-benz</td>\n",
              "      <td>e-class</td>\n",
              "      <td>2017</td>\n",
              "      <td>premium_unleaded_(required)</td>\n",
              "      <td>241.0</td>\n",
              "      <td>4.0</td>\n",
              "      <td>automatic</td>\n",
              "      <td>all_wheel_drive</td>\n",
              "      <td>4.0</td>\n",
              "      <td>luxury</td>\n",
              "      <td>midsize</td>\n",
              "      <td>sedan</td>\n",
              "      <td>29</td>\n",
              "      <td>22</td>\n",
              "      <td>617</td>\n",
              "      <td>54650</td>\n",
              "    </tr>\n",
              "    <tr>\n",
              "      <th>2</th>\n",
              "      <td>ford</td>\n",
              "      <td>focus</td>\n",
              "      <td>2017</td>\n",
              "      <td>flex-fuel_(unleaded/e85)</td>\n",
              "      <td>160.0</td>\n",
              "      <td>4.0</td>\n",
              "      <td>manual</td>\n",
              "      <td>front_wheel_drive</td>\n",
              "      <td>4.0</td>\n",
              "      <td>flex_fuel</td>\n",
              "      <td>compact</td>\n",
              "      <td>sedan</td>\n",
              "      <td>36</td>\n",
              "      <td>26</td>\n",
              "      <td>5657</td>\n",
              "      <td>16775</td>\n",
              "    </tr>\n",
              "    <tr>\n",
              "      <th>3</th>\n",
              "      <td>acura</td>\n",
              "      <td>tlx</td>\n",
              "      <td>2016</td>\n",
              "      <td>premium_unleaded_(recommended)</td>\n",
              "      <td>290.0</td>\n",
              "      <td>6.0</td>\n",
              "      <td>automatic</td>\n",
              "      <td>front_wheel_drive</td>\n",
              "      <td>4.0</td>\n",
              "      <td>luxury</td>\n",
              "      <td>midsize</td>\n",
              "      <td>sedan</td>\n",
              "      <td>34</td>\n",
              "      <td>21</td>\n",
              "      <td>204</td>\n",
              "      <td>42600</td>\n",
              "    </tr>\n",
              "    <tr>\n",
              "      <th>4</th>\n",
              "      <td>volkswagen</td>\n",
              "      <td>beetle_convertible</td>\n",
              "      <td>2016</td>\n",
              "      <td>regular_unleaded</td>\n",
              "      <td>170.0</td>\n",
              "      <td>4.0</td>\n",
              "      <td>automatic</td>\n",
              "      <td>front_wheel_drive</td>\n",
              "      <td>2.0</td>\n",
              "      <td>NaN</td>\n",
              "      <td>compact</td>\n",
              "      <td>convertible</td>\n",
              "      <td>34</td>\n",
              "      <td>25</td>\n",
              "      <td>873</td>\n",
              "      <td>25995</td>\n",
              "    </tr>\n",
              "    <tr>\n",
              "      <th>...</th>\n",
              "      <td>...</td>\n",
              "      <td>...</td>\n",
              "      <td>...</td>\n",
              "      <td>...</td>\n",
              "      <td>...</td>\n",
              "      <td>...</td>\n",
              "      <td>...</td>\n",
              "      <td>...</td>\n",
              "      <td>...</td>\n",
              "      <td>...</td>\n",
              "      <td>...</td>\n",
              "      <td>...</td>\n",
              "      <td>...</td>\n",
              "      <td>...</td>\n",
              "      <td>...</td>\n",
              "      <td>...</td>\n",
              "    </tr>\n",
              "    <tr>\n",
              "      <th>2377</th>\n",
              "      <td>volvo</td>\n",
              "      <td>v60</td>\n",
              "      <td>2015</td>\n",
              "      <td>regular_unleaded</td>\n",
              "      <td>240.0</td>\n",
              "      <td>4.0</td>\n",
              "      <td>automatic</td>\n",
              "      <td>front_wheel_drive</td>\n",
              "      <td>4.0</td>\n",
              "      <td>luxury</td>\n",
              "      <td>midsize</td>\n",
              "      <td>wagon</td>\n",
              "      <td>37</td>\n",
              "      <td>25</td>\n",
              "      <td>870</td>\n",
              "      <td>35750</td>\n",
              "    </tr>\n",
              "    <tr>\n",
              "      <th>2378</th>\n",
              "      <td>maserati</td>\n",
              "      <td>granturismo_convertible</td>\n",
              "      <td>2015</td>\n",
              "      <td>premium_unleaded_(required)</td>\n",
              "      <td>444.0</td>\n",
              "      <td>8.0</td>\n",
              "      <td>automatic</td>\n",
              "      <td>rear_wheel_drive</td>\n",
              "      <td>2.0</td>\n",
              "      <td>exotic,luxury,high-performance</td>\n",
              "      <td>midsize</td>\n",
              "      <td>convertible</td>\n",
              "      <td>20</td>\n",
              "      <td>13</td>\n",
              "      <td>238</td>\n",
              "      <td>145740</td>\n",
              "    </tr>\n",
              "    <tr>\n",
              "      <th>2379</th>\n",
              "      <td>cadillac</td>\n",
              "      <td>escalade_hybrid</td>\n",
              "      <td>2013</td>\n",
              "      <td>regular_unleaded</td>\n",
              "      <td>332.0</td>\n",
              "      <td>8.0</td>\n",
              "      <td>automatic</td>\n",
              "      <td>rear_wheel_drive</td>\n",
              "      <td>4.0</td>\n",
              "      <td>luxury,hybrid</td>\n",
              "      <td>large</td>\n",
              "      <td>4dr_suv</td>\n",
              "      <td>23</td>\n",
              "      <td>20</td>\n",
              "      <td>1624</td>\n",
              "      <td>74425</td>\n",
              "    </tr>\n",
              "    <tr>\n",
              "      <th>2380</th>\n",
              "      <td>mitsubishi</td>\n",
              "      <td>lancer</td>\n",
              "      <td>2016</td>\n",
              "      <td>regular_unleaded</td>\n",
              "      <td>148.0</td>\n",
              "      <td>4.0</td>\n",
              "      <td>manual</td>\n",
              "      <td>front_wheel_drive</td>\n",
              "      <td>4.0</td>\n",
              "      <td>NaN</td>\n",
              "      <td>compact</td>\n",
              "      <td>sedan</td>\n",
              "      <td>34</td>\n",
              "      <td>24</td>\n",
              "      <td>436</td>\n",
              "      <td>17595</td>\n",
              "    </tr>\n",
              "    <tr>\n",
              "      <th>2381</th>\n",
              "      <td>kia</td>\n",
              "      <td>sorento</td>\n",
              "      <td>2015</td>\n",
              "      <td>regular_unleaded</td>\n",
              "      <td>290.0</td>\n",
              "      <td>6.0</td>\n",
              "      <td>automatic</td>\n",
              "      <td>front_wheel_drive</td>\n",
              "      <td>4.0</td>\n",
              "      <td>crossover</td>\n",
              "      <td>midsize</td>\n",
              "      <td>4dr_suv</td>\n",
              "      <td>25</td>\n",
              "      <td>18</td>\n",
              "      <td>1720</td>\n",
              "      <td>26700</td>\n",
              "    </tr>\n",
              "  </tbody>\n",
              "</table>\n",
              "<p>2382 rows × 16 columns</p>\n",
              "</div>\n",
              "      <button class=\"colab-df-convert\" onclick=\"convertToInteractive('df-29745a92-d79f-4e0f-b696-827b4ec1ad1e')\"\n",
              "              title=\"Convert this dataframe to an interactive table.\"\n",
              "              style=\"display:none;\">\n",
              "        \n",
              "  <svg xmlns=\"http://www.w3.org/2000/svg\" height=\"24px\"viewBox=\"0 0 24 24\"\n",
              "       width=\"24px\">\n",
              "    <path d=\"M0 0h24v24H0V0z\" fill=\"none\"/>\n",
              "    <path d=\"M18.56 5.44l.94 2.06.94-2.06 2.06-.94-2.06-.94-.94-2.06-.94 2.06-2.06.94zm-11 1L8.5 8.5l.94-2.06 2.06-.94-2.06-.94L8.5 2.5l-.94 2.06-2.06.94zm10 10l.94 2.06.94-2.06 2.06-.94-2.06-.94-.94-2.06-.94 2.06-2.06.94z\"/><path d=\"M17.41 7.96l-1.37-1.37c-.4-.4-.92-.59-1.43-.59-.52 0-1.04.2-1.43.59L10.3 9.45l-7.72 7.72c-.78.78-.78 2.05 0 2.83L4 21.41c.39.39.9.59 1.41.59.51 0 1.02-.2 1.41-.59l7.78-7.78 2.81-2.81c.8-.78.8-2.07 0-2.86zM5.41 20L4 18.59l7.72-7.72 1.47 1.35L5.41 20z\"/>\n",
              "  </svg>\n",
              "      </button>\n",
              "      \n",
              "  <style>\n",
              "    .colab-df-container {\n",
              "      display:flex;\n",
              "      flex-wrap:wrap;\n",
              "      gap: 12px;\n",
              "    }\n",
              "\n",
              "    .colab-df-convert {\n",
              "      background-color: #E8F0FE;\n",
              "      border: none;\n",
              "      border-radius: 50%;\n",
              "      cursor: pointer;\n",
              "      display: none;\n",
              "      fill: #1967D2;\n",
              "      height: 32px;\n",
              "      padding: 0 0 0 0;\n",
              "      width: 32px;\n",
              "    }\n",
              "\n",
              "    .colab-df-convert:hover {\n",
              "      background-color: #E2EBFA;\n",
              "      box-shadow: 0px 1px 2px rgba(60, 64, 67, 0.3), 0px 1px 3px 1px rgba(60, 64, 67, 0.15);\n",
              "      fill: #174EA6;\n",
              "    }\n",
              "\n",
              "    [theme=dark] .colab-df-convert {\n",
              "      background-color: #3B4455;\n",
              "      fill: #D2E3FC;\n",
              "    }\n",
              "\n",
              "    [theme=dark] .colab-df-convert:hover {\n",
              "      background-color: #434B5C;\n",
              "      box-shadow: 0px 1px 3px 1px rgba(0, 0, 0, 0.15);\n",
              "      filter: drop-shadow(0px 1px 2px rgba(0, 0, 0, 0.3));\n",
              "      fill: #FFFFFF;\n",
              "    }\n",
              "  </style>\n",
              "\n",
              "      <script>\n",
              "        const buttonEl =\n",
              "          document.querySelector('#df-29745a92-d79f-4e0f-b696-827b4ec1ad1e button.colab-df-convert');\n",
              "        buttonEl.style.display =\n",
              "          google.colab.kernel.accessAllowed ? 'block' : 'none';\n",
              "\n",
              "        async function convertToInteractive(key) {\n",
              "          const element = document.querySelector('#df-29745a92-d79f-4e0f-b696-827b4ec1ad1e');\n",
              "          const dataTable =\n",
              "            await google.colab.kernel.invokeFunction('convertToInteractive',\n",
              "                                                     [key], {});\n",
              "          if (!dataTable) return;\n",
              "\n",
              "          const docLinkHtml = 'Like what you see? Visit the ' +\n",
              "            '<a target=\"_blank\" href=https://colab.research.google.com/notebooks/data_table.ipynb>data table notebook</a>'\n",
              "            + ' to learn more about interactive tables.';\n",
              "          element.innerHTML = '';\n",
              "          dataTable['output_type'] = 'display_data';\n",
              "          await google.colab.output.renderOutput(dataTable, element);\n",
              "          const docLink = document.createElement('div');\n",
              "          docLink.innerHTML = docLinkHtml;\n",
              "          element.appendChild(docLink);\n",
              "        }\n",
              "      </script>\n",
              "    </div>\n",
              "  </div>\n",
              "  "
            ]
          },
          "metadata": {},
          "execution_count": 59
        }
      ],
      "source": [
        "# Reset the index of the validation dataset\n",
        "df_val = df_val.reset_index(drop=True)\n",
        "df_val"
      ]
    },
    {
      "cell_type": "code",
      "execution_count": 60,
      "metadata": {
        "colab": {
          "base_uri": "https://localhost:8080/",
          "height": 522
        },
        "id": "xlsMptqUdpsj",
        "outputId": "f4936418-b291-4d28-80e1-b0a8a83c58ee"
      },
      "outputs": [
        {
          "output_type": "execute_result",
          "data": {
            "text/plain": [
              "               make           model  year          engine_fuel_type  \\\n",
              "0               gmc         vandura  1994          regular_unleaded   \n",
              "1     mercedes-benz       600-class  1993          regular_unleaded   \n",
              "2            toyota           venza  2013          regular_unleaded   \n",
              "3             volvo             740  1992          regular_unleaded   \n",
              "4              ford  crown_victoria  2010  flex-fuel_(unleaded/e85)   \n",
              "...             ...             ...   ...                       ...   \n",
              "2377      chevrolet       chevy_van  1998          regular_unleaded   \n",
              "2378         subaru    xv_crosstrek  2014          regular_unleaded   \n",
              "2379          dodge          magnum  2006          regular_unleaded   \n",
              "2380          honda           civic  2016          regular_unleaded   \n",
              "2381         subaru         outback  2015          regular_unleaded   \n",
              "\n",
              "      engine_hp  engine_cylinders transmission_type      driven_wheels  \\\n",
              "0         165.0               6.0         automatic   rear_wheel_drive   \n",
              "1         389.0              12.0         automatic   rear_wheel_drive   \n",
              "2         268.0               6.0         automatic    all_wheel_drive   \n",
              "3         114.0               4.0         automatic   rear_wheel_drive   \n",
              "4         224.0               8.0         automatic   rear_wheel_drive   \n",
              "...         ...               ...               ...                ...   \n",
              "2377      200.0               6.0         automatic   rear_wheel_drive   \n",
              "2378      160.0               4.0         automatic    all_wheel_drive   \n",
              "2379      250.0               6.0         automatic    all_wheel_drive   \n",
              "2380      174.0               4.0         automatic  front_wheel_drive   \n",
              "2381      256.0               6.0         automatic    all_wheel_drive   \n",
              "\n",
              "      number_of_doors        market_category vehicle_size vehicle_style  \\\n",
              "0                 3.0                    NaN      compact     cargo_van   \n",
              "1                 2.0                 luxury        large         coupe   \n",
              "2                 4.0  crossover,performance      midsize         wagon   \n",
              "3                 4.0                 luxury      midsize         sedan   \n",
              "4                 4.0              flex_fuel        large         sedan   \n",
              "...               ...                    ...          ...           ...   \n",
              "2377              3.0                    NaN      midsize     cargo_van   \n",
              "2378              4.0       crossover,hybrid      compact       4dr_suv   \n",
              "2379              4.0                    NaN        large         wagon   \n",
              "2380              4.0                    NaN      midsize         sedan   \n",
              "2381              4.0              crossover      midsize       4dr_suv   \n",
              "\n",
              "      highway_mpg  city_mpg  popularity   msrp  \n",
              "0              20        15         549   2000  \n",
              "1              15        11         617   3211  \n",
              "2              25        18        2031  31120  \n",
              "3              26        18         870   2000  \n",
              "4              24        16        5657  29905  \n",
              "...           ...       ...         ...    ...  \n",
              "2377           18        13        1385   2052  \n",
              "2378           33        29         640  25995  \n",
              "2379           22        15        1851  29100  \n",
              "2380           42        31        2202  22200  \n",
              "2381           27        20         640  32995  \n",
              "\n",
              "[2382 rows x 16 columns]"
            ],
            "text/html": [
              "\n",
              "  <div id=\"df-1d9f0c22-c176-4e6a-b636-3794df6a882b\">\n",
              "    <div class=\"colab-df-container\">\n",
              "      <div>\n",
              "<style scoped>\n",
              "    .dataframe tbody tr th:only-of-type {\n",
              "        vertical-align: middle;\n",
              "    }\n",
              "\n",
              "    .dataframe tbody tr th {\n",
              "        vertical-align: top;\n",
              "    }\n",
              "\n",
              "    .dataframe thead th {\n",
              "        text-align: right;\n",
              "    }\n",
              "</style>\n",
              "<table border=\"1\" class=\"dataframe\">\n",
              "  <thead>\n",
              "    <tr style=\"text-align: right;\">\n",
              "      <th></th>\n",
              "      <th>make</th>\n",
              "      <th>model</th>\n",
              "      <th>year</th>\n",
              "      <th>engine_fuel_type</th>\n",
              "      <th>engine_hp</th>\n",
              "      <th>engine_cylinders</th>\n",
              "      <th>transmission_type</th>\n",
              "      <th>driven_wheels</th>\n",
              "      <th>number_of_doors</th>\n",
              "      <th>market_category</th>\n",
              "      <th>vehicle_size</th>\n",
              "      <th>vehicle_style</th>\n",
              "      <th>highway_mpg</th>\n",
              "      <th>city_mpg</th>\n",
              "      <th>popularity</th>\n",
              "      <th>msrp</th>\n",
              "    </tr>\n",
              "  </thead>\n",
              "  <tbody>\n",
              "    <tr>\n",
              "      <th>0</th>\n",
              "      <td>gmc</td>\n",
              "      <td>vandura</td>\n",
              "      <td>1994</td>\n",
              "      <td>regular_unleaded</td>\n",
              "      <td>165.0</td>\n",
              "      <td>6.0</td>\n",
              "      <td>automatic</td>\n",
              "      <td>rear_wheel_drive</td>\n",
              "      <td>3.0</td>\n",
              "      <td>NaN</td>\n",
              "      <td>compact</td>\n",
              "      <td>cargo_van</td>\n",
              "      <td>20</td>\n",
              "      <td>15</td>\n",
              "      <td>549</td>\n",
              "      <td>2000</td>\n",
              "    </tr>\n",
              "    <tr>\n",
              "      <th>1</th>\n",
              "      <td>mercedes-benz</td>\n",
              "      <td>600-class</td>\n",
              "      <td>1993</td>\n",
              "      <td>regular_unleaded</td>\n",
              "      <td>389.0</td>\n",
              "      <td>12.0</td>\n",
              "      <td>automatic</td>\n",
              "      <td>rear_wheel_drive</td>\n",
              "      <td>2.0</td>\n",
              "      <td>luxury</td>\n",
              "      <td>large</td>\n",
              "      <td>coupe</td>\n",
              "      <td>15</td>\n",
              "      <td>11</td>\n",
              "      <td>617</td>\n",
              "      <td>3211</td>\n",
              "    </tr>\n",
              "    <tr>\n",
              "      <th>2</th>\n",
              "      <td>toyota</td>\n",
              "      <td>venza</td>\n",
              "      <td>2013</td>\n",
              "      <td>regular_unleaded</td>\n",
              "      <td>268.0</td>\n",
              "      <td>6.0</td>\n",
              "      <td>automatic</td>\n",
              "      <td>all_wheel_drive</td>\n",
              "      <td>4.0</td>\n",
              "      <td>crossover,performance</td>\n",
              "      <td>midsize</td>\n",
              "      <td>wagon</td>\n",
              "      <td>25</td>\n",
              "      <td>18</td>\n",
              "      <td>2031</td>\n",
              "      <td>31120</td>\n",
              "    </tr>\n",
              "    <tr>\n",
              "      <th>3</th>\n",
              "      <td>volvo</td>\n",
              "      <td>740</td>\n",
              "      <td>1992</td>\n",
              "      <td>regular_unleaded</td>\n",
              "      <td>114.0</td>\n",
              "      <td>4.0</td>\n",
              "      <td>automatic</td>\n",
              "      <td>rear_wheel_drive</td>\n",
              "      <td>4.0</td>\n",
              "      <td>luxury</td>\n",
              "      <td>midsize</td>\n",
              "      <td>sedan</td>\n",
              "      <td>26</td>\n",
              "      <td>18</td>\n",
              "      <td>870</td>\n",
              "      <td>2000</td>\n",
              "    </tr>\n",
              "    <tr>\n",
              "      <th>4</th>\n",
              "      <td>ford</td>\n",
              "      <td>crown_victoria</td>\n",
              "      <td>2010</td>\n",
              "      <td>flex-fuel_(unleaded/e85)</td>\n",
              "      <td>224.0</td>\n",
              "      <td>8.0</td>\n",
              "      <td>automatic</td>\n",
              "      <td>rear_wheel_drive</td>\n",
              "      <td>4.0</td>\n",
              "      <td>flex_fuel</td>\n",
              "      <td>large</td>\n",
              "      <td>sedan</td>\n",
              "      <td>24</td>\n",
              "      <td>16</td>\n",
              "      <td>5657</td>\n",
              "      <td>29905</td>\n",
              "    </tr>\n",
              "    <tr>\n",
              "      <th>...</th>\n",
              "      <td>...</td>\n",
              "      <td>...</td>\n",
              "      <td>...</td>\n",
              "      <td>...</td>\n",
              "      <td>...</td>\n",
              "      <td>...</td>\n",
              "      <td>...</td>\n",
              "      <td>...</td>\n",
              "      <td>...</td>\n",
              "      <td>...</td>\n",
              "      <td>...</td>\n",
              "      <td>...</td>\n",
              "      <td>...</td>\n",
              "      <td>...</td>\n",
              "      <td>...</td>\n",
              "      <td>...</td>\n",
              "    </tr>\n",
              "    <tr>\n",
              "      <th>2377</th>\n",
              "      <td>chevrolet</td>\n",
              "      <td>chevy_van</td>\n",
              "      <td>1998</td>\n",
              "      <td>regular_unleaded</td>\n",
              "      <td>200.0</td>\n",
              "      <td>6.0</td>\n",
              "      <td>automatic</td>\n",
              "      <td>rear_wheel_drive</td>\n",
              "      <td>3.0</td>\n",
              "      <td>NaN</td>\n",
              "      <td>midsize</td>\n",
              "      <td>cargo_van</td>\n",
              "      <td>18</td>\n",
              "      <td>13</td>\n",
              "      <td>1385</td>\n",
              "      <td>2052</td>\n",
              "    </tr>\n",
              "    <tr>\n",
              "      <th>2378</th>\n",
              "      <td>subaru</td>\n",
              "      <td>xv_crosstrek</td>\n",
              "      <td>2014</td>\n",
              "      <td>regular_unleaded</td>\n",
              "      <td>160.0</td>\n",
              "      <td>4.0</td>\n",
              "      <td>automatic</td>\n",
              "      <td>all_wheel_drive</td>\n",
              "      <td>4.0</td>\n",
              "      <td>crossover,hybrid</td>\n",
              "      <td>compact</td>\n",
              "      <td>4dr_suv</td>\n",
              "      <td>33</td>\n",
              "      <td>29</td>\n",
              "      <td>640</td>\n",
              "      <td>25995</td>\n",
              "    </tr>\n",
              "    <tr>\n",
              "      <th>2379</th>\n",
              "      <td>dodge</td>\n",
              "      <td>magnum</td>\n",
              "      <td>2006</td>\n",
              "      <td>regular_unleaded</td>\n",
              "      <td>250.0</td>\n",
              "      <td>6.0</td>\n",
              "      <td>automatic</td>\n",
              "      <td>all_wheel_drive</td>\n",
              "      <td>4.0</td>\n",
              "      <td>NaN</td>\n",
              "      <td>large</td>\n",
              "      <td>wagon</td>\n",
              "      <td>22</td>\n",
              "      <td>15</td>\n",
              "      <td>1851</td>\n",
              "      <td>29100</td>\n",
              "    </tr>\n",
              "    <tr>\n",
              "      <th>2380</th>\n",
              "      <td>honda</td>\n",
              "      <td>civic</td>\n",
              "      <td>2016</td>\n",
              "      <td>regular_unleaded</td>\n",
              "      <td>174.0</td>\n",
              "      <td>4.0</td>\n",
              "      <td>automatic</td>\n",
              "      <td>front_wheel_drive</td>\n",
              "      <td>4.0</td>\n",
              "      <td>NaN</td>\n",
              "      <td>midsize</td>\n",
              "      <td>sedan</td>\n",
              "      <td>42</td>\n",
              "      <td>31</td>\n",
              "      <td>2202</td>\n",
              "      <td>22200</td>\n",
              "    </tr>\n",
              "    <tr>\n",
              "      <th>2381</th>\n",
              "      <td>subaru</td>\n",
              "      <td>outback</td>\n",
              "      <td>2015</td>\n",
              "      <td>regular_unleaded</td>\n",
              "      <td>256.0</td>\n",
              "      <td>6.0</td>\n",
              "      <td>automatic</td>\n",
              "      <td>all_wheel_drive</td>\n",
              "      <td>4.0</td>\n",
              "      <td>crossover</td>\n",
              "      <td>midsize</td>\n",
              "      <td>4dr_suv</td>\n",
              "      <td>27</td>\n",
              "      <td>20</td>\n",
              "      <td>640</td>\n",
              "      <td>32995</td>\n",
              "    </tr>\n",
              "  </tbody>\n",
              "</table>\n",
              "<p>2382 rows × 16 columns</p>\n",
              "</div>\n",
              "      <button class=\"colab-df-convert\" onclick=\"convertToInteractive('df-1d9f0c22-c176-4e6a-b636-3794df6a882b')\"\n",
              "              title=\"Convert this dataframe to an interactive table.\"\n",
              "              style=\"display:none;\">\n",
              "        \n",
              "  <svg xmlns=\"http://www.w3.org/2000/svg\" height=\"24px\"viewBox=\"0 0 24 24\"\n",
              "       width=\"24px\">\n",
              "    <path d=\"M0 0h24v24H0V0z\" fill=\"none\"/>\n",
              "    <path d=\"M18.56 5.44l.94 2.06.94-2.06 2.06-.94-2.06-.94-.94-2.06-.94 2.06-2.06.94zm-11 1L8.5 8.5l.94-2.06 2.06-.94-2.06-.94L8.5 2.5l-.94 2.06-2.06.94zm10 10l.94 2.06.94-2.06 2.06-.94-2.06-.94-.94-2.06-.94 2.06-2.06.94z\"/><path d=\"M17.41 7.96l-1.37-1.37c-.4-.4-.92-.59-1.43-.59-.52 0-1.04.2-1.43.59L10.3 9.45l-7.72 7.72c-.78.78-.78 2.05 0 2.83L4 21.41c.39.39.9.59 1.41.59.51 0 1.02-.2 1.41-.59l7.78-7.78 2.81-2.81c.8-.78.8-2.07 0-2.86zM5.41 20L4 18.59l7.72-7.72 1.47 1.35L5.41 20z\"/>\n",
              "  </svg>\n",
              "      </button>\n",
              "      \n",
              "  <style>\n",
              "    .colab-df-container {\n",
              "      display:flex;\n",
              "      flex-wrap:wrap;\n",
              "      gap: 12px;\n",
              "    }\n",
              "\n",
              "    .colab-df-convert {\n",
              "      background-color: #E8F0FE;\n",
              "      border: none;\n",
              "      border-radius: 50%;\n",
              "      cursor: pointer;\n",
              "      display: none;\n",
              "      fill: #1967D2;\n",
              "      height: 32px;\n",
              "      padding: 0 0 0 0;\n",
              "      width: 32px;\n",
              "    }\n",
              "\n",
              "    .colab-df-convert:hover {\n",
              "      background-color: #E2EBFA;\n",
              "      box-shadow: 0px 1px 2px rgba(60, 64, 67, 0.3), 0px 1px 3px 1px rgba(60, 64, 67, 0.15);\n",
              "      fill: #174EA6;\n",
              "    }\n",
              "\n",
              "    [theme=dark] .colab-df-convert {\n",
              "      background-color: #3B4455;\n",
              "      fill: #D2E3FC;\n",
              "    }\n",
              "\n",
              "    [theme=dark] .colab-df-convert:hover {\n",
              "      background-color: #434B5C;\n",
              "      box-shadow: 0px 1px 3px 1px rgba(0, 0, 0, 0.15);\n",
              "      filter: drop-shadow(0px 1px 2px rgba(0, 0, 0, 0.3));\n",
              "      fill: #FFFFFF;\n",
              "    }\n",
              "  </style>\n",
              "\n",
              "      <script>\n",
              "        const buttonEl =\n",
              "          document.querySelector('#df-1d9f0c22-c176-4e6a-b636-3794df6a882b button.colab-df-convert');\n",
              "        buttonEl.style.display =\n",
              "          google.colab.kernel.accessAllowed ? 'block' : 'none';\n",
              "\n",
              "        async function convertToInteractive(key) {\n",
              "          const element = document.querySelector('#df-1d9f0c22-c176-4e6a-b636-3794df6a882b');\n",
              "          const dataTable =\n",
              "            await google.colab.kernel.invokeFunction('convertToInteractive',\n",
              "                                                     [key], {});\n",
              "          if (!dataTable) return;\n",
              "\n",
              "          const docLinkHtml = 'Like what you see? Visit the ' +\n",
              "            '<a target=\"_blank\" href=https://colab.research.google.com/notebooks/data_table.ipynb>data table notebook</a>'\n",
              "            + ' to learn more about interactive tables.';\n",
              "          element.innerHTML = '';\n",
              "          dataTable['output_type'] = 'display_data';\n",
              "          await google.colab.output.renderOutput(dataTable, element);\n",
              "          const docLink = document.createElement('div');\n",
              "          docLink.innerHTML = docLinkHtml;\n",
              "          element.appendChild(docLink);\n",
              "        }\n",
              "      </script>\n",
              "    </div>\n",
              "  </div>\n",
              "  "
            ]
          },
          "metadata": {},
          "execution_count": 60
        }
      ],
      "source": [
        "# Reset the index of the test dataset\n",
        "df_test = df_test.reset_index(drop=True)\n",
        "df_test"
      ]
    },
    {
      "cell_type": "code",
      "execution_count": 61,
      "metadata": {
        "colab": {
          "base_uri": "https://localhost:8080/"
        },
        "id": "0AyUUCS8dvfF",
        "outputId": "2ebff9f0-adf2-4046-93cf-1d45ba83329b"
      },
      "outputs": [
        {
          "output_type": "execute_result",
          "data": {
            "text/plain": [
              "0        9.575747\n",
              "1        9.887663\n",
              "2        9.893235\n",
              "3        7.601402\n",
              "4       10.937757\n",
              "          ...    \n",
              "7145    10.913287\n",
              "7146    10.282472\n",
              "7147    10.453803\n",
              "7148    12.622481\n",
              "7149    10.540620\n",
              "Name: msrp, Length: 7150, dtype: float64"
            ]
          },
          "metadata": {},
          "execution_count": 61
        }
      ],
      "source": [
        "# next we neeed to do some transformation with the Y\n",
        "\n",
        "# Apply the log transformation with the training dataset\n",
        "np.log1p(df_train.msrp)"
      ]
    },
    {
      "cell_type": "code",
      "execution_count": 62,
      "metadata": {
        "id": "Y7wmYayyecnC"
      },
      "outputs": [],
      "source": [
        "# Instead of keeping the series let's get the values for each datasets\n",
        "y_train = np.log1p(df_train.msrp.values)\n",
        "y_val   = np.log1p(df_val.msrp.values)\n",
        "y_test  = np.log1p(df_test.msrp.values)"
      ]
    },
    {
      "cell_type": "code",
      "execution_count": 63,
      "metadata": {
        "id": "vTBHsryle5oK"
      },
      "outputs": [],
      "source": [
        "# last step we need to remove the MSRP variable from our dataframes\n",
        "# we need to delete because we might accidentally use it and we need to avoid\n",
        "# and to make sure that we don't use it for training purposes\n",
        "\n",
        "# Delete the serie MSRP from the datasets: training, validation and test\n",
        "del df_train['msrp']\n",
        "del df_val['msrp']\n",
        "del df_test['msrp']"
      ]
    },
    {
      "cell_type": "code",
      "execution_count": 64,
      "metadata": {
        "colab": {
          "base_uri": "https://localhost:8080/"
        },
        "id": "xRcyMUlMhdsk",
        "outputId": "0ca5e48b-0d15-4498-e881-da0e0908473b"
      },
      "outputs": [
        {
          "output_type": "execute_result",
          "data": {
            "text/plain": [
              "7150"
            ]
          },
          "metadata": {},
          "execution_count": 64
        }
      ],
      "source": [
        "# Check the length of the Y training dataset\n",
        "len(y_train)"
      ]
    },
    {
      "cell_type": "markdown",
      "metadata": {
        "id": "qExODisPiPiq"
      },
      "source": [
        "###2.5 Linear regression"
      ]
    },
    {
      "cell_type": "code",
      "execution_count": 65,
      "metadata": {
        "id": "2ygBWkJNhmvx"
      },
      "outputs": [],
      "source": [
        "# linear regression is a model that is used for solving regression problems\n",
        "# we use for predicting numbers, so the output of the model is a number"
      ]
    },
    {
      "cell_type": "code",
      "execution_count": 66,
      "metadata": {
        "colab": {
          "base_uri": "https://localhost:8080/"
        },
        "id": "D26dWExFm_WY",
        "outputId": "fd6adcca-1d51-4ab9-bda6-2faeab3f71fe"
      },
      "outputs": [
        {
          "output_type": "execute_result",
          "data": {
            "text/plain": [
              "make                                 rolls-royce\n",
              "model                     phantom_drophead_coupe\n",
              "year                                        2015\n",
              "engine_fuel_type     premium_unleaded_(required)\n",
              "engine_hp                                  453.0\n",
              "engine_cylinders                            12.0\n",
              "transmission_type                      automatic\n",
              "driven_wheels                   rear_wheel_drive\n",
              "number_of_doors                              2.0\n",
              "market_category        exotic,luxury,performance\n",
              "vehicle_size                               large\n",
              "vehicle_style                        convertible\n",
              "highway_mpg                                   19\n",
              "city_mpg                                      11\n",
              "popularity                                    86\n",
              "Name: 10, dtype: object"
            ]
          },
          "metadata": {},
          "execution_count": 66
        }
      ],
      "source": [
        "# Print the record 10 of the training dataset\n",
        "df_train.iloc[10]"
      ]
    },
    {
      "cell_type": "code",
      "execution_count": 67,
      "metadata": {
        "id": "RMIaS61onBxS"
      },
      "outputs": [],
      "source": [
        "# Create feature vector xi with data from the training dataset\n",
        "xi = [453, 11, 86]"
      ]
    },
    {
      "cell_type": "code",
      "execution_count": 68,
      "metadata": {
        "id": "g19Ym4ZTuVB5"
      },
      "outputs": [],
      "source": [
        "# Create function g that takes xi as argument\n",
        "def g(xi):\n",
        "  # do something ... here will be the linear regression\n",
        "  return 10_000"
      ]
    },
    {
      "cell_type": "code",
      "execution_count": 69,
      "metadata": {
        "colab": {
          "base_uri": "https://localhost:8080/"
        },
        "id": "pOIRBg2AuweE",
        "outputId": "3e956354-97e6-4edd-aa7c-eb8b45474d05"
      },
      "outputs": [
        {
          "output_type": "execute_result",
          "data": {
            "text/plain": [
              "10000"
            ]
          },
          "metadata": {},
          "execution_count": 69
        }
      ],
      "source": [
        "# Call function g\n",
        "g(xi)"
      ]
    },
    {
      "cell_type": "code",
      "execution_count": 70,
      "metadata": {
        "id": "m1y6p97Oz1Y_"
      },
      "outputs": [],
      "source": [
        "# Declare the bias term variable\n",
        "w0 = 0\n",
        "\n",
        "# Declare a vector for each feature\n",
        "w = [1, 1, 1]\n",
        "\n",
        "# Change the weights above with new values\n",
        "w0 = 7.17\n",
        "w = [0.01, 0.04, 0.002]"
      ]
    },
    {
      "cell_type": "code",
      "execution_count": 71,
      "metadata": {
        "id": "seup_XtUu_AK"
      },
      "outputs": [],
      "source": [
        "# Create the function linear regression\n",
        "def linear_regression(xi):\n",
        "  # Implement the formula for linear regression\n",
        "  n = len(xi)\n",
        "  pred = w0 # we start from zero with the prediction\n",
        "\n",
        "  # create a for range for n\n",
        "  for j in range(n):\n",
        "    pred = pred + w[j] * xi[j]\n",
        "\n",
        "  # at the end return predictions\n",
        "  return pred "
      ]
    },
    {
      "cell_type": "code",
      "execution_count": 72,
      "metadata": {
        "colab": {
          "base_uri": "https://localhost:8080/"
        },
        "id": "cGWaAJiL2x4m",
        "outputId": "b644188f-e5ee-4a83-bf3b-8b01b9abf8b3"
      },
      "outputs": [
        {
          "output_type": "execute_result",
          "data": {
            "text/plain": [
              "12.312"
            ]
          },
          "metadata": {},
          "execution_count": 72
        }
      ],
      "source": [
        "# Test the function linear regression\n",
        "log_price = linear_regression(xi)\n",
        "log_price"
      ]
    },
    {
      "cell_type": "code",
      "execution_count": 73,
      "metadata": {
        "colab": {
          "base_uri": "https://localhost:8080/"
        },
        "id": "MPG8TEui29mj",
        "outputId": "15068506-2ad6-4cc7-be17-da9e28a8a23b"
      },
      "outputs": [
        {
          "output_type": "execute_result",
          "data": {
            "text/plain": [
              "222347.2221101062"
            ]
          },
          "metadata": {},
          "execution_count": 73
        }
      ],
      "source": [
        "# note the price above its not the final price\n",
        "# because we did the logarithm of y - 1\n",
        "# now we need to undo this algorithm\n",
        "# to undo the algorithm we need to do the exponent\n",
        "\n",
        "# Convert the logorithm price to an exponent value\n",
        "# the value produced its a prediction of the price\n",
        "np.expm1(log_price)"
      ]
    },
    {
      "cell_type": "markdown",
      "metadata": {
        "id": "5RYtBpgCREo5"
      },
      "source": [
        "###2.6 Linear regression vector form"
      ]
    },
    {
      "cell_type": "code",
      "execution_count": 74,
      "metadata": {
        "id": "cUgJISt_RLlw"
      },
      "outputs": [],
      "source": [
        "# Create a function dot that does the dot product\n",
        "def dot(xi, w):\n",
        "  n = len(xi)\n",
        "  \n",
        "  res = 0.0\n",
        "\n",
        "  for j in range(n):\n",
        "    res = res + xi[j] * w[j]\n",
        "\n",
        "  return res"
      ]
    },
    {
      "cell_type": "code",
      "execution_count": 75,
      "metadata": {
        "id": "FpKKWdhyXdEO"
      },
      "outputs": [],
      "source": [
        "# Simplified linear regression function\n",
        "def linear_regression(xi):\n",
        "  return w0 + dot(xi, w)"
      ]
    },
    {
      "cell_type": "code",
      "execution_count": 76,
      "metadata": {
        "colab": {
          "base_uri": "https://localhost:8080/"
        },
        "id": "oG8SQ-N4Xvab",
        "outputId": "5a2b2e6c-d9e7-4856-f9c5-82622920b8d1"
      },
      "outputs": [
        {
          "output_type": "execute_result",
          "data": {
            "text/plain": [
              "[7.17, 0.01, 0.04, 0.002]"
            ]
          },
          "metadata": {},
          "execution_count": 76
        }
      ],
      "source": [
        "# Create a new vector with weights\n",
        "w_new = [w0] + w\n",
        "w_new"
      ]
    },
    {
      "cell_type": "code",
      "execution_count": 77,
      "metadata": {
        "id": "gKlIhkw9AFZN"
      },
      "outputs": [],
      "source": [
        "# Final linear regression function\n",
        "def linear_regression(xi):\n",
        "  xi = [1] + xi\n",
        "  return dot(xi, w_new)"
      ]
    },
    {
      "cell_type": "code",
      "execution_count": 78,
      "metadata": {
        "colab": {
          "base_uri": "https://localhost:8080/"
        },
        "id": "66X7OTESA6_n",
        "outputId": "f388a80f-0ddb-4532-b137-9e2db3259320"
      },
      "outputs": [
        {
          "output_type": "execute_result",
          "data": {
            "text/plain": [
              "12.312"
            ]
          },
          "metadata": {},
          "execution_count": 78
        }
      ],
      "source": [
        "# Test the final linear regression function\n",
        "# the result is the same\n",
        "linear_regression(xi)"
      ]
    },
    {
      "cell_type": "code",
      "execution_count": 79,
      "metadata": {
        "id": "7Aw8wlp5BDDF"
      },
      "outputs": [],
      "source": [
        "# Implement the matrix vector multiplication\n",
        "\n",
        "# Create feature vector xi with data from the training dataset\n",
        "xi = [453, 11, 86]\n",
        "\n",
        "# Declare the bias term variable\n",
        "w0 = 7.17\n",
        "\n",
        "# Declare a vector for each feature\n",
        "w = [0.01, 0.04, 0.002]"
      ]
    },
    {
      "cell_type": "code",
      "execution_count": 80,
      "metadata": {
        "colab": {
          "base_uri": "https://localhost:8080/"
        },
        "id": "lWyj_CcRGa9i",
        "outputId": "89f40f3e-7664-4c03-cf59-c7efc9b67248"
      },
      "outputs": [
        {
          "output_type": "execute_result",
          "data": {
            "text/plain": [
              "[[1, 148, 24, 1385], [1, 132, 25, 2031], [1, 453, 11, 86]]"
            ]
          },
          "metadata": {},
          "execution_count": 80
        }
      ],
      "source": [
        "# Declare 3 features vectors with data from the training dataset\n",
        "# 1     = always need to add once\n",
        "# 148   = horsepowers\n",
        "# 24    = miles per gallon\n",
        "# 1385  = popularity\n",
        "x1  = [1, 148, 24, 1385 ]\n",
        "x2  = [1, 132, 25, 2031]\n",
        "x10 = [1, 453, 11, 86]\n",
        "\n",
        "# Create a list of list with the features vectors\n",
        "X = [x1, x2, x10]\n",
        "X"
      ]
    },
    {
      "cell_type": "code",
      "execution_count": 81,
      "metadata": {
        "colab": {
          "base_uri": "https://localhost:8080/"
        },
        "id": "QkRTzEqzH9qg",
        "outputId": "9779c1a6-72d7-4ac1-ea39-7e4923f035a5"
      },
      "outputs": [
        {
          "output_type": "execute_result",
          "data": {
            "text/plain": [
              "array([[   1,  148,   24, 1385],\n",
              "       [   1,  132,   25, 2031],\n",
              "       [   1,  453,   11,   86]])"
            ]
          },
          "metadata": {},
          "execution_count": 81
        }
      ],
      "source": [
        "# Convert the X list to numpy matrix\n",
        "X = np.array(X)\n",
        "X\n",
        "# creates a two-dimensional array"
      ]
    },
    {
      "cell_type": "code",
      "execution_count": 82,
      "metadata": {
        "colab": {
          "base_uri": "https://localhost:8080/"
        },
        "id": "KOFbjcd1Ih5a",
        "outputId": "7efc244d-0dd6-4d84-bb8c-cddab06d0276"
      },
      "outputs": [
        {
          "output_type": "execute_result",
          "data": {
            "text/plain": [
              "[7.17, 0.01, 0.04, 0.002]"
            ]
          },
          "metadata": {},
          "execution_count": 82
        }
      ],
      "source": [
        "# Create a new vector with weights\n",
        "w_new = [w0] + w\n",
        "w_new"
      ]
    },
    {
      "cell_type": "code",
      "execution_count": 83,
      "metadata": {
        "colab": {
          "base_uri": "https://localhost:8080/"
        },
        "id": "81vw-uIuJSMe",
        "outputId": "52607bab-6922-4de0-aab1-eb09dd268916"
      },
      "outputs": [
        {
          "output_type": "execute_result",
          "data": {
            "text/plain": [
              "array([12.38 , 13.552, 12.312])"
            ]
          },
          "metadata": {},
          "execution_count": 83
        }
      ],
      "source": [
        "# Do the multiplication with the matrix and the vector\n",
        "X.dot(w_new)\n",
        "\n",
        "# now for each cars we have a prediction of the price for each car"
      ]
    },
    {
      "cell_type": "code",
      "execution_count": 84,
      "metadata": {
        "id": "vtTG5BI9JmDD"
      },
      "outputs": [],
      "source": [
        "# Finaly implement the linear regression function\n",
        "def linear_regression(X):\n",
        "  return X.dot(w_new)"
      ]
    },
    {
      "cell_type": "code",
      "execution_count": 85,
      "metadata": {
        "colab": {
          "base_uri": "https://localhost:8080/"
        },
        "id": "zaVXAf4QKU3b",
        "outputId": "fbe5f268-bcd9-4579-992d-1c9e8d50a1c7"
      },
      "outputs": [
        {
          "output_type": "execute_result",
          "data": {
            "text/plain": [
              "array([12.38 , 13.552, 12.312])"
            ]
          },
          "metadata": {},
          "execution_count": 85
        }
      ],
      "source": [
        "# Test the final linear regressiob function\n",
        "linear_regression(X)\n",
        "\n",
        "# now we know how to do for multiple rows or cars at the same time"
      ]
    },
    {
      "cell_type": "markdown",
      "metadata": {
        "id": "V2FiKHR6LGJS"
      },
      "source": [
        "###2.7 Training a linear regression model"
      ]
    },
    {
      "cell_type": "code",
      "execution_count": 86,
      "metadata": {
        "id": "TaR0r32-LLN5"
      },
      "outputs": [],
      "source": [
        "# Define the function training linear regression\n",
        "def train_linear_regression(X, y):\n",
        "  pass"
      ]
    },
    {
      "cell_type": "code",
      "execution_count": 87,
      "metadata": {
        "colab": {
          "base_uri": "https://localhost:8080/"
        },
        "id": "EWhL0yARNQ12",
        "outputId": "101a08b0-8aca-429b-c63d-c094101e5de1"
      },
      "outputs": [
        {
          "output_type": "execute_result",
          "data": {
            "text/plain": [
              "array([[   1,  148,   24, 1385],\n",
              "       [   1,  132,   25, 2031],\n",
              "       [   1,  453,   11,   86]])"
            ]
          },
          "metadata": {},
          "execution_count": 87
        }
      ],
      "source": [
        "X"
      ]
    },
    {
      "cell_type": "code",
      "execution_count": 88,
      "metadata": {
        "colab": {
          "base_uri": "https://localhost:8080/"
        },
        "id": "h5KelQ_kPh3N",
        "outputId": "5881da75-493d-4431-c4c3-f0a73a5155a4"
      },
      "outputs": [
        {
          "output_type": "execute_result",
          "data": {
            "text/plain": [
              "array([[ 148,   24, 1385],\n",
              "       [ 132,   25, 2031],\n",
              "       [ 453,   11,   86],\n",
              "       [ 158,   24,  185],\n",
              "       [ 172,   25,  201],\n",
              "       [ 413,   11,   86],\n",
              "       [  38,   54,  185],\n",
              "       [ 142,   25,  431],\n",
              "       [ 453,   31,   86]])"
            ]
          },
          "metadata": {},
          "execution_count": 88
        }
      ],
      "source": [
        "# the X array is problematic because has more columns than rows\n",
        "# and the matrix solution the inverse will not necessarily exist\n",
        "\n",
        "# so we are going to add more data to the array X by creating a list of lists\n",
        "X = [\n",
        "    [148, 24, 1385 ], # note we removed the ones we will add later\n",
        "    [132, 25, 2031],\n",
        "    [453, 11, 86],\n",
        "    [158, 24, 185 ],\n",
        "    [172, 25, 201],\n",
        "    [413, 11, 86],\n",
        "    [38, 54, 185 ], \n",
        "    [142, 25, 431],\n",
        "    [453, 31, 86],\n",
        "]\n",
        "\n",
        "# Convert the X list to numpy matrix\n",
        "X = np.array(X)\n",
        "X"
      ]
    },
    {
      "cell_type": "code",
      "execution_count": 89,
      "metadata": {
        "id": "lTkkHWI6YMfL"
      },
      "outputs": [],
      "source": [
        "# Define the y target array\n",
        "y = [10000, 20000, 15000, 20050, 10000, 20000, 15000, 25000, 12000]"
      ]
    },
    {
      "cell_type": "code",
      "execution_count": 90,
      "metadata": {
        "colab": {
          "base_uri": "https://localhost:8080/"
        },
        "id": "ENaCUe_wVm5X",
        "outputId": "e890c3b5-a1ed-4ee0-b908-9d0008083eef"
      },
      "outputs": [
        {
          "output_type": "execute_result",
          "data": {
            "text/plain": [
              "array([[ 696471,   44115,  718540],\n",
              "       [  44115,    7146,  118803],\n",
              "       [ 718540,  118803, 6359986]])"
            ]
          },
          "metadata": {},
          "execution_count": 90
        }
      ],
      "source": [
        "# Implement the the gram matrix\n",
        "XTX = X.T.dot(X)\n",
        "XTX"
      ]
    },
    {
      "cell_type": "code",
      "execution_count": 91,
      "metadata": {
        "colab": {
          "base_uri": "https://localhost:8080/"
        },
        "id": "s6Uj6GtaWFGX",
        "outputId": "00895271-e19a-4fb0-e4a7-1308a247e31e"
      },
      "outputs": [
        {
          "output_type": "execute_result",
          "data": {
            "text/plain": [
              "array([[ 2.35803616e-06, -1.46900642e-05,  8.00007928e-09],\n",
              "       [-1.46900642e-05,  2.94487947e-04, -3.84130606e-06],\n",
              "       [ 8.00007928e-09, -3.84130606e-06,  2.28083884e-07]])"
            ]
          },
          "metadata": {},
          "execution_count": 91
        }
      ],
      "source": [
        "# Find the inverse of the matrix\n",
        "XTX_inv = np.linalg.inv(XTX)\n",
        "XTX_inv"
      ]
    },
    {
      "cell_type": "code",
      "execution_count": 92,
      "metadata": {
        "colab": {
          "base_uri": "https://localhost:8080/"
        },
        "id": "DYR9hq_SWjLG",
        "outputId": "8310b5d3-0a2e-48db-bf53-8fc25043491f"
      },
      "outputs": [
        {
          "output_type": "execute_result",
          "data": {
            "text/plain": [
              "array([[ 1.,  0.,  0.],\n",
              "       [-0.,  1.,  0.],\n",
              "       [ 0.,  0.,  1.]])"
            ]
          },
          "metadata": {},
          "execution_count": 92
        }
      ],
      "source": [
        "# Check the matrix give as an identity matrix\n",
        "XTX.dot(XTX_inv).round(1)\n",
        "\n",
        "# we can see have ones on the diagonal of the matrix"
      ]
    },
    {
      "cell_type": "code",
      "execution_count": 93,
      "metadata": {
        "colab": {
          "base_uri": "https://localhost:8080/"
        },
        "id": "KswQetgaW4i8",
        "outputId": "6e422545-5ad5-469b-f73f-84b67d6baf0a"
      },
      "outputs": [
        {
          "output_type": "execute_result",
          "data": {
            "text/plain": [
              "array([[ 1.00000000e+00,  2.26757496e-16,  6.52840056e-18],\n",
              "       [-3.49924862e-18,  1.00000000e+00,  4.39258052e-18],\n",
              "       [ 3.31839120e-17,  5.32582130e-16,  1.00000000e+00]])"
            ]
          },
          "metadata": {},
          "execution_count": 93
        }
      ],
      "source": [
        "XTX.dot(XTX_inv)"
      ]
    },
    {
      "cell_type": "code",
      "execution_count": 94,
      "metadata": {
        "colab": {
          "base_uri": "https://localhost:8080/"
        },
        "id": "gX9U6LFhXVXO",
        "outputId": "f6b84137-e18a-4d84-ba14-b8ffc43e0bb3"
      },
      "outputs": [
        {
          "output_type": "execute_result",
          "data": {
            "text/plain": [
              "array([ 26.08419498, 286.12285934,   3.93813107])"
            ]
          },
          "metadata": {},
          "execution_count": 94
        }
      ],
      "source": [
        "# Multiply with x transpose and then multiply it with y\n",
        "w = XTX_inv.dot(X.T).dot(y)\n",
        "w"
      ]
    },
    {
      "cell_type": "code",
      "execution_count": 95,
      "metadata": {
        "colab": {
          "base_uri": "https://localhost:8080/"
        },
        "id": "2hQIGU4pYwe5",
        "outputId": "83373931-a8ff-4e4f-cfff-54588c251b81"
      },
      "outputs": [
        {
          "output_type": "execute_result",
          "data": {
            "text/plain": [
              "array([1., 1., 1., 1., 1., 1., 1., 1., 1.])"
            ]
          },
          "metadata": {},
          "execution_count": 95
        }
      ],
      "source": [
        "# we need to include the bias term with array X\n",
        "# the bias term gives us the baseline\n",
        "# so that is how much a car should cost\n",
        "# if we don't know anything about this car\n",
        "# if we don't include the bias term then we don't know\n",
        "# what should we base our prediction\n",
        "\n",
        "# Add ones columnn to the array X\n",
        "\n",
        "# Create a vector with ones to add the array X\n",
        "ones = np.ones(X.shape[0])\n",
        "ones"
      ]
    },
    {
      "cell_type": "code",
      "execution_count": 96,
      "metadata": {
        "colab": {
          "base_uri": "https://localhost:8080/"
        },
        "id": "4o_oG4b7bvC-",
        "outputId": "7b28b25b-f1eb-4f61-c164-ae2c4a5ecf31"
      },
      "outputs": [
        {
          "output_type": "execute_result",
          "data": {
            "text/plain": [
              "array([[1., 1.],\n",
              "       [1., 1.],\n",
              "       [1., 1.],\n",
              "       [1., 1.],\n",
              "       [1., 1.],\n",
              "       [1., 1.],\n",
              "       [1., 1.],\n",
              "       [1., 1.],\n",
              "       [1., 1.]])"
            ]
          },
          "metadata": {},
          "execution_count": 96
        }
      ],
      "source": [
        "# use the function column stack\n",
        "# it can take two vectors and stack them together\n",
        "np.column_stack([ones, ones])"
      ]
    },
    {
      "cell_type": "code",
      "execution_count": 97,
      "metadata": {
        "colab": {
          "base_uri": "https://localhost:8080/"
        },
        "id": "6xeT7DVlciNN",
        "outputId": "da9a1adc-7ae1-4a36-80a5-2d04844d2e84"
      },
      "outputs": [
        {
          "output_type": "execute_result",
          "data": {
            "text/plain": [
              "array([[1.000e+00, 1.000e+00, 1.480e+02, 2.400e+01, 1.385e+03],\n",
              "       [1.000e+00, 1.000e+00, 1.320e+02, 2.500e+01, 2.031e+03],\n",
              "       [1.000e+00, 1.000e+00, 4.530e+02, 1.100e+01, 8.600e+01],\n",
              "       [1.000e+00, 1.000e+00, 1.580e+02, 2.400e+01, 1.850e+02],\n",
              "       [1.000e+00, 1.000e+00, 1.720e+02, 2.500e+01, 2.010e+02],\n",
              "       [1.000e+00, 1.000e+00, 4.130e+02, 1.100e+01, 8.600e+01],\n",
              "       [1.000e+00, 1.000e+00, 3.800e+01, 5.400e+01, 1.850e+02],\n",
              "       [1.000e+00, 1.000e+00, 1.420e+02, 2.500e+01, 4.310e+02],\n",
              "       [1.000e+00, 1.000e+00, 4.530e+02, 3.100e+01, 8.600e+01]])"
            ]
          },
          "metadata": {},
          "execution_count": 97
        }
      ],
      "source": [
        "# Stack two vectors of ones and one matrix\n",
        "np.column_stack([ones, ones, X])\n",
        "\n",
        "# the result is a two dimentional matrix"
      ]
    },
    {
      "cell_type": "code",
      "execution_count": 98,
      "metadata": {
        "colab": {
          "base_uri": "https://localhost:8080/"
        },
        "id": "3vrsIbJGc2_g",
        "outputId": "151fd42c-3db7-4ea1-bd66-7db9fc956cbf"
      },
      "outputs": [
        {
          "output_type": "execute_result",
          "data": {
            "text/plain": [
              "array([[1.000e+00, 1.480e+02, 2.400e+01, 1.385e+03],\n",
              "       [1.000e+00, 1.320e+02, 2.500e+01, 2.031e+03],\n",
              "       [1.000e+00, 4.530e+02, 1.100e+01, 8.600e+01],\n",
              "       [1.000e+00, 1.580e+02, 2.400e+01, 1.850e+02],\n",
              "       [1.000e+00, 1.720e+02, 2.500e+01, 2.010e+02],\n",
              "       [1.000e+00, 4.130e+02, 1.100e+01, 8.600e+01],\n",
              "       [1.000e+00, 3.800e+01, 5.400e+01, 1.850e+02],\n",
              "       [1.000e+00, 1.420e+02, 2.500e+01, 4.310e+02],\n",
              "       [1.000e+00, 4.530e+02, 3.100e+01, 8.600e+01]])"
            ]
          },
          "metadata": {},
          "execution_count": 98
        }
      ],
      "source": [
        "# now just stack the vector of ones with the matrix\n",
        "X = np.column_stack([ones, X])\n",
        "X"
      ]
    },
    {
      "cell_type": "code",
      "execution_count": 99,
      "metadata": {
        "colab": {
          "base_uri": "https://localhost:8080/"
        },
        "id": "1Ls5_RoedsW6",
        "outputId": "cbbf1673-6ef0-47b3-c054-19ec65b74824"
      },
      "outputs": [
        {
          "output_type": "execute_result",
          "data": {
            "text/plain": [
              "array([[9.000000e+00, 2.109000e+03, 2.300000e+02, 4.676000e+03],\n",
              "       [2.109000e+03, 6.964710e+05, 4.411500e+04, 7.185400e+05],\n",
              "       [2.300000e+02, 4.411500e+04, 7.146000e+03, 1.188030e+05],\n",
              "       [4.676000e+03, 7.185400e+05, 1.188030e+05, 6.359986e+06]])"
            ]
          },
          "metadata": {},
          "execution_count": 99
        }
      ],
      "source": [
        "# Implement the the gram matrix\n",
        "XTX = X.T.dot(X)\n",
        "XTX"
      ]
    },
    {
      "cell_type": "code",
      "execution_count": 100,
      "metadata": {
        "colab": {
          "base_uri": "https://localhost:8080/"
        },
        "id": "QmfWYmVSehNc",
        "outputId": "71ddefc5-155e-4516-f81b-fa9a20d88858"
      },
      "outputs": [
        {
          "output_type": "execute_result",
          "data": {
            "text/plain": [
              "array([[ 3.30686958e+00, -5.39612291e-03, -6.21325581e-02,\n",
              "        -6.61016816e-04],\n",
              "       [-5.39612291e-03,  1.11633857e-05,  8.66973393e-05,\n",
              "         1.08664195e-06],\n",
              "       [-6.21325581e-02,  8.66973393e-05,  1.46189255e-03,\n",
              "         8.57849603e-06],\n",
              "       [-6.61016816e-04,  1.08664195e-06,  8.57849603e-06,\n",
              "         3.60215866e-07]])"
            ]
          },
          "metadata": {},
          "execution_count": 100
        }
      ],
      "source": [
        "# Find the inverse of the matrix\n",
        "XTX_inv = np.linalg.inv(XTX)\n",
        "XTX_inv"
      ]
    },
    {
      "cell_type": "code",
      "execution_count": 101,
      "metadata": {
        "colab": {
          "base_uri": "https://localhost:8080/"
        },
        "id": "1GZJluh4esqB",
        "outputId": "b316a0dc-4b4f-4bdd-c5ed-08ccec843002"
      },
      "outputs": [
        {
          "output_type": "execute_result",
          "data": {
            "text/plain": [
              "array([ 2.58447541e+04, -1.60890647e+01, -1.99472549e+02, -1.22802883e+00])"
            ]
          },
          "metadata": {},
          "execution_count": 101
        }
      ],
      "source": [
        "# Multiply with x transpose and then multiply it with y\n",
        "w_full = XTX_inv.dot(X.T).dot(y)\n",
        "w_full # means it contains all the weights"
      ]
    },
    {
      "cell_type": "code",
      "execution_count": 102,
      "metadata": {
        "colab": {
          "base_uri": "https://localhost:8080/"
        },
        "id": "lYFXUdTIffoM",
        "outputId": "160cf91d-7c1c-4678-8b34-2b267e550c3a"
      },
      "outputs": [
        {
          "output_type": "execute_result",
          "data": {
            "text/plain": [
              "(25844.754055766753, array([ -16.08906468, -199.47254894,   -1.22802883]))"
            ]
          },
          "metadata": {},
          "execution_count": 102
        }
      ],
      "source": [
        "# now we can decompose it:\n",
        "w0 = w_full[0] # this is the biased\n",
        "w  = w_full[1:]\n",
        "w0, w\n",
        "\n",
        "# 25844... is the bias term\n",
        "# array has w1 w2 and w3\n",
        "# we can see the array has negative values\n",
        "# negative values means instead of adding to the price\n",
        "# for positive values means price increases"
      ]
    },
    {
      "cell_type": "code",
      "execution_count": 103,
      "metadata": {
        "id": "8hq2eFWCgeaR"
      },
      "outputs": [],
      "source": [
        "# now put everything in a function\n",
        "\n",
        "# Define the function training linear regression\n",
        "def train_linear_regression(X, y):\n",
        "\n",
        "  # Create a vector with ones to add the array X\n",
        "  ones = np.ones(X.shape[0])\n",
        "\n",
        "  # Stack the vector of ones with the matrix\n",
        "  X = np.column_stack([ones, X])\n",
        "\n",
        "  # Implement the the gram matrix\n",
        "  XTX = X.T.dot(X)\n",
        "\n",
        "  # Find the inverse of the matrix\n",
        "  XTX_inv = np.linalg.inv(XTX)\n",
        "\n",
        "  # Multiply with x transpose and then multiply it with y\n",
        "  w_full = XTX_inv.dot(X.T).dot(y)\n",
        "\n",
        "  # return the result: first element of the tuple is the bias term\n",
        "  # the rest is the weights\n",
        "  return w_full[0], w_full[1:]"
      ]
    },
    {
      "cell_type": "code",
      "execution_count": 104,
      "metadata": {
        "colab": {
          "base_uri": "https://localhost:8080/"
        },
        "id": "ZheWKSYmk0w-",
        "outputId": "e71ff36d-b6d3-44ae-f82d-3539854b8f11"
      },
      "outputs": [
        {
          "output_type": "execute_result",
          "data": {
            "text/plain": [
              "array([[1.000e+00, 1.480e+02, 2.400e+01, 1.385e+03],\n",
              "       [1.000e+00, 1.320e+02, 2.500e+01, 2.031e+03],\n",
              "       [1.000e+00, 4.530e+02, 1.100e+01, 8.600e+01],\n",
              "       [1.000e+00, 1.580e+02, 2.400e+01, 1.850e+02],\n",
              "       [1.000e+00, 1.720e+02, 2.500e+01, 2.010e+02],\n",
              "       [1.000e+00, 4.130e+02, 1.100e+01, 8.600e+01],\n",
              "       [1.000e+00, 3.800e+01, 5.400e+01, 1.850e+02],\n",
              "       [1.000e+00, 1.420e+02, 2.500e+01, 4.310e+02],\n",
              "       [1.000e+00, 4.530e+02, 3.100e+01, 8.600e+01]])"
            ]
          },
          "metadata": {},
          "execution_count": 104
        }
      ],
      "source": [
        "# do it now without the ones\n",
        "X = np.array(X)\n",
        "X"
      ]
    },
    {
      "cell_type": "code",
      "execution_count": 105,
      "metadata": {
        "colab": {
          "base_uri": "https://localhost:8080/"
        },
        "id": "Bwnm08CgE9Og",
        "outputId": "2d1632cf-3280-4819-b298-4118dc56f4e2"
      },
      "outputs": [
        {
          "output_type": "execute_result",
          "data": {
            "text/plain": [
              "array([[ 148,   24, 1385],\n",
              "       [ 132,   25, 2031],\n",
              "       [ 453,   11,   86],\n",
              "       [ 158,   24,  185],\n",
              "       [ 172,   25,  201],\n",
              "       [ 413,   11,   86],\n",
              "       [  38,   54,  185],\n",
              "       [ 142,   25,  431],\n",
              "       [ 453,   31,   86]])"
            ]
          },
          "metadata": {},
          "execution_count": 105
        }
      ],
      "source": [
        "# the X array is problematic because has more columns than rows\n",
        "# and the matrix solution the inverse will not necessarily exist\n",
        "\n",
        "# so we are going to add more data to the array X by creating a list of lists\n",
        "X = [\n",
        "    [148, 24, 1385 ], # note we removed the ones we will add later\n",
        "    [132, 25, 2031],\n",
        "    [453, 11, 86],\n",
        "    [158, 24, 185 ],\n",
        "    [172, 25, 201],\n",
        "    [413, 11, 86],\n",
        "    [38, 54, 185 ], \n",
        "    [142, 25, 431],\n",
        "    [453, 31, 86],\n",
        "]\n",
        "\n",
        "# Convert the X list to numpy matrix\n",
        "X = np.array(X)\n",
        "X"
      ]
    },
    {
      "cell_type": "code",
      "execution_count": 106,
      "metadata": {
        "colab": {
          "base_uri": "https://localhost:8080/"
        },
        "id": "NQbHs5yEkVJF",
        "outputId": "697762a7-95cf-44fc-8baf-f9f10fc3763d"
      },
      "outputs": [
        {
          "output_type": "execute_result",
          "data": {
            "text/plain": [
              "(25844.754055766753, array([ -16.08906468, -199.47254894,   -1.22802883]))"
            ]
          },
          "metadata": {},
          "execution_count": 106
        }
      ],
      "source": [
        "# Test the function training linear regression\n",
        "train_linear_regression(X, y)\n",
        "\n",
        "# to run this code run before find this: \n",
        "# Convert the X list to numpy matrix\n",
        "# X = np.array(X)\n",
        "# X\n",
        "\n",
        "# after running the code we have the same results\n",
        "\n",
        "# after this function we are going to use this for\n",
        "# our problem or for predicting the price of the car"
      ]
    },
    {
      "cell_type": "markdown",
      "metadata": {
        "id": "HdDJL1pdIkzg"
      },
      "source": [
        "###2.8 Car price baseline model"
      ]
    },
    {
      "cell_type": "code",
      "execution_count": 107,
      "metadata": {
        "colab": {
          "base_uri": "https://localhost:8080/",
          "height": 488
        },
        "id": "TGubQmCiI4dX",
        "outputId": "7b2caea7-05a8-4f6f-b1aa-20240df38375"
      },
      "outputs": [
        {
          "output_type": "execute_result",
          "data": {
            "text/plain": [
              "             make        model  year                engine_fuel_type  \\\n",
              "0       chevrolet       cobalt  2008                regular_unleaded   \n",
              "1          toyota       matrix  2012                regular_unleaded   \n",
              "2          subaru      impreza  2016                regular_unleaded   \n",
              "3      volkswagen      vanagon  1991                regular_unleaded   \n",
              "4            ford        f-150  2017        flex-fuel_(unleaded/e85)   \n",
              "...           ...          ...   ...                             ...   \n",
              "7145          bmw     4_series  2015     premium_unleaded_(required)   \n",
              "7146   volkswagen       beetle  2015  premium_unleaded_(recommended)   \n",
              "7147          gmc  sierra_1500  2015        flex-fuel_(unleaded/e85)   \n",
              "7148  rolls-royce        ghost  2014     premium_unleaded_(required)   \n",
              "7149   volkswagen           cc  2017  premium_unleaded_(recommended)   \n",
              "\n",
              "      engine_hp  engine_cylinders transmission_type      driven_wheels  \\\n",
              "0         148.0               4.0            manual  front_wheel_drive   \n",
              "1         132.0               4.0         automatic  front_wheel_drive   \n",
              "2         148.0               4.0         automatic    all_wheel_drive   \n",
              "3          90.0               4.0            manual   rear_wheel_drive   \n",
              "4         385.0               8.0         automatic   four_wheel_drive   \n",
              "...         ...               ...               ...                ...   \n",
              "7145      300.0               6.0         automatic   rear_wheel_drive   \n",
              "7146      210.0               4.0  automated_manual  front_wheel_drive   \n",
              "7147      285.0               6.0         automatic   four_wheel_drive   \n",
              "7148      563.0              12.0         automatic   rear_wheel_drive   \n",
              "7149      200.0               4.0  automated_manual  front_wheel_drive   \n",
              "\n",
              "      number_of_doors            market_category vehicle_size  \\\n",
              "0                 2.0                        NaN      compact   \n",
              "1                 4.0                  hatchback      compact   \n",
              "2                 4.0                  hatchback      compact   \n",
              "3                 3.0                        NaN        large   \n",
              "4                 4.0                  flex_fuel        large   \n",
              "...               ...                        ...          ...   \n",
              "7145              2.0         luxury,performance      midsize   \n",
              "7146              2.0      hatchback,performance      compact   \n",
              "7147              4.0                  flex_fuel        large   \n",
              "7148              4.0  exotic,luxury,performance        large   \n",
              "7149              4.0                performance      midsize   \n",
              "\n",
              "            vehicle_style  highway_mpg  city_mpg  popularity  \n",
              "0                   coupe           33        24        1385  \n",
              "1           4dr_hatchback           32        25        2031  \n",
              "2           4dr_hatchback           37        28         640  \n",
              "3       passenger_minivan           18        16         873  \n",
              "4         crew_cab_pickup           21        15        5657  \n",
              "...                   ...          ...       ...         ...  \n",
              "7145          convertible           31        20        3916  \n",
              "7146        2dr_hatchback           30        24         873  \n",
              "7147  extended_cab_pickup           22        17         549  \n",
              "7148                sedan           21        13          86  \n",
              "7149                sedan           31        22         873  \n",
              "\n",
              "[7150 rows x 15 columns]"
            ],
            "text/html": [
              "\n",
              "  <div id=\"df-3f286ad8-6cee-44a2-b734-0ce96d52b242\">\n",
              "    <div class=\"colab-df-container\">\n",
              "      <div>\n",
              "<style scoped>\n",
              "    .dataframe tbody tr th:only-of-type {\n",
              "        vertical-align: middle;\n",
              "    }\n",
              "\n",
              "    .dataframe tbody tr th {\n",
              "        vertical-align: top;\n",
              "    }\n",
              "\n",
              "    .dataframe thead th {\n",
              "        text-align: right;\n",
              "    }\n",
              "</style>\n",
              "<table border=\"1\" class=\"dataframe\">\n",
              "  <thead>\n",
              "    <tr style=\"text-align: right;\">\n",
              "      <th></th>\n",
              "      <th>make</th>\n",
              "      <th>model</th>\n",
              "      <th>year</th>\n",
              "      <th>engine_fuel_type</th>\n",
              "      <th>engine_hp</th>\n",
              "      <th>engine_cylinders</th>\n",
              "      <th>transmission_type</th>\n",
              "      <th>driven_wheels</th>\n",
              "      <th>number_of_doors</th>\n",
              "      <th>market_category</th>\n",
              "      <th>vehicle_size</th>\n",
              "      <th>vehicle_style</th>\n",
              "      <th>highway_mpg</th>\n",
              "      <th>city_mpg</th>\n",
              "      <th>popularity</th>\n",
              "    </tr>\n",
              "  </thead>\n",
              "  <tbody>\n",
              "    <tr>\n",
              "      <th>0</th>\n",
              "      <td>chevrolet</td>\n",
              "      <td>cobalt</td>\n",
              "      <td>2008</td>\n",
              "      <td>regular_unleaded</td>\n",
              "      <td>148.0</td>\n",
              "      <td>4.0</td>\n",
              "      <td>manual</td>\n",
              "      <td>front_wheel_drive</td>\n",
              "      <td>2.0</td>\n",
              "      <td>NaN</td>\n",
              "      <td>compact</td>\n",
              "      <td>coupe</td>\n",
              "      <td>33</td>\n",
              "      <td>24</td>\n",
              "      <td>1385</td>\n",
              "    </tr>\n",
              "    <tr>\n",
              "      <th>1</th>\n",
              "      <td>toyota</td>\n",
              "      <td>matrix</td>\n",
              "      <td>2012</td>\n",
              "      <td>regular_unleaded</td>\n",
              "      <td>132.0</td>\n",
              "      <td>4.0</td>\n",
              "      <td>automatic</td>\n",
              "      <td>front_wheel_drive</td>\n",
              "      <td>4.0</td>\n",
              "      <td>hatchback</td>\n",
              "      <td>compact</td>\n",
              "      <td>4dr_hatchback</td>\n",
              "      <td>32</td>\n",
              "      <td>25</td>\n",
              "      <td>2031</td>\n",
              "    </tr>\n",
              "    <tr>\n",
              "      <th>2</th>\n",
              "      <td>subaru</td>\n",
              "      <td>impreza</td>\n",
              "      <td>2016</td>\n",
              "      <td>regular_unleaded</td>\n",
              "      <td>148.0</td>\n",
              "      <td>4.0</td>\n",
              "      <td>automatic</td>\n",
              "      <td>all_wheel_drive</td>\n",
              "      <td>4.0</td>\n",
              "      <td>hatchback</td>\n",
              "      <td>compact</td>\n",
              "      <td>4dr_hatchback</td>\n",
              "      <td>37</td>\n",
              "      <td>28</td>\n",
              "      <td>640</td>\n",
              "    </tr>\n",
              "    <tr>\n",
              "      <th>3</th>\n",
              "      <td>volkswagen</td>\n",
              "      <td>vanagon</td>\n",
              "      <td>1991</td>\n",
              "      <td>regular_unleaded</td>\n",
              "      <td>90.0</td>\n",
              "      <td>4.0</td>\n",
              "      <td>manual</td>\n",
              "      <td>rear_wheel_drive</td>\n",
              "      <td>3.0</td>\n",
              "      <td>NaN</td>\n",
              "      <td>large</td>\n",
              "      <td>passenger_minivan</td>\n",
              "      <td>18</td>\n",
              "      <td>16</td>\n",
              "      <td>873</td>\n",
              "    </tr>\n",
              "    <tr>\n",
              "      <th>4</th>\n",
              "      <td>ford</td>\n",
              "      <td>f-150</td>\n",
              "      <td>2017</td>\n",
              "      <td>flex-fuel_(unleaded/e85)</td>\n",
              "      <td>385.0</td>\n",
              "      <td>8.0</td>\n",
              "      <td>automatic</td>\n",
              "      <td>four_wheel_drive</td>\n",
              "      <td>4.0</td>\n",
              "      <td>flex_fuel</td>\n",
              "      <td>large</td>\n",
              "      <td>crew_cab_pickup</td>\n",
              "      <td>21</td>\n",
              "      <td>15</td>\n",
              "      <td>5657</td>\n",
              "    </tr>\n",
              "    <tr>\n",
              "      <th>...</th>\n",
              "      <td>...</td>\n",
              "      <td>...</td>\n",
              "      <td>...</td>\n",
              "      <td>...</td>\n",
              "      <td>...</td>\n",
              "      <td>...</td>\n",
              "      <td>...</td>\n",
              "      <td>...</td>\n",
              "      <td>...</td>\n",
              "      <td>...</td>\n",
              "      <td>...</td>\n",
              "      <td>...</td>\n",
              "      <td>...</td>\n",
              "      <td>...</td>\n",
              "      <td>...</td>\n",
              "    </tr>\n",
              "    <tr>\n",
              "      <th>7145</th>\n",
              "      <td>bmw</td>\n",
              "      <td>4_series</td>\n",
              "      <td>2015</td>\n",
              "      <td>premium_unleaded_(required)</td>\n",
              "      <td>300.0</td>\n",
              "      <td>6.0</td>\n",
              "      <td>automatic</td>\n",
              "      <td>rear_wheel_drive</td>\n",
              "      <td>2.0</td>\n",
              "      <td>luxury,performance</td>\n",
              "      <td>midsize</td>\n",
              "      <td>convertible</td>\n",
              "      <td>31</td>\n",
              "      <td>20</td>\n",
              "      <td>3916</td>\n",
              "    </tr>\n",
              "    <tr>\n",
              "      <th>7146</th>\n",
              "      <td>volkswagen</td>\n",
              "      <td>beetle</td>\n",
              "      <td>2015</td>\n",
              "      <td>premium_unleaded_(recommended)</td>\n",
              "      <td>210.0</td>\n",
              "      <td>4.0</td>\n",
              "      <td>automated_manual</td>\n",
              "      <td>front_wheel_drive</td>\n",
              "      <td>2.0</td>\n",
              "      <td>hatchback,performance</td>\n",
              "      <td>compact</td>\n",
              "      <td>2dr_hatchback</td>\n",
              "      <td>30</td>\n",
              "      <td>24</td>\n",
              "      <td>873</td>\n",
              "    </tr>\n",
              "    <tr>\n",
              "      <th>7147</th>\n",
              "      <td>gmc</td>\n",
              "      <td>sierra_1500</td>\n",
              "      <td>2015</td>\n",
              "      <td>flex-fuel_(unleaded/e85)</td>\n",
              "      <td>285.0</td>\n",
              "      <td>6.0</td>\n",
              "      <td>automatic</td>\n",
              "      <td>four_wheel_drive</td>\n",
              "      <td>4.0</td>\n",
              "      <td>flex_fuel</td>\n",
              "      <td>large</td>\n",
              "      <td>extended_cab_pickup</td>\n",
              "      <td>22</td>\n",
              "      <td>17</td>\n",
              "      <td>549</td>\n",
              "    </tr>\n",
              "    <tr>\n",
              "      <th>7148</th>\n",
              "      <td>rolls-royce</td>\n",
              "      <td>ghost</td>\n",
              "      <td>2014</td>\n",
              "      <td>premium_unleaded_(required)</td>\n",
              "      <td>563.0</td>\n",
              "      <td>12.0</td>\n",
              "      <td>automatic</td>\n",
              "      <td>rear_wheel_drive</td>\n",
              "      <td>4.0</td>\n",
              "      <td>exotic,luxury,performance</td>\n",
              "      <td>large</td>\n",
              "      <td>sedan</td>\n",
              "      <td>21</td>\n",
              "      <td>13</td>\n",
              "      <td>86</td>\n",
              "    </tr>\n",
              "    <tr>\n",
              "      <th>7149</th>\n",
              "      <td>volkswagen</td>\n",
              "      <td>cc</td>\n",
              "      <td>2017</td>\n",
              "      <td>premium_unleaded_(recommended)</td>\n",
              "      <td>200.0</td>\n",
              "      <td>4.0</td>\n",
              "      <td>automated_manual</td>\n",
              "      <td>front_wheel_drive</td>\n",
              "      <td>4.0</td>\n",
              "      <td>performance</td>\n",
              "      <td>midsize</td>\n",
              "      <td>sedan</td>\n",
              "      <td>31</td>\n",
              "      <td>22</td>\n",
              "      <td>873</td>\n",
              "    </tr>\n",
              "  </tbody>\n",
              "</table>\n",
              "<p>7150 rows × 15 columns</p>\n",
              "</div>\n",
              "      <button class=\"colab-df-convert\" onclick=\"convertToInteractive('df-3f286ad8-6cee-44a2-b734-0ce96d52b242')\"\n",
              "              title=\"Convert this dataframe to an interactive table.\"\n",
              "              style=\"display:none;\">\n",
              "        \n",
              "  <svg xmlns=\"http://www.w3.org/2000/svg\" height=\"24px\"viewBox=\"0 0 24 24\"\n",
              "       width=\"24px\">\n",
              "    <path d=\"M0 0h24v24H0V0z\" fill=\"none\"/>\n",
              "    <path d=\"M18.56 5.44l.94 2.06.94-2.06 2.06-.94-2.06-.94-.94-2.06-.94 2.06-2.06.94zm-11 1L8.5 8.5l.94-2.06 2.06-.94-2.06-.94L8.5 2.5l-.94 2.06-2.06.94zm10 10l.94 2.06.94-2.06 2.06-.94-2.06-.94-.94-2.06-.94 2.06-2.06.94z\"/><path d=\"M17.41 7.96l-1.37-1.37c-.4-.4-.92-.59-1.43-.59-.52 0-1.04.2-1.43.59L10.3 9.45l-7.72 7.72c-.78.78-.78 2.05 0 2.83L4 21.41c.39.39.9.59 1.41.59.51 0 1.02-.2 1.41-.59l7.78-7.78 2.81-2.81c.8-.78.8-2.07 0-2.86zM5.41 20L4 18.59l7.72-7.72 1.47 1.35L5.41 20z\"/>\n",
              "  </svg>\n",
              "      </button>\n",
              "      \n",
              "  <style>\n",
              "    .colab-df-container {\n",
              "      display:flex;\n",
              "      flex-wrap:wrap;\n",
              "      gap: 12px;\n",
              "    }\n",
              "\n",
              "    .colab-df-convert {\n",
              "      background-color: #E8F0FE;\n",
              "      border: none;\n",
              "      border-radius: 50%;\n",
              "      cursor: pointer;\n",
              "      display: none;\n",
              "      fill: #1967D2;\n",
              "      height: 32px;\n",
              "      padding: 0 0 0 0;\n",
              "      width: 32px;\n",
              "    }\n",
              "\n",
              "    .colab-df-convert:hover {\n",
              "      background-color: #E2EBFA;\n",
              "      box-shadow: 0px 1px 2px rgba(60, 64, 67, 0.3), 0px 1px 3px 1px rgba(60, 64, 67, 0.15);\n",
              "      fill: #174EA6;\n",
              "    }\n",
              "\n",
              "    [theme=dark] .colab-df-convert {\n",
              "      background-color: #3B4455;\n",
              "      fill: #D2E3FC;\n",
              "    }\n",
              "\n",
              "    [theme=dark] .colab-df-convert:hover {\n",
              "      background-color: #434B5C;\n",
              "      box-shadow: 0px 1px 3px 1px rgba(0, 0, 0, 0.15);\n",
              "      filter: drop-shadow(0px 1px 2px rgba(0, 0, 0, 0.3));\n",
              "      fill: #FFFFFF;\n",
              "    }\n",
              "  </style>\n",
              "\n",
              "      <script>\n",
              "        const buttonEl =\n",
              "          document.querySelector('#df-3f286ad8-6cee-44a2-b734-0ce96d52b242 button.colab-df-convert');\n",
              "        buttonEl.style.display =\n",
              "          google.colab.kernel.accessAllowed ? 'block' : 'none';\n",
              "\n",
              "        async function convertToInteractive(key) {\n",
              "          const element = document.querySelector('#df-3f286ad8-6cee-44a2-b734-0ce96d52b242');\n",
              "          const dataTable =\n",
              "            await google.colab.kernel.invokeFunction('convertToInteractive',\n",
              "                                                     [key], {});\n",
              "          if (!dataTable) return;\n",
              "\n",
              "          const docLinkHtml = 'Like what you see? Visit the ' +\n",
              "            '<a target=\"_blank\" href=https://colab.research.google.com/notebooks/data_table.ipynb>data table notebook</a>'\n",
              "            + ' to learn more about interactive tables.';\n",
              "          element.innerHTML = '';\n",
              "          dataTable['output_type'] = 'display_data';\n",
              "          await google.colab.output.renderOutput(dataTable, element);\n",
              "          const docLink = document.createElement('div');\n",
              "          docLink.innerHTML = docLinkHtml;\n",
              "          element.appendChild(docLink);\n",
              "        }\n",
              "      </script>\n",
              "    </div>\n",
              "  </div>\n",
              "  "
            ]
          },
          "metadata": {},
          "execution_count": 107
        }
      ],
      "source": [
        "# Print the training dataframe\n",
        "df_train"
      ]
    },
    {
      "cell_type": "code",
      "execution_count": 108,
      "metadata": {
        "colab": {
          "base_uri": "https://localhost:8080/"
        },
        "id": "E0FuoNbTZ2uM",
        "outputId": "8f616f5f-381b-4353-f179-e6eef4febfcb"
      },
      "outputs": [
        {
          "output_type": "execute_result",
          "data": {
            "text/plain": [
              "make                  object\n",
              "model                 object\n",
              "year                   int64\n",
              "engine_fuel_type      object\n",
              "engine_hp            float64\n",
              "engine_cylinders     float64\n",
              "transmission_type     object\n",
              "driven_wheels         object\n",
              "number_of_doors      float64\n",
              "market_category       object\n",
              "vehicle_size          object\n",
              "vehicle_style         object\n",
              "highway_mpg            int64\n",
              "city_mpg               int64\n",
              "popularity             int64\n",
              "dtype: object"
            ]
          },
          "metadata": {},
          "execution_count": 108
        }
      ],
      "source": [
        "# Extract all the numerical columns from the training dataframe\n",
        "df_train.dtypes"
      ]
    },
    {
      "cell_type": "code",
      "execution_count": 109,
      "metadata": {
        "colab": {
          "base_uri": "https://localhost:8080/"
        },
        "id": "JzcSA4oLbDWt",
        "outputId": "47f31226-b13a-4eba-bf5e-b55d0806df2e"
      },
      "outputs": [
        {
          "output_type": "execute_result",
          "data": {
            "text/plain": [
              "Index(['make', 'model', 'year', 'engine_fuel_type', 'engine_hp',\n",
              "       'engine_cylinders', 'transmission_type', 'driven_wheels',\n",
              "       'number_of_doors', 'market_category', 'vehicle_size', 'vehicle_style',\n",
              "       'highway_mpg', 'city_mpg', 'popularity'],\n",
              "      dtype='object')"
            ]
          },
          "metadata": {},
          "execution_count": 109
        }
      ],
      "source": [
        "# Print all the column names of the training dataframe\n",
        "df_train.columns"
      ]
    },
    {
      "cell_type": "code",
      "execution_count": 110,
      "metadata": {
        "colab": {
          "base_uri": "https://localhost:8080/"
        },
        "id": "5ndT1-FlbOju",
        "outputId": "84d1853f-c8b2-44df-b484-78822f708268"
      },
      "outputs": [
        {
          "output_type": "execute_result",
          "data": {
            "text/plain": [
              "['engine_hp', 'engine_cylinders', 'highway_mpg', 'city_mpg', 'popularity']"
            ]
          },
          "metadata": {},
          "execution_count": 110
        }
      ],
      "source": [
        "# Create base list with 5 numerical columns\n",
        "base = ['engine_hp', 'engine_cylinders', 'highway_mpg', 'city_mpg', 'popularity']\n",
        "base"
      ]
    },
    {
      "cell_type": "code",
      "execution_count": 111,
      "metadata": {
        "colab": {
          "base_uri": "https://localhost:8080/",
          "height": 424
        },
        "id": "D0-Ls63WcJDB",
        "outputId": "b26ddb80-65cb-4f20-c197-43e00239792b"
      },
      "outputs": [
        {
          "output_type": "execute_result",
          "data": {
            "text/plain": [
              "      engine_hp  engine_cylinders  highway_mpg  city_mpg  popularity\n",
              "0         148.0               4.0           33        24        1385\n",
              "1         132.0               4.0           32        25        2031\n",
              "2         148.0               4.0           37        28         640\n",
              "3          90.0               4.0           18        16         873\n",
              "4         385.0               8.0           21        15        5657\n",
              "...         ...               ...          ...       ...         ...\n",
              "7145      300.0               6.0           31        20        3916\n",
              "7146      210.0               4.0           30        24         873\n",
              "7147      285.0               6.0           22        17         549\n",
              "7148      563.0              12.0           21        13          86\n",
              "7149      200.0               4.0           31        22         873\n",
              "\n",
              "[7150 rows x 5 columns]"
            ],
            "text/html": [
              "\n",
              "  <div id=\"df-778106be-d24d-47cb-85da-5f8562144bb8\">\n",
              "    <div class=\"colab-df-container\">\n",
              "      <div>\n",
              "<style scoped>\n",
              "    .dataframe tbody tr th:only-of-type {\n",
              "        vertical-align: middle;\n",
              "    }\n",
              "\n",
              "    .dataframe tbody tr th {\n",
              "        vertical-align: top;\n",
              "    }\n",
              "\n",
              "    .dataframe thead th {\n",
              "        text-align: right;\n",
              "    }\n",
              "</style>\n",
              "<table border=\"1\" class=\"dataframe\">\n",
              "  <thead>\n",
              "    <tr style=\"text-align: right;\">\n",
              "      <th></th>\n",
              "      <th>engine_hp</th>\n",
              "      <th>engine_cylinders</th>\n",
              "      <th>highway_mpg</th>\n",
              "      <th>city_mpg</th>\n",
              "      <th>popularity</th>\n",
              "    </tr>\n",
              "  </thead>\n",
              "  <tbody>\n",
              "    <tr>\n",
              "      <th>0</th>\n",
              "      <td>148.0</td>\n",
              "      <td>4.0</td>\n",
              "      <td>33</td>\n",
              "      <td>24</td>\n",
              "      <td>1385</td>\n",
              "    </tr>\n",
              "    <tr>\n",
              "      <th>1</th>\n",
              "      <td>132.0</td>\n",
              "      <td>4.0</td>\n",
              "      <td>32</td>\n",
              "      <td>25</td>\n",
              "      <td>2031</td>\n",
              "    </tr>\n",
              "    <tr>\n",
              "      <th>2</th>\n",
              "      <td>148.0</td>\n",
              "      <td>4.0</td>\n",
              "      <td>37</td>\n",
              "      <td>28</td>\n",
              "      <td>640</td>\n",
              "    </tr>\n",
              "    <tr>\n",
              "      <th>3</th>\n",
              "      <td>90.0</td>\n",
              "      <td>4.0</td>\n",
              "      <td>18</td>\n",
              "      <td>16</td>\n",
              "      <td>873</td>\n",
              "    </tr>\n",
              "    <tr>\n",
              "      <th>4</th>\n",
              "      <td>385.0</td>\n",
              "      <td>8.0</td>\n",
              "      <td>21</td>\n",
              "      <td>15</td>\n",
              "      <td>5657</td>\n",
              "    </tr>\n",
              "    <tr>\n",
              "      <th>...</th>\n",
              "      <td>...</td>\n",
              "      <td>...</td>\n",
              "      <td>...</td>\n",
              "      <td>...</td>\n",
              "      <td>...</td>\n",
              "    </tr>\n",
              "    <tr>\n",
              "      <th>7145</th>\n",
              "      <td>300.0</td>\n",
              "      <td>6.0</td>\n",
              "      <td>31</td>\n",
              "      <td>20</td>\n",
              "      <td>3916</td>\n",
              "    </tr>\n",
              "    <tr>\n",
              "      <th>7146</th>\n",
              "      <td>210.0</td>\n",
              "      <td>4.0</td>\n",
              "      <td>30</td>\n",
              "      <td>24</td>\n",
              "      <td>873</td>\n",
              "    </tr>\n",
              "    <tr>\n",
              "      <th>7147</th>\n",
              "      <td>285.0</td>\n",
              "      <td>6.0</td>\n",
              "      <td>22</td>\n",
              "      <td>17</td>\n",
              "      <td>549</td>\n",
              "    </tr>\n",
              "    <tr>\n",
              "      <th>7148</th>\n",
              "      <td>563.0</td>\n",
              "      <td>12.0</td>\n",
              "      <td>21</td>\n",
              "      <td>13</td>\n",
              "      <td>86</td>\n",
              "    </tr>\n",
              "    <tr>\n",
              "      <th>7149</th>\n",
              "      <td>200.0</td>\n",
              "      <td>4.0</td>\n",
              "      <td>31</td>\n",
              "      <td>22</td>\n",
              "      <td>873</td>\n",
              "    </tr>\n",
              "  </tbody>\n",
              "</table>\n",
              "<p>7150 rows × 5 columns</p>\n",
              "</div>\n",
              "      <button class=\"colab-df-convert\" onclick=\"convertToInteractive('df-778106be-d24d-47cb-85da-5f8562144bb8')\"\n",
              "              title=\"Convert this dataframe to an interactive table.\"\n",
              "              style=\"display:none;\">\n",
              "        \n",
              "  <svg xmlns=\"http://www.w3.org/2000/svg\" height=\"24px\"viewBox=\"0 0 24 24\"\n",
              "       width=\"24px\">\n",
              "    <path d=\"M0 0h24v24H0V0z\" fill=\"none\"/>\n",
              "    <path d=\"M18.56 5.44l.94 2.06.94-2.06 2.06-.94-2.06-.94-.94-2.06-.94 2.06-2.06.94zm-11 1L8.5 8.5l.94-2.06 2.06-.94-2.06-.94L8.5 2.5l-.94 2.06-2.06.94zm10 10l.94 2.06.94-2.06 2.06-.94-2.06-.94-.94-2.06-.94 2.06-2.06.94z\"/><path d=\"M17.41 7.96l-1.37-1.37c-.4-.4-.92-.59-1.43-.59-.52 0-1.04.2-1.43.59L10.3 9.45l-7.72 7.72c-.78.78-.78 2.05 0 2.83L4 21.41c.39.39.9.59 1.41.59.51 0 1.02-.2 1.41-.59l7.78-7.78 2.81-2.81c.8-.78.8-2.07 0-2.86zM5.41 20L4 18.59l7.72-7.72 1.47 1.35L5.41 20z\"/>\n",
              "  </svg>\n",
              "      </button>\n",
              "      \n",
              "  <style>\n",
              "    .colab-df-container {\n",
              "      display:flex;\n",
              "      flex-wrap:wrap;\n",
              "      gap: 12px;\n",
              "    }\n",
              "\n",
              "    .colab-df-convert {\n",
              "      background-color: #E8F0FE;\n",
              "      border: none;\n",
              "      border-radius: 50%;\n",
              "      cursor: pointer;\n",
              "      display: none;\n",
              "      fill: #1967D2;\n",
              "      height: 32px;\n",
              "      padding: 0 0 0 0;\n",
              "      width: 32px;\n",
              "    }\n",
              "\n",
              "    .colab-df-convert:hover {\n",
              "      background-color: #E2EBFA;\n",
              "      box-shadow: 0px 1px 2px rgba(60, 64, 67, 0.3), 0px 1px 3px 1px rgba(60, 64, 67, 0.15);\n",
              "      fill: #174EA6;\n",
              "    }\n",
              "\n",
              "    [theme=dark] .colab-df-convert {\n",
              "      background-color: #3B4455;\n",
              "      fill: #D2E3FC;\n",
              "    }\n",
              "\n",
              "    [theme=dark] .colab-df-convert:hover {\n",
              "      background-color: #434B5C;\n",
              "      box-shadow: 0px 1px 3px 1px rgba(0, 0, 0, 0.15);\n",
              "      filter: drop-shadow(0px 1px 2px rgba(0, 0, 0, 0.3));\n",
              "      fill: #FFFFFF;\n",
              "    }\n",
              "  </style>\n",
              "\n",
              "      <script>\n",
              "        const buttonEl =\n",
              "          document.querySelector('#df-778106be-d24d-47cb-85da-5f8562144bb8 button.colab-df-convert');\n",
              "        buttonEl.style.display =\n",
              "          google.colab.kernel.accessAllowed ? 'block' : 'none';\n",
              "\n",
              "        async function convertToInteractive(key) {\n",
              "          const element = document.querySelector('#df-778106be-d24d-47cb-85da-5f8562144bb8');\n",
              "          const dataTable =\n",
              "            await google.colab.kernel.invokeFunction('convertToInteractive',\n",
              "                                                     [key], {});\n",
              "          if (!dataTable) return;\n",
              "\n",
              "          const docLinkHtml = 'Like what you see? Visit the ' +\n",
              "            '<a target=\"_blank\" href=https://colab.research.google.com/notebooks/data_table.ipynb>data table notebook</a>'\n",
              "            + ' to learn more about interactive tables.';\n",
              "          element.innerHTML = '';\n",
              "          dataTable['output_type'] = 'display_data';\n",
              "          await google.colab.output.renderOutput(dataTable, element);\n",
              "          const docLink = document.createElement('div');\n",
              "          docLink.innerHTML = docLinkHtml;\n",
              "          element.appendChild(docLink);\n",
              "        }\n",
              "      </script>\n",
              "    </div>\n",
              "  </div>\n",
              "  "
            ]
          },
          "metadata": {},
          "execution_count": 111
        }
      ],
      "source": [
        "# Get a sub-set of columns from the training dataframe\n",
        "# base means basic features\n",
        "df_train[base]"
      ]
    },
    {
      "cell_type": "code",
      "execution_count": 112,
      "metadata": {
        "colab": {
          "base_uri": "https://localhost:8080/"
        },
        "id": "laAU_GlsceXK",
        "outputId": "6d3b0d36-efeb-4d0b-d667-cb1faa6fb8a2"
      },
      "outputs": [
        {
          "output_type": "execute_result",
          "data": {
            "text/plain": [
              "array([[ 148.,    4.,   33.,   24., 1385.],\n",
              "       [ 132.,    4.,   32.,   25., 2031.],\n",
              "       [ 148.,    4.,   37.,   28.,  640.],\n",
              "       ...,\n",
              "       [ 285.,    6.,   22.,   17.,  549.],\n",
              "       [ 563.,   12.,   21.,   13.,   86.],\n",
              "       [ 200.,    4.,   31.,   22.,  873.]])"
            ]
          },
          "metadata": {},
          "execution_count": 112
        }
      ],
      "source": [
        "# Extract values from the base list created and store it\n",
        "X_train = df_train[base].values\n",
        "X_train"
      ]
    },
    {
      "cell_type": "code",
      "execution_count": 113,
      "metadata": {
        "colab": {
          "base_uri": "https://localhost:8080/"
        },
        "id": "1pa025midWgE",
        "outputId": "41802bf1-f3a8-430f-f624-b54d7dccfab4"
      },
      "outputs": [
        {
          "output_type": "execute_result",
          "data": {
            "text/plain": [
              "array([ 9.57574708,  9.887663  ,  9.89323518, ..., 10.45380308,\n",
              "       12.62248099, 10.54061978])"
            ]
          },
          "metadata": {},
          "execution_count": 113
        }
      ],
      "source": [
        "# Print the y values of the training dataframe\n",
        "y_train"
      ]
    },
    {
      "cell_type": "code",
      "execution_count": 114,
      "metadata": {
        "colab": {
          "base_uri": "https://localhost:8080/"
        },
        "id": "qXi1nYuAdvg3",
        "outputId": "dadb8ce0-8009-4aed-bf6c-ea6dd1f3b12a"
      },
      "outputs": [
        {
          "output_type": "execute_result",
          "data": {
            "text/plain": [
              "(nan, array([nan, nan, nan, nan, nan]))"
            ]
          },
          "metadata": {},
          "execution_count": 114
        }
      ],
      "source": [
        "# now we want to train a model so we use the function train linear regression\n",
        "train_linear_regression(X_train, y_train)\n",
        "\n",
        "# we have a problem here, we have this NANs\n",
        "# the reason we have this is because we have missing values\n"
      ]
    },
    {
      "cell_type": "code",
      "execution_count": 115,
      "metadata": {
        "colab": {
          "base_uri": "https://localhost:8080/"
        },
        "id": "bPPVuTQEeX-A",
        "outputId": "c62d81bf-861a-4509-b001-f00ffddb58af"
      },
      "outputs": [
        {
          "output_type": "execute_result",
          "data": {
            "text/plain": [
              "engine_hp           40\n",
              "engine_cylinders    14\n",
              "highway_mpg          0\n",
              "city_mpg             0\n",
              "popularity           0\n",
              "dtype: int64"
            ]
          },
          "metadata": {},
          "execution_count": 115
        }
      ],
      "source": [
        "# Check the missing values of the training datafrane\n",
        "df_train[base].isnull().sum()\n",
        "\n",
        "# missing values are the engine_hp and engine_cylinders"
      ]
    },
    {
      "cell_type": "code",
      "execution_count": 116,
      "metadata": {
        "colab": {
          "base_uri": "https://localhost:8080/",
          "height": 424
        },
        "id": "z-9BW99ZfI2x",
        "outputId": "81652c94-3305-40c4-8887-af1ffa94ca55"
      },
      "outputs": [
        {
          "output_type": "execute_result",
          "data": {
            "text/plain": [
              "      engine_hp  engine_cylinders  highway_mpg  city_mpg  popularity\n",
              "0         148.0               4.0           33        24        1385\n",
              "1         132.0               4.0           32        25        2031\n",
              "2         148.0               4.0           37        28         640\n",
              "3          90.0               4.0           18        16         873\n",
              "4         385.0               8.0           21        15        5657\n",
              "...         ...               ...          ...       ...         ...\n",
              "7145      300.0               6.0           31        20        3916\n",
              "7146      210.0               4.0           30        24         873\n",
              "7147      285.0               6.0           22        17         549\n",
              "7148      563.0              12.0           21        13          86\n",
              "7149      200.0               4.0           31        22         873\n",
              "\n",
              "[7150 rows x 5 columns]"
            ],
            "text/html": [
              "\n",
              "  <div id=\"df-295f8232-7f5d-4149-b5ce-432143bcbe3e\">\n",
              "    <div class=\"colab-df-container\">\n",
              "      <div>\n",
              "<style scoped>\n",
              "    .dataframe tbody tr th:only-of-type {\n",
              "        vertical-align: middle;\n",
              "    }\n",
              "\n",
              "    .dataframe tbody tr th {\n",
              "        vertical-align: top;\n",
              "    }\n",
              "\n",
              "    .dataframe thead th {\n",
              "        text-align: right;\n",
              "    }\n",
              "</style>\n",
              "<table border=\"1\" class=\"dataframe\">\n",
              "  <thead>\n",
              "    <tr style=\"text-align: right;\">\n",
              "      <th></th>\n",
              "      <th>engine_hp</th>\n",
              "      <th>engine_cylinders</th>\n",
              "      <th>highway_mpg</th>\n",
              "      <th>city_mpg</th>\n",
              "      <th>popularity</th>\n",
              "    </tr>\n",
              "  </thead>\n",
              "  <tbody>\n",
              "    <tr>\n",
              "      <th>0</th>\n",
              "      <td>148.0</td>\n",
              "      <td>4.0</td>\n",
              "      <td>33</td>\n",
              "      <td>24</td>\n",
              "      <td>1385</td>\n",
              "    </tr>\n",
              "    <tr>\n",
              "      <th>1</th>\n",
              "      <td>132.0</td>\n",
              "      <td>4.0</td>\n",
              "      <td>32</td>\n",
              "      <td>25</td>\n",
              "      <td>2031</td>\n",
              "    </tr>\n",
              "    <tr>\n",
              "      <th>2</th>\n",
              "      <td>148.0</td>\n",
              "      <td>4.0</td>\n",
              "      <td>37</td>\n",
              "      <td>28</td>\n",
              "      <td>640</td>\n",
              "    </tr>\n",
              "    <tr>\n",
              "      <th>3</th>\n",
              "      <td>90.0</td>\n",
              "      <td>4.0</td>\n",
              "      <td>18</td>\n",
              "      <td>16</td>\n",
              "      <td>873</td>\n",
              "    </tr>\n",
              "    <tr>\n",
              "      <th>4</th>\n",
              "      <td>385.0</td>\n",
              "      <td>8.0</td>\n",
              "      <td>21</td>\n",
              "      <td>15</td>\n",
              "      <td>5657</td>\n",
              "    </tr>\n",
              "    <tr>\n",
              "      <th>...</th>\n",
              "      <td>...</td>\n",
              "      <td>...</td>\n",
              "      <td>...</td>\n",
              "      <td>...</td>\n",
              "      <td>...</td>\n",
              "    </tr>\n",
              "    <tr>\n",
              "      <th>7145</th>\n",
              "      <td>300.0</td>\n",
              "      <td>6.0</td>\n",
              "      <td>31</td>\n",
              "      <td>20</td>\n",
              "      <td>3916</td>\n",
              "    </tr>\n",
              "    <tr>\n",
              "      <th>7146</th>\n",
              "      <td>210.0</td>\n",
              "      <td>4.0</td>\n",
              "      <td>30</td>\n",
              "      <td>24</td>\n",
              "      <td>873</td>\n",
              "    </tr>\n",
              "    <tr>\n",
              "      <th>7147</th>\n",
              "      <td>285.0</td>\n",
              "      <td>6.0</td>\n",
              "      <td>22</td>\n",
              "      <td>17</td>\n",
              "      <td>549</td>\n",
              "    </tr>\n",
              "    <tr>\n",
              "      <th>7148</th>\n",
              "      <td>563.0</td>\n",
              "      <td>12.0</td>\n",
              "      <td>21</td>\n",
              "      <td>13</td>\n",
              "      <td>86</td>\n",
              "    </tr>\n",
              "    <tr>\n",
              "      <th>7149</th>\n",
              "      <td>200.0</td>\n",
              "      <td>4.0</td>\n",
              "      <td>31</td>\n",
              "      <td>22</td>\n",
              "      <td>873</td>\n",
              "    </tr>\n",
              "  </tbody>\n",
              "</table>\n",
              "<p>7150 rows × 5 columns</p>\n",
              "</div>\n",
              "      <button class=\"colab-df-convert\" onclick=\"convertToInteractive('df-295f8232-7f5d-4149-b5ce-432143bcbe3e')\"\n",
              "              title=\"Convert this dataframe to an interactive table.\"\n",
              "              style=\"display:none;\">\n",
              "        \n",
              "  <svg xmlns=\"http://www.w3.org/2000/svg\" height=\"24px\"viewBox=\"0 0 24 24\"\n",
              "       width=\"24px\">\n",
              "    <path d=\"M0 0h24v24H0V0z\" fill=\"none\"/>\n",
              "    <path d=\"M18.56 5.44l.94 2.06.94-2.06 2.06-.94-2.06-.94-.94-2.06-.94 2.06-2.06.94zm-11 1L8.5 8.5l.94-2.06 2.06-.94-2.06-.94L8.5 2.5l-.94 2.06-2.06.94zm10 10l.94 2.06.94-2.06 2.06-.94-2.06-.94-.94-2.06-.94 2.06-2.06.94z\"/><path d=\"M17.41 7.96l-1.37-1.37c-.4-.4-.92-.59-1.43-.59-.52 0-1.04.2-1.43.59L10.3 9.45l-7.72 7.72c-.78.78-.78 2.05 0 2.83L4 21.41c.39.39.9.59 1.41.59.51 0 1.02-.2 1.41-.59l7.78-7.78 2.81-2.81c.8-.78.8-2.07 0-2.86zM5.41 20L4 18.59l7.72-7.72 1.47 1.35L5.41 20z\"/>\n",
              "  </svg>\n",
              "      </button>\n",
              "      \n",
              "  <style>\n",
              "    .colab-df-container {\n",
              "      display:flex;\n",
              "      flex-wrap:wrap;\n",
              "      gap: 12px;\n",
              "    }\n",
              "\n",
              "    .colab-df-convert {\n",
              "      background-color: #E8F0FE;\n",
              "      border: none;\n",
              "      border-radius: 50%;\n",
              "      cursor: pointer;\n",
              "      display: none;\n",
              "      fill: #1967D2;\n",
              "      height: 32px;\n",
              "      padding: 0 0 0 0;\n",
              "      width: 32px;\n",
              "    }\n",
              "\n",
              "    .colab-df-convert:hover {\n",
              "      background-color: #E2EBFA;\n",
              "      box-shadow: 0px 1px 2px rgba(60, 64, 67, 0.3), 0px 1px 3px 1px rgba(60, 64, 67, 0.15);\n",
              "      fill: #174EA6;\n",
              "    }\n",
              "\n",
              "    [theme=dark] .colab-df-convert {\n",
              "      background-color: #3B4455;\n",
              "      fill: #D2E3FC;\n",
              "    }\n",
              "\n",
              "    [theme=dark] .colab-df-convert:hover {\n",
              "      background-color: #434B5C;\n",
              "      box-shadow: 0px 1px 3px 1px rgba(0, 0, 0, 0.15);\n",
              "      filter: drop-shadow(0px 1px 2px rgba(0, 0, 0, 0.3));\n",
              "      fill: #FFFFFF;\n",
              "    }\n",
              "  </style>\n",
              "\n",
              "      <script>\n",
              "        const buttonEl =\n",
              "          document.querySelector('#df-295f8232-7f5d-4149-b5ce-432143bcbe3e button.colab-df-convert');\n",
              "        buttonEl.style.display =\n",
              "          google.colab.kernel.accessAllowed ? 'block' : 'none';\n",
              "\n",
              "        async function convertToInteractive(key) {\n",
              "          const element = document.querySelector('#df-295f8232-7f5d-4149-b5ce-432143bcbe3e');\n",
              "          const dataTable =\n",
              "            await google.colab.kernel.invokeFunction('convertToInteractive',\n",
              "                                                     [key], {});\n",
              "          if (!dataTable) return;\n",
              "\n",
              "          const docLinkHtml = 'Like what you see? Visit the ' +\n",
              "            '<a target=\"_blank\" href=https://colab.research.google.com/notebooks/data_table.ipynb>data table notebook</a>'\n",
              "            + ' to learn more about interactive tables.';\n",
              "          element.innerHTML = '';\n",
              "          dataTable['output_type'] = 'display_data';\n",
              "          await google.colab.output.renderOutput(dataTable, element);\n",
              "          const docLink = document.createElement('div');\n",
              "          docLink.innerHTML = docLinkHtml;\n",
              "          element.appendChild(docLink);\n",
              "        }\n",
              "      </script>\n",
              "    </div>\n",
              "  </div>\n",
              "  "
            ]
          },
          "metadata": {},
          "execution_count": 116
        }
      ],
      "source": [
        "# so we need to do something with the missing values\n",
        "# the easy way is to fill them with zero\n",
        "\n",
        "# Fill the missing values in the training dataframe with zeros\n",
        "df_train[base].fillna(0)\n",
        "\n",
        "# filling missing values with zero it will make the model ignore these features"
      ]
    },
    {
      "cell_type": "code",
      "execution_count": 117,
      "metadata": {
        "colab": {
          "base_uri": "https://localhost:8080/"
        },
        "id": "N3RpEBodf2Il",
        "outputId": "28434f82-3f42-45bd-efcd-98e5c8677d51"
      },
      "outputs": [
        {
          "output_type": "execute_result",
          "data": {
            "text/plain": [
              "engine_hp           0\n",
              "engine_cylinders    0\n",
              "highway_mpg         0\n",
              "city_mpg            0\n",
              "popularity          0\n",
              "dtype: int64"
            ]
          },
          "metadata": {},
          "execution_count": 117
        }
      ],
      "source": [
        "# Check we have missing values in the training dataframe\n",
        "df_train[base].fillna(0).isnull().sum()"
      ]
    },
    {
      "cell_type": "code",
      "execution_count": 118,
      "metadata": {
        "colab": {
          "base_uri": "https://localhost:8080/"
        },
        "id": "4Ez439ULDsEZ",
        "outputId": "0efb6d81-8509-4345-d009-6ebb840add58"
      },
      "outputs": [
        {
          "output_type": "execute_result",
          "data": {
            "text/plain": [
              "array([[ 148.,    4.,   33.,   24., 1385.],\n",
              "       [ 132.,    4.,   32.,   25., 2031.],\n",
              "       [ 148.,    4.,   37.,   28.,  640.],\n",
              "       ...,\n",
              "       [ 285.,    6.,   22.,   17.,  549.],\n",
              "       [ 563.,   12.,   21.,   13.,   86.],\n",
              "       [ 200.,    4.,   31.,   22.,  873.]])"
            ]
          },
          "metadata": {},
          "execution_count": 118
        }
      ],
      "source": [
        "# Fill the missing values in the training dataframe with zeros\n",
        "X_train = df_train[base].fillna(0).values\n",
        "X_train"
      ]
    },
    {
      "cell_type": "code",
      "execution_count": 119,
      "metadata": {
        "colab": {
          "base_uri": "https://localhost:8080/"
        },
        "id": "RMH3HTYyH7m_",
        "outputId": "800b89df-5941-4d03-ebf4-14f40dc51230"
      },
      "outputs": [
        {
          "output_type": "execute_result",
          "data": {
            "text/plain": [
              "(7.927257388069986,\n",
              " array([ 9.70589522e-03, -1.59103494e-01,  1.43792133e-02,  1.49441072e-02,\n",
              "        -9.06908672e-06]))"
            ]
          },
          "metadata": {},
          "execution_count": 119
        }
      ],
      "source": [
        "# Call the function train linear regression after replaced the missing values\n",
        "train_linear_regression(X_train, y_train)"
      ]
    },
    {
      "cell_type": "code",
      "execution_count": 120,
      "metadata": {
        "id": "exR6JL25ICW7"
      },
      "outputs": [],
      "source": [
        "# Store the result of the function train linear regression with our bias term\n",
        "w0, w = train_linear_regression(X_train, y_train)"
      ]
    },
    {
      "cell_type": "code",
      "execution_count": 121,
      "metadata": {
        "colab": {
          "base_uri": "https://localhost:8080/"
        },
        "id": "7_5Rl0vKpVqM",
        "outputId": "59adad3e-a0b0-4816-df13-41d52ae11d5d"
      },
      "outputs": [
        {
          "output_type": "execute_result",
          "data": {
            "text/plain": [
              "array([ 9.54792783,  9.38733977,  9.67197758, ..., 10.30423015,\n",
              "       11.9778914 ,  9.99863111])"
            ]
          },
          "metadata": {},
          "execution_count": 121
        }
      ],
      "source": [
        "# now we can use these weights to make predictions\n",
        "y_pred = w0 + X_train.dot(w)\n",
        "y_pred"
      ]
    },
    {
      "cell_type": "code",
      "execution_count": 122,
      "metadata": {
        "colab": {
          "base_uri": "https://localhost:8080/",
          "height": 284
        },
        "id": "MT9s6iJtpqad",
        "outputId": "5c5593ac-e723-4d56-ee0e-5be0ac0a8a6f"
      },
      "outputs": [
        {
          "output_type": "execute_result",
          "data": {
            "text/plain": [
              "<matplotlib.axes._subplots.AxesSubplot at 0x7fa788a08590>"
            ]
          },
          "metadata": {},
          "execution_count": 122
        },
        {
          "output_type": "display_data",
          "data": {
            "text/plain": [
              "<Figure size 432x288 with 1 Axes>"
            ],
            "image/png": "[encoded data removed]"
          },
          "metadata": {
            "needs_background": "light"
          }
        }
      ],
      "source": [
        "# Plot the predictions to see if they look similar to the original \n",
        "# to the target variable that we want to predict\n",
        "\n",
        "# Plot the predictions and the training dataframe\n",
        "sns.histplot(y_pred)\n",
        "sns.histplot(y_train)\n",
        "\n",
        "# we can observe that they have the same colors \n",
        "# so we need to change it a little bit the color"
      ]
    },
    {
      "cell_type": "code",
      "execution_count": 123,
      "metadata": {
        "colab": {
          "base_uri": "https://localhost:8080/",
          "height": 284
        },
        "id": "IzjaaZfVqxHt",
        "outputId": "a83cd3ae-4360-46cd-f005-6ef796e9c9c1"
      },
      "outputs": [
        {
          "output_type": "execute_result",
          "data": {
            "text/plain": [
              "<matplotlib.axes._subplots.AxesSubplot at 0x7fa7888c6250>"
            ]
          },
          "metadata": {},
          "execution_count": 123
        },
        {
          "output_type": "display_data",
          "data": {
            "text/plain": [
              "<Figure size 432x288 with 1 Axes>"
            ],
            "image/png": "[encoded data removed]"
          },
          "metadata": {
            "needs_background": "light"
          }
        }
      ],
      "source": [
        "# Plot the predictions and the training dataframe now with colors\n",
        "sns.histplot(y_pred, color='red')\n",
        "sns.histplot(y_train, color='blue')"
      ]
    },
    {
      "cell_type": "code",
      "execution_count": 124,
      "metadata": {
        "colab": {
          "base_uri": "https://localhost:8080/",
          "height": 284
        },
        "id": "IcodtUzUr-qL",
        "outputId": "966142f4-e13f-4d59-81b1-d5414aceeeca"
      },
      "outputs": [
        {
          "output_type": "execute_result",
          "data": {
            "text/plain": [
              "<matplotlib.axes._subplots.AxesSubplot at 0x7fa78853df90>"
            ]
          },
          "metadata": {},
          "execution_count": 124
        },
        {
          "output_type": "display_data",
          "data": {
            "text/plain": [
              "<Figure size 432x288 with 1 Axes>"
            ],
            "image/png": "[encoded data removed]"
          },
          "metadata": {
            "needs_background": "light"
          }
        }
      ],
      "source": [
        "# Plot the predictions and the training dataframe with colors and less bins\n",
        "# for better visualitation of the data ploted\n",
        "sns.histplot(y_pred, color='red', bins=50)\n",
        "sns.histplot(y_train, color='blue', bins=50)"
      ]
    },
    {
      "cell_type": "code",
      "execution_count": 125,
      "metadata": {
        "colab": {
          "base_uri": "https://localhost:8080/",
          "height": 284
        },
        "id": "9u2MeC2MsSw8",
        "outputId": "0f58e831-63ec-4bfa-a841-89162c32a481"
      },
      "outputs": [
        {
          "output_type": "execute_result",
          "data": {
            "text/plain": [
              "<matplotlib.axes._subplots.AxesSubplot at 0x7fa78832a790>"
            ]
          },
          "metadata": {},
          "execution_count": 125
        },
        {
          "output_type": "display_data",
          "data": {
            "text/plain": [
              "<Figure size 432x288 with 1 Axes>"
            ],
            "image/png": "[encoded data removed]"
          },
          "metadata": {
            "needs_background": "light"
          }
        }
      ],
      "source": [
        "# Plot the predictions and the training dataframe with colors, less bins and a bit transparent\n",
        "# for better visualitation of the data ploted\n",
        "sns.histplot(y_pred, color='red', alpha=0.5, bins=50)\n",
        "sns.histplot(y_train, color='blue', alpha=0.5, bins=50)\n",
        "\n",
        "# from this plot we see that the shape of prediction (red bars) is predict a smaller value compare\n",
        "# with the target values, just looking for this chart we can see our model might not be ideal\n",
        "# we need to have an objective way to saying that is this module good or not good \n",
        "# and when we start improving our model we want to make sure that we indeed improve our model\n",
        "# and not just by looking at the charts and for that in the next we will use the RMSE \n",
        "# that means Root Mean Square Error and this is a way to objectively evaluate the performance\n",
        "# of the regression models"
      ]
    },
    {
      "cell_type": "markdown",
      "metadata": {
        "id": "i_n1olWmx_oz"
      },
      "source": [
        "###2.9 RMSE"
      ]
    },
    {
      "cell_type": "code",
      "execution_count": 126,
      "metadata": {
        "id": "rPrGQmNWtGmA"
      },
      "outputs": [],
      "source": [
        "# Define a function for RMSE using the y values and y prediction\n",
        "def rmse(y, y_pred):\n",
        "\n",
        "  # Store the error the difference between y and y prediction\n",
        "  error = y - y_pred \n",
        "\n",
        "  # Squared error value\n",
        "  se = error ** 2\n",
        "\n",
        "  # Store the mean (average) square error\n",
        "  mse = se.mean()\n",
        "\n",
        "  # Return the square root of mean square error\n",
        "  return np.sqrt(mse)"
      ]
    },
    {
      "cell_type": "code",
      "execution_count": 127,
      "metadata": {
        "colab": {
          "base_uri": "https://localhost:8080/"
        },
        "id": "LWB2wWfHdsH5",
        "outputId": "111597d1-bf31-409c-a105-c8811564ffd2"
      },
      "outputs": [
        {
          "output_type": "execute_result",
          "data": {
            "text/plain": [
              "0.7554192603920132"
            ]
          },
          "metadata": {},
          "execution_count": 127
        }
      ],
      "source": [
        "# Call the function RMSE\n",
        "rmse(y_train, y_pred)"
      ]
    },
    {
      "cell_type": "markdown",
      "metadata": {
        "id": "vwh4aO6pfLLF"
      },
      "source": [
        "###2.10 Validating the model"
      ]
    },
    {
      "cell_type": "code",
      "execution_count": 128,
      "metadata": {
        "colab": {
          "base_uri": "https://localhost:8080/"
        },
        "id": "gz5yKYXZeGjA",
        "outputId": "bd3a4af2-b3f6-4e0d-8340-2f4eb9b775c8"
      },
      "outputs": [
        {
          "output_type": "execute_result",
          "data": {
            "text/plain": [
              "['engine_hp', 'engine_cylinders', 'highway_mpg', 'city_mpg', 'popularity']"
            ]
          },
          "metadata": {},
          "execution_count": 128
        }
      ],
      "source": [
        "# Create base list with 5 numerical columns\n",
        "base = ['engine_hp', 'engine_cylinders', 'highway_mpg', 'city_mpg', 'popularity']\n",
        "base"
      ]
    },
    {
      "cell_type": "code",
      "execution_count": 129,
      "metadata": {
        "colab": {
          "base_uri": "https://localhost:8080/"
        },
        "id": "tA0FHzPih0nx",
        "outputId": "2c89802a-9f09-4e27-bc8e-a38876fa8a38"
      },
      "outputs": [
        {
          "output_type": "execute_result",
          "data": {
            "text/plain": [
              "array([[ 148.,    4.,   33.,   24., 1385.],\n",
              "       [ 132.,    4.,   32.,   25., 2031.],\n",
              "       [ 148.,    4.,   37.,   28.,  640.],\n",
              "       ...,\n",
              "       [ 285.,    6.,   22.,   17.,  549.],\n",
              "       [ 563.,   12.,   21.,   13.,   86.],\n",
              "       [ 200.,    4.,   31.,   22.,  873.]])"
            ]
          },
          "metadata": {},
          "execution_count": 129
        }
      ],
      "source": [
        "# Fill the missing values in the training dataframe with zeros\n",
        "X_train = df_train[base].fillna(0).values\n",
        "X_train"
      ]
    },
    {
      "cell_type": "code",
      "execution_count": 130,
      "metadata": {
        "id": "yWOYrI-Oh223"
      },
      "outputs": [],
      "source": [
        "# Store the result of the function train linear regression with our bias term\n",
        "w0, w = train_linear_regression(X_train, y_train)"
      ]
    },
    {
      "cell_type": "code",
      "execution_count": 131,
      "metadata": {
        "colab": {
          "base_uri": "https://localhost:8080/"
        },
        "id": "W4LWNWMeiwkL",
        "outputId": "ea240340-f849-4b5d-a3ae-99c932d30a34"
      },
      "outputs": [
        {
          "output_type": "execute_result",
          "data": {
            "text/plain": [
              "array([ 9.54792783,  9.38733977,  9.67197758, ..., 10.30423015,\n",
              "       11.9778914 ,  9.99863111])"
            ]
          },
          "metadata": {},
          "execution_count": 131
        }
      ],
      "source": [
        "# now we can use these weights to make predictions\n",
        "y_pred = w0 + X_train.dot(w)\n",
        "y_pred"
      ]
    },
    {
      "cell_type": "code",
      "execution_count": 1,
      "metadata": {
        "id": "XHpjpgaKlnak"
      },
      "outputs": [],
      "source": [
        "# Create function prepare X\n",
        "def prepare_X(df):\n",
        "  \n",
        "  # from this line of code: X_train = df_train[base].fillna(0).values\n",
        "  # we are going to decompose it into multiple lines of code\n",
        "  # so from one line now we have five lines\n",
        "\n",
        "  # first step we create a dataframe with numbers\n",
        "  df_num = df[base]\n",
        "\n",
        "  # Second step we filling the missing values\n",
        "  df_num = df_num.fillna(0)\n",
        "\n",
        "  # Last step we extracting the feature matrix, the numpy array\n",
        "  X = df_num.values\n",
        "\n",
        "  # Return the numpy array X\n",
        "  return X"
      ]
    },
    {
      "cell_type": "code",
      "source": [
        "# Part 1 - Training: prepare the training dataset\n",
        "\n",
        "# Use the function prepare X with the training dataframe\n",
        "X_train = prepare_X(df_train)\n",
        "\n",
        "# Store the result of the function train linear regression with our bias term\n",
        "w0, w = train_linear_regression(X_train, y_train)\n",
        "\n",
        "# And then let's train the model again\n",
        "# we prepare the matrix and we train the model then we again\n",
        "# prepare the matrix and this time we prepare our validation data\n",
        "# so we use the same function except that instead of using the train\n",
        "# dataset we use the validation dataset and then finaly we do predictions\n",
        "\n",
        "# Part 2 - Validation: prepare the validation dataset \n",
        "\n",
        "# Use the function prepare X with the validation dataframe\n",
        "X_val = prepare_X(df_val)\n",
        "\n",
        "# do the predictions so we apply the linear regression\n",
        "# the weigths we have but instead of applying them to the training data set\n",
        "# we apply to the feature matrix from the validation dataset\n",
        "\n",
        "# Create y prediction using linear regression\n",
        "y_pred = w0 + X_val.dot(w)\n",
        "\n",
        "# Use RMSE with the prediction and validation\n",
        "rmse(y_val, y_pred)\n",
        "\n",
        "# note the values below its pretty similar to what we had\n",
        "# with rmse(y_train, y_pred)\n",
        "# output: 0.7554192...\n",
        "\n",
        "# now we have a way of evaluating the quality of our model using RMSE\n",
        "# and we can do this on the validation dataset and now we can work on improving the model"
      ],
      "metadata": {
        "colab": {
          "base_uri": "https://localhost:8080/"
        },
        "id": "pOnVtTU59EKA",
        "outputId": "85273a24-43db-473d-bb3c-b77425a691b1"
      },
      "execution_count": 135,
      "outputs": [
        {
          "output_type": "execute_result",
          "data": {
            "text/plain": [
              "0.761653099130156"
            ]
          },
          "metadata": {},
          "execution_count": 135
        }
      ]
    },
    {
      "cell_type": "markdown",
      "source": [
        "###2.11 Simple feature engineering"
      ],
      "metadata": {
        "id": "CxqIlKh3Hv0E"
      }
    },
    {
      "cell_type": "code",
      "source": [
        "# Print the training dataset\n",
        "df_train\n",
        "\n",
        "# here we can see we have year variable and its one of the most\n",
        "# columns for predicting the price of the car \n",
        "# if the car is old its cheaoer and if the car is new is more expensive"
      ],
      "metadata": {
        "colab": {
          "base_uri": "https://localhost:8080/",
          "height": 488
        },
        "id": "Fk5L437GC-oi",
        "outputId": "c5b19f66-9f23-4541-d847-cf306447cca2"
      },
      "execution_count": 139,
      "outputs": [
        {
          "output_type": "execute_result",
          "data": {
            "text/plain": [
              "             make        model  year                engine_fuel_type  \\\n",
              "0       chevrolet       cobalt  2008                regular_unleaded   \n",
              "1          toyota       matrix  2012                regular_unleaded   \n",
              "2          subaru      impreza  2016                regular_unleaded   \n",
              "3      volkswagen      vanagon  1991                regular_unleaded   \n",
              "4            ford        f-150  2017        flex-fuel_(unleaded/e85)   \n",
              "...           ...          ...   ...                             ...   \n",
              "7145          bmw     4_series  2015     premium_unleaded_(required)   \n",
              "7146   volkswagen       beetle  2015  premium_unleaded_(recommended)   \n",
              "7147          gmc  sierra_1500  2015        flex-fuel_(unleaded/e85)   \n",
              "7148  rolls-royce        ghost  2014     premium_unleaded_(required)   \n",
              "7149   volkswagen           cc  2017  premium_unleaded_(recommended)   \n",
              "\n",
              "      engine_hp  engine_cylinders transmission_type      driven_wheels  \\\n",
              "0         148.0               4.0            manual  front_wheel_drive   \n",
              "1         132.0               4.0         automatic  front_wheel_drive   \n",
              "2         148.0               4.0         automatic    all_wheel_drive   \n",
              "3          90.0               4.0            manual   rear_wheel_drive   \n",
              "4         385.0               8.0         automatic   four_wheel_drive   \n",
              "...         ...               ...               ...                ...   \n",
              "7145      300.0               6.0         automatic   rear_wheel_drive   \n",
              "7146      210.0               4.0  automated_manual  front_wheel_drive   \n",
              "7147      285.0               6.0         automatic   four_wheel_drive   \n",
              "7148      563.0              12.0         automatic   rear_wheel_drive   \n",
              "7149      200.0               4.0  automated_manual  front_wheel_drive   \n",
              "\n",
              "      number_of_doors            market_category vehicle_size  \\\n",
              "0                 2.0                        NaN      compact   \n",
              "1                 4.0                  hatchback      compact   \n",
              "2                 4.0                  hatchback      compact   \n",
              "3                 3.0                        NaN        large   \n",
              "4                 4.0                  flex_fuel        large   \n",
              "...               ...                        ...          ...   \n",
              "7145              2.0         luxury,performance      midsize   \n",
              "7146              2.0      hatchback,performance      compact   \n",
              "7147              4.0                  flex_fuel        large   \n",
              "7148              4.0  exotic,luxury,performance        large   \n",
              "7149              4.0                performance      midsize   \n",
              "\n",
              "            vehicle_style  highway_mpg  city_mpg  popularity  \n",
              "0                   coupe           33        24        1385  \n",
              "1           4dr_hatchback           32        25        2031  \n",
              "2           4dr_hatchback           37        28         640  \n",
              "3       passenger_minivan           18        16         873  \n",
              "4         crew_cab_pickup           21        15        5657  \n",
              "...                   ...          ...       ...         ...  \n",
              "7145          convertible           31        20        3916  \n",
              "7146        2dr_hatchback           30        24         873  \n",
              "7147  extended_cab_pickup           22        17         549  \n",
              "7148                sedan           21        13          86  \n",
              "7149                sedan           31        22         873  \n",
              "\n",
              "[7150 rows x 15 columns]"
            ],
            "text/html": [
              "\n",
              "  <div id=\"df-992234ba-b783-4a2c-b6ca-6de9e7dc1e1e\">\n",
              "    <div class=\"colab-df-container\">\n",
              "      <div>\n",
              "<style scoped>\n",
              "    .dataframe tbody tr th:only-of-type {\n",
              "        vertical-align: middle;\n",
              "    }\n",
              "\n",
              "    .dataframe tbody tr th {\n",
              "        vertical-align: top;\n",
              "    }\n",
              "\n",
              "    .dataframe thead th {\n",
              "        text-align: right;\n",
              "    }\n",
              "</style>\n",
              "<table border=\"1\" class=\"dataframe\">\n",
              "  <thead>\n",
              "    <tr style=\"text-align: right;\">\n",
              "      <th></th>\n",
              "      <th>make</th>\n",
              "      <th>model</th>\n",
              "      <th>year</th>\n",
              "      <th>engine_fuel_type</th>\n",
              "      <th>engine_hp</th>\n",
              "      <th>engine_cylinders</th>\n",
              "      <th>transmission_type</th>\n",
              "      <th>driven_wheels</th>\n",
              "      <th>number_of_doors</th>\n",
              "      <th>market_category</th>\n",
              "      <th>vehicle_size</th>\n",
              "      <th>vehicle_style</th>\n",
              "      <th>highway_mpg</th>\n",
              "      <th>city_mpg</th>\n",
              "      <th>popularity</th>\n",
              "    </tr>\n",
              "  </thead>\n",
              "  <tbody>\n",
              "    <tr>\n",
              "      <th>0</th>\n",
              "      <td>chevrolet</td>\n",
              "      <td>cobalt</td>\n",
              "      <td>2008</td>\n",
              "      <td>regular_unleaded</td>\n",
              "      <td>148.0</td>\n",
              "      <td>4.0</td>\n",
              "      <td>manual</td>\n",
              "      <td>front_wheel_drive</td>\n",
              "      <td>2.0</td>\n",
              "      <td>NaN</td>\n",
              "      <td>compact</td>\n",
              "      <td>coupe</td>\n",
              "      <td>33</td>\n",
              "      <td>24</td>\n",
              "      <td>1385</td>\n",
              "    </tr>\n",
              "    <tr>\n",
              "      <th>1</th>\n",
              "      <td>toyota</td>\n",
              "      <td>matrix</td>\n",
              "      <td>2012</td>\n",
              "      <td>regular_unleaded</td>\n",
              "      <td>132.0</td>\n",
              "      <td>4.0</td>\n",
              "      <td>automatic</td>\n",
              "      <td>front_wheel_drive</td>\n",
              "      <td>4.0</td>\n",
              "      <td>hatchback</td>\n",
              "      <td>compact</td>\n",
              "      <td>4dr_hatchback</td>\n",
              "      <td>32</td>\n",
              "      <td>25</td>\n",
              "      <td>2031</td>\n",
              "    </tr>\n",
              "    <tr>\n",
              "      <th>2</th>\n",
              "      <td>subaru</td>\n",
              "      <td>impreza</td>\n",
              "      <td>2016</td>\n",
              "      <td>regular_unleaded</td>\n",
              "      <td>148.0</td>\n",
              "      <td>4.0</td>\n",
              "      <td>automatic</td>\n",
              "      <td>all_wheel_drive</td>\n",
              "      <td>4.0</td>\n",
              "      <td>hatchback</td>\n",
              "      <td>compact</td>\n",
              "      <td>4dr_hatchback</td>\n",
              "      <td>37</td>\n",
              "      <td>28</td>\n",
              "      <td>640</td>\n",
              "    </tr>\n",
              "    <tr>\n",
              "      <th>3</th>\n",
              "      <td>volkswagen</td>\n",
              "      <td>vanagon</td>\n",
              "      <td>1991</td>\n",
              "      <td>regular_unleaded</td>\n",
              "      <td>90.0</td>\n",
              "      <td>4.0</td>\n",
              "      <td>manual</td>\n",
              "      <td>rear_wheel_drive</td>\n",
              "      <td>3.0</td>\n",
              "      <td>NaN</td>\n",
              "      <td>large</td>\n",
              "      <td>passenger_minivan</td>\n",
              "      <td>18</td>\n",
              "      <td>16</td>\n",
              "      <td>873</td>\n",
              "    </tr>\n",
              "    <tr>\n",
              "      <th>4</th>\n",
              "      <td>ford</td>\n",
              "      <td>f-150</td>\n",
              "      <td>2017</td>\n",
              "      <td>flex-fuel_(unleaded/e85)</td>\n",
              "      <td>385.0</td>\n",
              "      <td>8.0</td>\n",
              "      <td>automatic</td>\n",
              "      <td>four_wheel_drive</td>\n",
              "      <td>4.0</td>\n",
              "      <td>flex_fuel</td>\n",
              "      <td>large</td>\n",
              "      <td>crew_cab_pickup</td>\n",
              "      <td>21</td>\n",
              "      <td>15</td>\n",
              "      <td>5657</td>\n",
              "    </tr>\n",
              "    <tr>\n",
              "      <th>...</th>\n",
              "      <td>...</td>\n",
              "      <td>...</td>\n",
              "      <td>...</td>\n",
              "      <td>...</td>\n",
              "      <td>...</td>\n",
              "      <td>...</td>\n",
              "      <td>...</td>\n",
              "      <td>...</td>\n",
              "      <td>...</td>\n",
              "      <td>...</td>\n",
              "      <td>...</td>\n",
              "      <td>...</td>\n",
              "      <td>...</td>\n",
              "      <td>...</td>\n",
              "      <td>...</td>\n",
              "    </tr>\n",
              "    <tr>\n",
              "      <th>7145</th>\n",
              "      <td>bmw</td>\n",
              "      <td>4_series</td>\n",
              "      <td>2015</td>\n",
              "      <td>premium_unleaded_(required)</td>\n",
              "      <td>300.0</td>\n",
              "      <td>6.0</td>\n",
              "      <td>automatic</td>\n",
              "      <td>rear_wheel_drive</td>\n",
              "      <td>2.0</td>\n",
              "      <td>luxury,performance</td>\n",
              "      <td>midsize</td>\n",
              "      <td>convertible</td>\n",
              "      <td>31</td>\n",
              "      <td>20</td>\n",
              "      <td>3916</td>\n",
              "    </tr>\n",
              "    <tr>\n",
              "      <th>7146</th>\n",
              "      <td>volkswagen</td>\n",
              "      <td>beetle</td>\n",
              "      <td>2015</td>\n",
              "      <td>premium_unleaded_(recommended)</td>\n",
              "      <td>210.0</td>\n",
              "      <td>4.0</td>\n",
              "      <td>automated_manual</td>\n",
              "      <td>front_wheel_drive</td>\n",
              "      <td>2.0</td>\n",
              "      <td>hatchback,performance</td>\n",
              "      <td>compact</td>\n",
              "      <td>2dr_hatchback</td>\n",
              "      <td>30</td>\n",
              "      <td>24</td>\n",
              "      <td>873</td>\n",
              "    </tr>\n",
              "    <tr>\n",
              "      <th>7147</th>\n",
              "      <td>gmc</td>\n",
              "      <td>sierra_1500</td>\n",
              "      <td>2015</td>\n",
              "      <td>flex-fuel_(unleaded/e85)</td>\n",
              "      <td>285.0</td>\n",
              "      <td>6.0</td>\n",
              "      <td>automatic</td>\n",
              "      <td>four_wheel_drive</td>\n",
              "      <td>4.0</td>\n",
              "      <td>flex_fuel</td>\n",
              "      <td>large</td>\n",
              "      <td>extended_cab_pickup</td>\n",
              "      <td>22</td>\n",
              "      <td>17</td>\n",
              "      <td>549</td>\n",
              "    </tr>\n",
              "    <tr>\n",
              "      <th>7148</th>\n",
              "      <td>rolls-royce</td>\n",
              "      <td>ghost</td>\n",
              "      <td>2014</td>\n",
              "      <td>premium_unleaded_(required)</td>\n",
              "      <td>563.0</td>\n",
              "      <td>12.0</td>\n",
              "      <td>automatic</td>\n",
              "      <td>rear_wheel_drive</td>\n",
              "      <td>4.0</td>\n",
              "      <td>exotic,luxury,performance</td>\n",
              "      <td>large</td>\n",
              "      <td>sedan</td>\n",
              "      <td>21</td>\n",
              "      <td>13</td>\n",
              "      <td>86</td>\n",
              "    </tr>\n",
              "    <tr>\n",
              "      <th>7149</th>\n",
              "      <td>volkswagen</td>\n",
              "      <td>cc</td>\n",
              "      <td>2017</td>\n",
              "      <td>premium_unleaded_(recommended)</td>\n",
              "      <td>200.0</td>\n",
              "      <td>4.0</td>\n",
              "      <td>automated_manual</td>\n",
              "      <td>front_wheel_drive</td>\n",
              "      <td>4.0</td>\n",
              "      <td>performance</td>\n",
              "      <td>midsize</td>\n",
              "      <td>sedan</td>\n",
              "      <td>31</td>\n",
              "      <td>22</td>\n",
              "      <td>873</td>\n",
              "    </tr>\n",
              "  </tbody>\n",
              "</table>\n",
              "<p>7150 rows × 15 columns</p>\n",
              "</div>\n",
              "      <button class=\"colab-df-convert\" onclick=\"convertToInteractive('df-992234ba-b783-4a2c-b6ca-6de9e7dc1e1e')\"\n",
              "              title=\"Convert this dataframe to an interactive table.\"\n",
              "              style=\"display:none;\">\n",
              "        \n",
              "  <svg xmlns=\"http://www.w3.org/2000/svg\" height=\"24px\"viewBox=\"0 0 24 24\"\n",
              "       width=\"24px\">\n",
              "    <path d=\"M0 0h24v24H0V0z\" fill=\"none\"/>\n",
              "    <path d=\"M18.56 5.44l.94 2.06.94-2.06 2.06-.94-2.06-.94-.94-2.06-.94 2.06-2.06.94zm-11 1L8.5 8.5l.94-2.06 2.06-.94-2.06-.94L8.5 2.5l-.94 2.06-2.06.94zm10 10l.94 2.06.94-2.06 2.06-.94-2.06-.94-.94-2.06-.94 2.06-2.06.94z\"/><path d=\"M17.41 7.96l-1.37-1.37c-.4-.4-.92-.59-1.43-.59-.52 0-1.04.2-1.43.59L10.3 9.45l-7.72 7.72c-.78.78-.78 2.05 0 2.83L4 21.41c.39.39.9.59 1.41.59.51 0 1.02-.2 1.41-.59l7.78-7.78 2.81-2.81c.8-.78.8-2.07 0-2.86zM5.41 20L4 18.59l7.72-7.72 1.47 1.35L5.41 20z\"/>\n",
              "  </svg>\n",
              "      </button>\n",
              "      \n",
              "  <style>\n",
              "    .colab-df-container {\n",
              "      display:flex;\n",
              "      flex-wrap:wrap;\n",
              "      gap: 12px;\n",
              "    }\n",
              "\n",
              "    .colab-df-convert {\n",
              "      background-color: #E8F0FE;\n",
              "      border: none;\n",
              "      border-radius: 50%;\n",
              "      cursor: pointer;\n",
              "      display: none;\n",
              "      fill: #1967D2;\n",
              "      height: 32px;\n",
              "      padding: 0 0 0 0;\n",
              "      width: 32px;\n",
              "    }\n",
              "\n",
              "    .colab-df-convert:hover {\n",
              "      background-color: #E2EBFA;\n",
              "      box-shadow: 0px 1px 2px rgba(60, 64, 67, 0.3), 0px 1px 3px 1px rgba(60, 64, 67, 0.15);\n",
              "      fill: #174EA6;\n",
              "    }\n",
              "\n",
              "    [theme=dark] .colab-df-convert {\n",
              "      background-color: #3B4455;\n",
              "      fill: #D2E3FC;\n",
              "    }\n",
              "\n",
              "    [theme=dark] .colab-df-convert:hover {\n",
              "      background-color: #434B5C;\n",
              "      box-shadow: 0px 1px 3px 1px rgba(0, 0, 0, 0.15);\n",
              "      filter: drop-shadow(0px 1px 2px rgba(0, 0, 0, 0.3));\n",
              "      fill: #FFFFFF;\n",
              "    }\n",
              "  </style>\n",
              "\n",
              "      <script>\n",
              "        const buttonEl =\n",
              "          document.querySelector('#df-992234ba-b783-4a2c-b6ca-6de9e7dc1e1e button.colab-df-convert');\n",
              "        buttonEl.style.display =\n",
              "          google.colab.kernel.accessAllowed ? 'block' : 'none';\n",
              "\n",
              "        async function convertToInteractive(key) {\n",
              "          const element = document.querySelector('#df-992234ba-b783-4a2c-b6ca-6de9e7dc1e1e');\n",
              "          const dataTable =\n",
              "            await google.colab.kernel.invokeFunction('convertToInteractive',\n",
              "                                                     [key], {});\n",
              "          if (!dataTable) return;\n",
              "\n",
              "          const docLinkHtml = 'Like what you see? Visit the ' +\n",
              "            '<a target=\"_blank\" href=https://colab.research.google.com/notebooks/data_table.ipynb>data table notebook</a>'\n",
              "            + ' to learn more about interactive tables.';\n",
              "          element.innerHTML = '';\n",
              "          dataTable['output_type'] = 'display_data';\n",
              "          await google.colab.output.renderOutput(dataTable, element);\n",
              "          const docLink = document.createElement('div');\n",
              "          docLink.innerHTML = docLinkHtml;\n",
              "          element.appendChild(docLink);\n",
              "        }\n",
              "      </script>\n",
              "    </div>\n",
              "  </div>\n",
              "  "
            ]
          },
          "metadata": {},
          "execution_count": 139
        }
      ]
    },
    {
      "cell_type": "code",
      "source": [
        "# instead of use the year we want the age\n",
        "# and for that we need to know when the data was collected\n",
        "# we do: Use the function max to find the recent year with the training dataset\n",
        "df_train.year.max()"
      ],
      "metadata": {
        "colab": {
          "base_uri": "https://localhost:8080/"
        },
        "id": "FdX2gE9EIJSa",
        "outputId": "ab7f361c-b8f3-4c3e-c849-750444413a45"
      },
      "execution_count": 138,
      "outputs": [
        {
          "output_type": "execute_result",
          "data": {
            "text/plain": [
              "2017"
            ]
          },
          "metadata": {},
          "execution_count": 138
        }
      ]
    },
    {
      "cell_type": "code",
      "source": [
        "# now we want to compute how old the cars are\n",
        "2017 - df_train.year\n",
        "\n",
        "# we can see some of the cars are 9 years old some are zero years old\n",
        "# so this is the age of the car and we want use this as one of the features in our model"
      ],
      "metadata": {
        "colab": {
          "base_uri": "https://localhost:8080/"
        },
        "id": "4csKMKr1K8Fr",
        "outputId": "40ac6995-cc93-4a10-f11e-18a4e4abf186"
      },
      "execution_count": 141,
      "outputs": [
        {
          "output_type": "execute_result",
          "data": {
            "text/plain": [
              "0        9\n",
              "1        5\n",
              "2        1\n",
              "3       26\n",
              "4        0\n",
              "        ..\n",
              "7145     2\n",
              "7146     2\n",
              "7147     2\n",
              "7148     3\n",
              "7149     0\n",
              "Name: year, Length: 7150, dtype: int64"
            ]
          },
          "metadata": {},
          "execution_count": 141
        }
      ]
    },
    {
      "cell_type": "code",
      "source": [
        "# Use the function prepare X with age feature\n",
        "def prepare_X(df):\n",
        "\n",
        "  # Create the column price with dataframe\n",
        "  df['age'] = 2017 - df.year\n",
        "\n",
        "  # Create list features that contains baseline numeric features plus the age feature\n",
        "  features = base + ['age']\n",
        "\n",
        "  # Use list features to create a dataframe with numbers\n",
        "  df_num = df[features]\n",
        "\n",
        "  # Filling the missing values of the dataframe\n",
        "  df_num = df_num.fillna(0)\n",
        "\n",
        "  # Extracting the feature matrix and return the numpy array\n",
        "  X = df_num.values\n",
        "  return X"
      ],
      "metadata": {
        "id": "7W5yKwJfLD19"
      },
      "execution_count": 142,
      "outputs": []
    },
    {
      "cell_type": "code",
      "source": [
        "# mow use the function prepare X\n",
        "\n",
        "# Use the function prepare X with the training dataframe\n",
        "X_train = prepare_X(df_train)"
      ],
      "metadata": {
        "id": "14qhBqUaO85B"
      },
      "execution_count": 143,
      "outputs": []
    },
    {
      "cell_type": "code",
      "source": [
        "# Check we added the new column called age to the training dataframe\n",
        "df_train.dtypes"
      ],
      "metadata": {
        "colab": {
          "base_uri": "https://localhost:8080/"
        },
        "id": "kb0bkyLeQcPZ",
        "outputId": "364597af-c22b-4019-f153-b92ef3ee397e"
      },
      "execution_count": 144,
      "outputs": [
        {
          "output_type": "execute_result",
          "data": {
            "text/plain": [
              "make                  object\n",
              "model                 object\n",
              "year                   int64\n",
              "engine_fuel_type      object\n",
              "engine_hp            float64\n",
              "engine_cylinders     float64\n",
              "transmission_type     object\n",
              "driven_wheels         object\n",
              "number_of_doors      float64\n",
              "market_category       object\n",
              "vehicle_size          object\n",
              "vehicle_style         object\n",
              "highway_mpg            int64\n",
              "city_mpg               int64\n",
              "popularity             int64\n",
              "age                    int64\n",
              "dtype: object"
            ]
          },
          "metadata": {},
          "execution_count": 144
        }
      ]
    },
    {
      "cell_type": "code",
      "source": [
        "# we can see we modified our dataframe and this is not something we should do\n",
        "# in the function prepare X. If something go wrong then cannot be undone\n",
        "# so its better pratice the function does not modified the dataframe \n",
        "# for that before doing all the code inside the function, or before adding new columns\n",
        "# and what we do it just take a copy and then work with the copy\n",
        "# working the a copy of the dataframe the original dataframe will not change"
      ],
      "metadata": {
        "id": "lHY4syw_Q571"
      },
      "execution_count": null,
      "outputs": []
    },
    {
      "cell_type": "code",
      "source": [
        "# Before to the copy lets remove the age column from the dataframe\n",
        "del df_train['age']"
      ],
      "metadata": {
        "id": "DaDFiOodTfB5"
      },
      "execution_count": 145,
      "outputs": []
    },
    {
      "cell_type": "code",
      "source": [
        "# Use the function prepare X with age feature but now before we do a copy of the dataframe\n",
        "def prepare_X(df):\n",
        "\n",
        "  # Work with a copy of the dataframe\n",
        "  df = df.copy()\n",
        "\n",
        "  # Create the column price with dataframe\n",
        "  df['age'] = 2017 - df.year\n",
        "\n",
        "  # Create list features that contains baseline numeric features plus the age feature\n",
        "  features = base + ['age']\n",
        "\n",
        "  # Use list features to create a dataframe with numbers\n",
        "  df_num = df[features]\n",
        "\n",
        "  "
      ],
      "metadata": {
        "id": "dYQxoNqtTgHo"
      },
      "execution_count": null,
      "outputs": []
    }
  ],
  "metadata": {
    "colab": {
      "collapsed_sections": [],
      "provenance": [],
      "include_colab_link": true
    },
    "kernelspec": {
      "display_name": "Python 3",
      "name": "python3"
    },
    "language_info": {
      "name": "python"
    }
  },
  "nbformat": 4,
  "nbformat_minor": 0
}