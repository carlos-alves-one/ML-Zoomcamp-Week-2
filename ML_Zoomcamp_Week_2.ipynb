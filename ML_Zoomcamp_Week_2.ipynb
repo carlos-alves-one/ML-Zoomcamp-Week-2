{
  "nbformat": 4,
  "nbformat_minor": 0,
  "metadata": {
    "colab": {
      "provenance": [],
      "collapsed_sections": [],
      "authorship_tag": "ABX9TyNUnwhwUQevp0bbXa1rZDbs",
      "include_colab_link": true
    },
    "kernelspec": {
      "name": "python3",
      "display_name": "Python 3"
    },
    "language_info": {
      "name": "python"
    }
  },
  "cells": [
    {
      "cell_type": "markdown",
      "metadata": {
        "id": "view-in-github",
        "colab_type": "text"
      },
      "source": [
        "<a href=\"https://colab.research.google.com/github/carlos-alves-one/-ML-Zoomcamp-Week-2/blob/main/ML_Zoomcamp_Week_2.ipynb\" target=\"_parent\"><img src=\"https://colab.research.google.com/assets/colab-badge.svg\" alt=\"Open In Colab\"/></a>"
      ]
    },
    {
      "cell_type": "markdown",
      "source": [
        "## Goldsmiths University of London\n",
        "**Author....: Carlos Manuel de Oliveira Alves**<br>\n",
        "**Student..: cdeol003**<br>\n",
        "**Created..: 08/09/2022**"
      ],
      "metadata": {
        "id": "ConpS3vdjwQ1"
      }
    },
    {
      "cell_type": "markdown",
      "source": [
        "###2. Machine Learning for Regression"
      ],
      "metadata": {
        "id": "h59Y9r8bo6tP"
      }
    },
    {
      "cell_type": "code",
      "execution_count": 1,
      "metadata": {
        "id": "zEakOYWAjiOo"
      },
      "outputs": [],
      "source": [
        "# Import Pandas and Numpy libraries\n",
        "import pandas as pd\n",
        "import numpy as np"
      ]
    },
    {
      "cell_type": "code",
      "source": [],
      "metadata": {
        "id": "kP4dkEKwp3og"
      },
      "execution_count": null,
      "outputs": []
    }
  ]
}